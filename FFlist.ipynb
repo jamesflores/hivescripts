{
 "cells": [
  {
   "cell_type": "code",
   "execution_count": 1,
   "metadata": {},
   "outputs": [],
   "source": [
    "import re\n",
    "import pyodbc\n",
    "import pandas as pd\n",
    "import datetime\n",
    "import collections"
   ]
  },
  {
   "cell_type": "code",
   "execution_count": 28,
   "metadata": {},
   "outputs": [],
   "source": [
    "regex = r'(?<=^|(?<=[^a-zA-Z0-9-_\\./]))@([A-Za-z]+[A-Za-z0-9-_.]+[A-Za-z0-9-_])'"
   ]
  },
  {
   "cell_type": "code",
   "execution_count": 3,
   "metadata": {},
   "outputs": [],
   "source": [
    "with open('pw.txt') as f:\n",
    "    for l in f:\n",
    "        uname, pw = l.split()\n",
    "\n",
    "cnxn_str = (\"Driver={ODBC Driver 17 for SQL Server};\"\n",
    "            \"Server=vip.hivesql.io;\"\n",
    "            \"Database=DBHive;\"\n",
    "            f\"UID={uname};\"\n",
    "            f\"PWD={pw};\")\n",
    "cnxn = pyodbc.connect(cnxn_str)"
   ]
  },
  {
   "cell_type": "code",
   "execution_count": 32,
   "metadata": {},
   "outputs": [],
   "source": [
    "query=\"\"\"select c.title , c.created ,c.body \n",
    "from\n",
    "    Tags\n",
    "    INNER JOIN Comments c ON Tags.comment_id = C.ID\n",
    "WHERE\n",
    "    Tags.tag = 'followfriday'\n",
    "    and c.author = 'steevc'\n",
    "    and  c.[depth] =0\n",
    "    --and c.created > '2021-01-01'\n",
    "order by c.created \"\"\""
   ]
  },
  {
   "cell_type": "code",
   "execution_count": 36,
   "metadata": {},
   "outputs": [],
   "source": [
    "r = pd.read_sql(query, cnxn)\n",
    "users = []\n",
    "for i, l in r.iterrows():\n",
    "    for n in re.finditer(regex, l['body']):\n",
    "        users.append(n.group().lower())\n",
    "#collections.Counter(users)"
   ]
  },
  {
   "cell_type": "code",
   "execution_count": 53,
   "metadata": {},
   "outputs": [
    {
     "name": "stdout",
     "output_type": "stream",
     "text": [
      "|User|Mentions|Last Post|\n",
      "|-|-|-|\n",
      "|@coingecko|67|27-Jan-2021|\n",
      "|@slobberchops|40|19-Nov-2021|\n",
      "|@katharsisdrill|38|04-Oct-2021|\n",
      "|@steemflagrewards|33|25-Jul-2021|\n",
      "|@pennsif|30|26-Oct-2021|\n",
      "|@dickturpin|29|19-Nov-2021|\n",
      "|@tenkminnows|29|26-Oct-2021|\n",
      "|@the-bitcoin-dood|27|19-Nov-2021|\n",
      "|@arseniclullaby|24|03-Nov-2021|\n",
      "|@lloyddavis|23|15-Nov-2021|\n",
      "|@detlev|21|18-Nov-2021|\n",
      "|@splinterlands|21|18-Nov-2021|\n",
      "|@sidekickmatt|20|18-Nov-2021|\n",
      "|@northwestnomad|19|18-Nov-2021|\n",
      "|@stateofthedapps|19|26-Mar-2020|\n",
      "|@redrica|17|25-Dec-2020|\n",
      "|@nathanmars|16|19-Nov-2021|\n",
      "|@exhaust|16|18-Nov-2021|\n",
      "|@uwelang|15|17-Nov-2021|\n",
      "|@rebeccabe|15|01-Oct-2019|\n",
      "|@luzcypher|15|14-Sep-2020|\n",
      "|@papilloncharity|15|19-Nov-2021|\n",
      "|@drwatson|15|12-Nov-2021|\n",
      "|@silviabeneforti|14|19-Nov-2021|\n",
      "|@paolobeneforti|14|15-Nov-2021|\n",
      "|@dreamrafa|14|11-Oct-2021|\n",
      "|@ultravioletmag|14|19-Nov-2021|\n",
      "|@soundlegion|13|14-Nov-2021|\n",
      "|@stav|13|10-Nov-2021|\n",
      "|@roelandp|13|14-Nov-2021|\n",
      "|@steembasicincome|13|13-Nov-2021|\n",
      "|@c0ff33a|13|18-Nov-2021|\n",
      "|@risingstargame|13|19-Nov-2021|\n",
      "|@joyoftech|12|22-Oct-2018|\n",
      "|@revisesociology|12|19-Nov-2021|\n",
      "|@adetorrent|11|19-Nov-2021|\n",
      "|@bozz|11|19-Nov-2021|\n",
      "|@atheistrepublic|11|19-Nov-2021|\n",
      "|@teamhumble|10|18-Nov-2021|\n",
      "|@jumowa|10|14-Sep-2019|\n",
      "|@bryan-imhoff|10|18-Nov-2021|\n",
      "|@run.vince.run|10|19-Nov-2021|\n",
      "|@blewitt|10|19-Nov-2021|\n",
      "|@camuel|10|19-Nov-2021|\n",
      "|@steemmonsters|10|19-Nov-2021|\n",
      "|@paulag|10|12-Nov-2021|\n",
      "|@arcange|10|19-Nov-2021|\n",
      "|@ervin-lemark|9|19-Nov-2021|\n",
      "|@verhp11|9|18-Nov-2021|\n",
      "|@hockney|9|01-Mar-2020|\n"
     ]
    },
    {
     "ename": "NameError",
     "evalue": "name 'accounts' is not defined",
     "output_type": "error",
     "traceback": [
      "\u001b[0;31m---------------------------------------------------------------------------\u001b[0m",
      "\u001b[0;31mNameError\u001b[0m                                 Traceback (most recent call last)",
      "\u001b[0;32m<ipython-input-53-a0780a769038>\u001b[0m in \u001b[0;36m<module>\u001b[0;34m\u001b[0m\n\u001b[1;32m      6\u001b[0m     \u001b[0mlp\u001b[0m \u001b[0;34m=\u001b[0m \u001b[0mr\u001b[0m\u001b[0;34m.\u001b[0m\u001b[0mloc\u001b[0m\u001b[0;34m[\u001b[0m\u001b[0;36m0\u001b[0m\u001b[0;34m]\u001b[0m\u001b[0;34m.\u001b[0m\u001b[0mat\u001b[0m\u001b[0;34m[\u001b[0m\u001b[0;34m'last_post'\u001b[0m\u001b[0;34m]\u001b[0m\u001b[0;34m.\u001b[0m\u001b[0mstrftime\u001b[0m\u001b[0;34m(\u001b[0m\u001b[0;34m'%d-%b-%Y'\u001b[0m\u001b[0;34m)\u001b[0m\u001b[0;34m\u001b[0m\u001b[0;34m\u001b[0m\u001b[0m\n\u001b[1;32m      7\u001b[0m     \u001b[0mprint\u001b[0m\u001b[0;34m(\u001b[0m\u001b[0;34mf'|{u[0]}|{u[1]}|{lp}|'\u001b[0m\u001b[0;34m)\u001b[0m\u001b[0;34m\u001b[0m\u001b[0;34m\u001b[0m\u001b[0m\n\u001b[0;32m----> 8\u001b[0;31m \u001b[0maccounts\u001b[0m\u001b[0;34m.\u001b[0m\u001b[0mlast_post\u001b[0m\u001b[0;34m\u001b[0m\u001b[0;34m\u001b[0m\u001b[0m\n\u001b[0m",
      "\u001b[0;31mNameError\u001b[0m: name 'accounts' is not defined"
     ]
    }
   ],
   "source": [
    "print('''|User|Mentions|Last Post|\n",
    "|-|-|-|''')\n",
    "for u in collections.Counter(users).most_common(50):\n",
    "    n = u[0][1:]\n",
    "    r = pd.read_sql(f\"select last_post from accounts where name='{n}'\", cnxn)\n",
    "    lp = r.loc[0].at['last_post'].strftime('%d-%b-%Y')\n",
    "    print(f'|{u[0]}|{u[1]}|{lp}|')\n",
    "accounts.last_post"
   ]
  },
  {
   "cell_type": "code",
   "execution_count": 56,
   "metadata": {},
   "outputs": [
    {
     "data": {
      "text/plain": [
       "863"
      ]
     },
     "execution_count": 56,
     "metadata": {},
     "output_type": "execute_result"
    }
   ],
   "source": [
    "len(collections.Counter(users))"
   ]
  },
  {
   "cell_type": "code",
   "execution_count": null,
   "metadata": {},
   "outputs": [],
   "source": []
  }
 ],
 "metadata": {
  "kernelspec": {
   "display_name": "Python 3",
   "language": "python",
   "name": "python3"
  },
  "language_info": {
   "codemirror_mode": {
    "name": "ipython",
    "version": 3
   },
   "file_extension": ".py",
   "mimetype": "text/x-python",
   "name": "python",
   "nbconvert_exporter": "python",
   "pygments_lexer": "ipython3",
   "version": "3.8.5"
  }
 },
 "nbformat": 4,
 "nbformat_minor": 4
}
