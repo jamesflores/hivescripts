{
 "cells": [
  {
   "cell_type": "code",
   "execution_count": 1,
   "metadata": {},
   "outputs": [],
   "source": [
    "from datetime import datetime, timedelta, date\n",
    "from beem import Hive\n",
    "from beem.account import Account\n",
    "from beem.amount import Amount\n",
    "from beem.blockchain import Blockchain\n",
    "from beem.comment import Comment\n",
    "from beem.exceptions import ContentDoesNotExistsException\n",
    "from beem.instance import set_shared_blockchain_instance\n",
    "import random"
   ]
  },
  {
   "cell_type": "code",
   "execution_count": 2,
   "metadata": {},
   "outputs": [],
   "source": [
    "notified = []\n",
    "with open('notified.txt','r') as f:\n",
    "    for l in f:\n",
    "        notified.append(l.strip())\n",
    "        \n",
    "posting = ''\n",
    "with open('posting.txt','r') as f:\n",
    "    for l in f:\n",
    "        posting = l.strip()\n",
    "        \n",
    "postacc = 'proofofbrian'"
   ]
  },
  {
   "cell_type": "code",
   "execution_count": 3,
   "metadata": {},
   "outputs": [],
   "source": [
    "hive = Hive(node=['https://api.hive.blog'], keys={'posting':posting})\n",
    "set_shared_blockchain_instance(hive)\n",
    "chain = Blockchain()"
   ]
  },
  {
   "cell_type": "code",
   "execution_count": 4,
   "metadata": {},
   "outputs": [],
   "source": [
    "gifs=[\n",
    "    {'Pic':'https://upload.wikimedia.org/wikipedia/commons/0/0a/Brian_May_2015.jpg', 'Source':'https://commons.wikimedia.org/wiki/File:Brian_May_2015.jpg'}, \n",
    "    {'Pic':'https://upload.wikimedia.org/wikipedia/commons/thumb/f/f1/Professor_Brian_Cox_OBE_FRS.jpg/320px-Professor_Brian_Cox_OBE_FRS.jpg', 'Source':'https://commons.wikimedia.org/wiki/File:Professor_Brian_Cox_OBE_FRS.jpg'}, \n",
    "    {'Pic':'https://upload.wikimedia.org/wikipedia/commons/thumb/c/c4/Brian_Cant_2008.jpg/450px-Brian_Cant_2008.jpg','Source':'https://commons.wikimedia.org/wiki/File:Brian_Cant_2008.jpg'},\n",
    "    {'Pic':'https://upload.wikimedia.org/wikipedia/commons/thumb/2/2d/Brian_Cox_%282016%29_-_01.jpg/361px-Brian_Cox_%282016%29_-_01.jpg', 'Source':'https://commons.wikimedia.org/wiki/File:Brian_Cox_(2016)_-_01.jpg'},\n",
    "    {'Pic':'https://upload.wikimedia.org/wikipedia/commons/thumb/3/36/Brian_Johnson.jpg/481px-Brian_Johnson.jpg', 'Source':'https://commons.wikimedia.org/wiki/File:Brian_Johnson.jpg'}\n",
    "]"
   ]
  },
  {
   "cell_type": "code",
   "execution_count": 5,
   "metadata": {},
   "outputs": [],
   "source": [
    "def addComment(comm):\n",
    "    image = random.choice(gifs)\n",
    "    text = f'''Here is your Proof of Brian. I think you meant #ProofOfBrain\n",
    "![Brian]({image[\"Pic\"]})\n",
    "[Source]({image[\"Source\"]})'''\n",
    "    comm.reply(body=text,author=postacc)\n",
    "    #return text"
   ]
  },
  {
   "cell_type": "code",
   "execution_count": null,
   "metadata": {},
   "outputs": [
    {
     "name": "stdout",
     "output_type": "stream",
     "text": [
      "Found one cwow2 Instagram have snall dick energy 2021-11-17 11:00:12+00:00\n",
      "['hive-150329', 'archon', 'prooofofbrain', 'neoxian', 'palnet']\n",
      "Found one irehmunachi Introduction post to @OCD @irehmunachi 2021-11-17 11:49:48+00:00\n",
      "['hive-174578', 'introducemyself', 'introduction', 'leofinance', 'nigeria', 'ocd', 'prooofofbrain']\n"
     ]
    }
   ],
   "source": [
    "tracktags = set(['proofofbrian', 'profofbrain', 'profofbrian', 'prooffbrain', 'poofofbrain', 'proofofbran',\n",
    "                'roofofbrain', 'proofofbain', 'prooofofbrain', 'proofofbrin', 'proofoofbrain', 'proofofbrai',\n",
    "                'prufofbrain', 'proofofbrane', 'proofofrain'])\n",
    "while True:\n",
    "    try:\n",
    "        for post in chain.stream(opNames=\"comment\", threading=True, thread_num=5):\n",
    "            author = post['author']\n",
    "            c = Comment(post)\n",
    "            if c.is_main_post() and tracktags.intersection(post['tags']) and author not in notified:\n",
    "                #ismain = Comment(post).is_main_post()\n",
    "                print('Found one', author,post['title'], post['timestamp'])\n",
    "                print(post['tags'])\n",
    "                addComment(c)\n",
    "                c.upvote(voter=postacc)\n",
    "                notified.append(author)\n",
    "                with open('notified.txt', 'a') as f:\n",
    "                    f.write(f'{author}\\n')\n",
    "    except Exception as error:\n",
    "        print(repr(error))\n",
    "        continue\n"
   ]
  },
  {
   "cell_type": "code",
   "execution_count": null,
   "metadata": {},
   "outputs": [],
   "source": []
  }
 ],
 "metadata": {
  "kernelspec": {
   "display_name": "Python 3",
   "language": "python",
   "name": "python3"
  },
  "language_info": {
   "codemirror_mode": {
    "name": "ipython",
    "version": 3
   },
   "file_extension": ".py",
   "mimetype": "text/x-python",
   "name": "python",
   "nbconvert_exporter": "python",
   "pygments_lexer": "ipython3",
   "version": "3.8.5"
  }
 },
 "nbformat": 4,
 "nbformat_minor": 4
}
