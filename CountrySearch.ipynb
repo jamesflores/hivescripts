{
 "cells": [
  {
   "cell_type": "code",
   "execution_count": 1,
   "metadata": {},
   "outputs": [],
   "source": [
    "import pyodbc\n",
    "import pandas as pd\n",
    "import datetime"
   ]
  },
  {
   "cell_type": "code",
   "execution_count": 2,
   "metadata": {},
   "outputs": [],
   "source": [
    "with open('pw.txt') as f:\n",
    "    for l in f:\n",
    "        uname, pw = l.split()\n",
    "\n",
    "cnxn_str = (\"Driver={ODBC Driver 17 for SQL Server};\"\n",
    "            \"Server=vip.hivesql.io;\"\n",
    "            \"Database=DBHive;\"\n",
    "            f\"UID={uname};\"\n",
    "            f\"PWD={pw};\")\n",
    "cnxn = pyodbc.connect(cnxn_str)"
   ]
  },
  {
   "cell_type": "code",
   "execution_count": 16,
   "metadata": {},
   "outputs": [],
   "source": [
    "hw = []\n",
    "with open('all.txt','r') as f:\n",
    "    for l in f:\n",
    "        hw.append(l.strip().split()[0])"
   ]
  },
  {
   "cell_type": "code",
   "execution_count": 125,
   "metadata": {},
   "outputs": [],
   "source": [
    "ss = {\n",
    "    'Australia':[\"(JSON_VALUE(posting_json_metadata,'$.profile.location') like '%australia%' or \" +\n",
    "           \"JSON_VALUE(posting_json_metadata,'$.profile.location') like '%sydney%' or \" +\n",
    "          \"JSON_VALUE(posting_json_metadata,'$.profile.location') like '%tasmania%')\"],\n",
    "    'Austria':[\"(JSON_VALUE(posting_json_metadata,'$.profile.location') like '%austria%' or \" +\n",
    "          \"JSON_VALUE(posting_json_metadata,'$.profile.location') like '%vienna%')\"],\n",
    "    'Bangladesh':[\"(JSON_VALUE(posting_json_metadata,'$.profile.location') like '%bangladesh%' or \" +\n",
    "          \"JSON_VALUE(posting_json_metadata,'$.profile.location') like '%dhaka%')\"],\n",
    "    'Belgium':[\"(JSON_VALUE(posting_json_metadata,'$.profile.location') like '%belgium%' or \" +\n",
    "           \"JSON_VALUE(posting_json_metadata,'$.profile.location') like '%belgique%' or \" +\n",
    "          \"JSON_VALUE(posting_json_metadata,'$.profile.location') like '%brussels%')\"],\n",
    "    'Brasil':[\"(JSON_VALUE(posting_json_metadata,'$.profile.location') like '%brasil%' or \" +\n",
    "          \"JSON_VALUE(posting_json_metadata,'$.profile.location') like '%brazil%')\"],\n",
    "    'Egypt':[\"(JSON_VALUE(posting_json_metadata,'$.profile.location') like '%egypt%' or \" +\n",
    "          \"JSON_VALUE(posting_json_metadata,'$.profile.location') like '%cairo%')\"],\n",
    "    'Canada':[\"(JSON_VALUE(posting_json_metadata,'$.profile.location') like '%canada%' or \" +\n",
    "          \"JSON_VALUE(posting_json_metadata,'$.profile.location') like '%montreal%')\"],\n",
    "    'China':[\"(JSON_VALUE(posting_json_metadata,'$.profile.location') like '%china%' or \" +\n",
    "          \"JSON_VALUE(posting_json_metadata,'$.profile.location') like '%beijing%')\"],\n",
    "    'El Salvador':[\"(JSON_VALUE(posting_json_metadata,'$.profile.location') like '%el salvador%')\"],\n",
    "    'France':[\"(JSON_VALUE(posting_json_metadata,'$.profile.location') like '%france%' or \" +\n",
    "          \"JSON_VALUE(posting_json_metadata,'$.profile.location') like '%paris%' or \" +\n",
    "          \"JSON_VALUE(posting_json_metadata,'$.profile.location') like '%bordeaux%' or \" +\n",
    "          \"JSON_VALUE(posting_json_metadata,'$.profile.location') like '%brittany%' or \" +\n",
    "          \"JSON_VALUE(posting_json_metadata,'$.profile.location') like '%calais%')\"],\n",
    "    'Germany':[\"(JSON_VALUE(posting_json_metadata,'$.profile.location') like '%germany%' or \" +\n",
    "          \"JSON_VALUE(posting_json_metadata,'$.profile.location') like '%deutschland%' or \" +\n",
    "          \"JSON_VALUE(posting_json_metadata,'$.profile.location') like '%berlin%' or \" +\n",
    "          \"JSON_VALUE(posting_json_metadata,'$.profile.location') like '%bavaria%' or \" +\n",
    "          \"JSON_VALUE(posting_json_metadata,'$.profile.location') like '%bayern%' or \" +\n",
    "          \"JSON_VALUE(posting_json_metadata,'$.profile.location') like '%hamburg%' or \" +\n",
    "          \"JSON_VALUE(posting_json_metadata,'$.profile.location') like '%frankfurt%' or \" +\n",
    "          \"JSON_VALUE(posting_json_metadata,'$.profile.location') like '%münchen%' or \" +\n",
    "          \"JSON_VALUE(posting_json_metadata,'$.profile.location') like '%cologne%' or \" +\n",
    "          \"JSON_VALUE(posting_json_metadata,'$.profile.location') like '%stuttgart%' or \" +\n",
    "          \"JSON_VALUE(posting_json_metadata,'$.profile.location') like '%düsseldorf%' or \" +\n",
    "          \"JSON_VALUE(posting_json_metadata,'$.profile.location') like '%leipzig%' or \" +\n",
    "          \"JSON_VALUE(posting_json_metadata,'$.profile.location') like '%munich%')\"],\n",
    "    'Hong Kong':[\"(JSON_VALUE(posting_json_metadata,'$.profile.location') like '%hong kong%') \"],\n",
    "    'India':[\"(JSON_VALUE(posting_json_metadata,'$.profile.location') like '%india%' or \" +\n",
    "           \"JSON_VALUE(posting_json_metadata,'$.profile.location') like '%delhi%' or \" +\n",
    "          \"JSON_VALUE(posting_json_metadata,'$.profile.location') like '%mumbai%')\"],\n",
    "    'Indonesia':[\"(JSON_VALUE(posting_json_metadata,'$.profile.location') like '%indonesia%' or \" +\n",
    "            \"JSON_VALUE(posting_json_metadata,'$.profile.location') like '%aceh%' or \" +\n",
    "          \"JSON_VALUE(posting_json_metadata,'$.profile.location') like '%jakarta%')\"],\n",
    "    'Iran':[\"(JSON_VALUE(posting_json_metadata,'$.profile.location') like '%iran%' or \" +\n",
    "          \"JSON_VALUE(posting_json_metadata,'$.profile.location') like '%tehran%')\"],\n",
    "    'Israel':[\"(JSON_VALUE(posting_json_metadata,'$.profile.location') like '%israel%' or \" +\n",
    "            \"JSON_VALUE(posting_json_metadata,'$.profile.location') like '%jerusalem%' or \" +\n",
    "          \"JSON_VALUE(posting_json_metadata,'$.profile.location') like '%tel aviv%')\"],\n",
    "    'Italy':[\"(JSON_VALUE(posting_json_metadata,'$.profile.location') like '%italy%' or \" +\n",
    "          \"JSON_VALUE(posting_json_metadata,'$.profile.location') like '%italia%')\"],\n",
    "    'Japan':[\"(JSON_VALUE(posting_json_metadata,'$.profile.location') like '%japan%' or \" +\n",
    "          \"JSON_VALUE(posting_json_metadata,'$.profile.location') like '%tokyo%')\"],\n",
    "    'Malaysia':[\"(JSON_VALUE(posting_json_metadata,'$.profile.location') like '%malaysia%' or \" +\n",
    "          \"JSON_VALUE(posting_json_metadata,'$.profile.location') like '%Kuala Lumpur%')\"],\n",
    "    'Myanmar':[\"(JSON_VALUE(posting_json_metadata,'$.profile.location') like '%myanmar%' or \" +\n",
    "           \"JSON_VALUE(posting_json_metadata,'$.profile.location') like '%burma%' or \" +\n",
    "          \"JSON_VALUE(posting_json_metadata,'$.profile.location') like '%naypyidaw%')\"],\n",
    "    'Netherlands':[\"(JSON_VALUE(posting_json_metadata,'$.profile.location') like '%holland%' or \" +\n",
    "          \"JSON_VALUE(posting_json_metadata,'$.profile.location') like '%netherlands%')\"],\n",
    "    'Nigeria':[\"(JSON_VALUE(posting_json_metadata,'$.profile.location') like '%nigeria%' or \" +\n",
    "          \"JSON_VALUE(posting_json_metadata,'$.profile.location') like '%lagos%')\"],\n",
    "    'Norway':[\"(JSON_VALUE(posting_json_metadata,'$.profile.location') like '%norway%' or \" +\n",
    "          \"JSON_VALUE(posting_json_metadata,'$.profile.location') like '%oslo%')\"],\n",
    "    'Paraguay':[\"(JSON_VALUE(posting_json_metadata,'$.profile.location') like '%paraguay%' or \" +\n",
    "          \"JSON_VALUE(posting_json_metadata,'$.profile.location') like '%asunción%')\"],\n",
    "    'Philippines':[\"(JSON_VALUE(posting_json_metadata,'$.profile.location') like '%Philippines%' or \" +\n",
    "          \"JSON_VALUE(posting_json_metadata,'$.profile.location') like '%manila%')\"],\n",
    "    'Poland':[\"(JSON_VALUE(posting_json_metadata,'$.profile.location') like '%poland%' or \" +\n",
    "          \"JSON_VALUE(posting_json_metadata,'$.profile.location') like '%warsaw%')\"],\n",
    "    'Russia':[\"(JSON_VALUE(posting_json_metadata,'$.profile.location') like '%russia%' or \" +\n",
    "          \"JSON_VALUE(posting_json_metadata,'$.profile.location') like '%moscow%')\"],\n",
    "    'South Africa':[\"(JSON_VALUE(posting_json_metadata,'$.profile.location') like '%south africa%')\"],\n",
    "    'South Korea':[\"(JSON_VALUE(posting_json_metadata,'$.profile.location') like '%korea%' or \" +\n",
    "          \"JSON_VALUE(posting_json_metadata,'$.profile.location') like '%seoul%')\"],\n",
    "    'Spain':[\"(JSON_VALUE(posting_json_metadata,'$.profile.location') like '%spain%' or \" +\n",
    "          \"JSON_VALUE(posting_json_metadata,'$.profile.location') like '%madrid%')\"],\n",
    "    'Thailand':[\"(JSON_VALUE(posting_json_metadata,'$.profile.location') like '%thailand%' or \" +\n",
    "          \"JSON_VALUE(posting_json_metadata,'$.profile.location') like '%bangkok%')\"],\n",
    "    'Turkey':[\"(JSON_VALUE(posting_json_metadata,'$.profile.location') like '%turkey%' or \" +\n",
    "          \"JSON_VALUE(posting_json_metadata,'$.profile.location') like '%ankara%')\"],\n",
    "    'Ukraine':[\"(JSON_VALUE(posting_json_metadata,'$.profile.location') like '%ukraine%' or \" +\n",
    "          \"JSON_VALUE(posting_json_metadata,'$.profile.location') like '%lviv%' or \" +\n",
    "          \"JSON_VALUE(posting_json_metadata,'$.profile.location') like '%mariupol%' or \" +\n",
    "          \"JSON_VALUE(posting_json_metadata,'$.profile.location') like '%України%' or \" +\n",
    "          \"JSON_VALUE(posting_json_metadata,'$.profile.location') like '%Ukrainy%' or \" +\n",
    "         \"JSON_VALUE(posting_json_metadata,'$.profile.location') like '%kyiv%')\"],\n",
    "    'Venezuela':[\"(JSON_VALUE(posting_json_metadata,'$.profile.location') like '%venezuela%' or \" +\n",
    "          \"JSON_VALUE(posting_json_metadata,'$.profile.location') like '%caracas%')\"],\n",
    "    'Vietnam':[\"(JSON_VALUE(posting_json_metadata,'$.profile.location') like '%vietnam%' or \" +\n",
    "          \"JSON_VALUE(posting_json_metadata,'$.profile.location') like '%hanoi%')\"],\n",
    "    'USA':[\"(JSON_VALUE(posting_json_metadata,'$.profile.location') like '%U.S.A.%' or \" +\n",
    "           \"JSON_VALUE(posting_json_metadata,'$.profile.location') like '%USA' or \" +\n",
    "          \"JSON_VALUE(posting_json_metadata,'$.profile.location') like '%united states%')\"]\n",
    "}\n",
    "detail = False"
   ]
  },
  {
   "cell_type": "code",
   "execution_count": 130,
   "metadata": {},
   "outputs": [],
   "source": [
    "# For testing only\n",
    "ss = {\n",
    "    'Denmark':[\"(JSON_VALUE(posting_json_metadata,'$.profile.location') like '%denmark%' or \" +\n",
    "          \"JSON_VALUE(posting_json_metadata,'$.profile.location') like '%copenhagen%')\"],\n",
    "}"
   ]
  },
  {
   "cell_type": "code",
   "execution_count": 131,
   "metadata": {},
   "outputs": [
    {
     "name": "stdout",
     "output_type": "stream",
     "text": [
      "Denmark: 9\n",
      "UK: 231\n",
      "Grand total: 240\n"
     ]
    }
   ],
   "source": [
    "fromdate = (datetime.date.today()-datetime.timedelta(days=31)).strftime('%Y-%m-%d')\n",
    "tt = 0\n",
    "for c, searches in ss.items():\n",
    "    ttl = 0\n",
    "    for s in searches:\n",
    "        r = pd.read_sql(f\"\"\"select count(*) as count\n",
    "                    from Accounts a\n",
    "                    where a.posting_json_metadata like '%\"location\":%' and {s}\n",
    "                        and (a.last_vote_time  >= '{fromdate}' or a.last_post  >= '{fromdate}')\n",
    "                        \"\"\", cnxn)\n",
    "        for i, l in r.iterrows():\n",
    "                ttl += l['count']\n",
    "    print(f'{c}: {ttl}')\n",
    "    tt += ttl\n",
    "tt += 231\n",
    "print('UK: 231')\n",
    "print(f'Grand total: {tt}')"
   ]
  },
  {
   "cell_type": "code",
   "execution_count": null,
   "metadata": {},
   "outputs": [],
   "source": []
  }
 ],
 "metadata": {
  "kernelspec": {
   "display_name": "Python 3",
   "language": "python",
   "name": "python3"
  },
  "language_info": {
   "codemirror_mode": {
    "name": "ipython",
    "version": 3
   },
   "file_extension": ".py",
   "mimetype": "text/x-python",
   "name": "python",
   "nbconvert_exporter": "python",
   "pygments_lexer": "ipython3",
   "version": "3.8.5"
  }
 },
 "nbformat": 4,
 "nbformat_minor": 4
}
