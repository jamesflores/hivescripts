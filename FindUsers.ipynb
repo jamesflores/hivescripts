{
 "cells": [
  {
   "cell_type": "code",
   "execution_count": 1,
   "metadata": {},
   "outputs": [],
   "source": [
    "# Read users\n",
    "u = []\n",
    "with open('users.txt','r') as f:\n",
    "    for l in f:\n",
    "        if not 'R,' in l:\n",
    "            if '@' in l:\n",
    "                u += l.strip().replace('(', '').replace(')', '').replace('@', '').split()\n",
    "            elif '(' in l:\n",
    "                u.append(l.split()[0])\n",
    "            else:\n",
    "                u.append(l.strip())\n",
    "                \n",
    "hacked = []\n",
    "with open('steemengineteam_group.txt','r') as f:\n",
    "    for l in f:\n",
    "        hacked.append(l.strip())\n",
    "        \n",
    "ignore = []\n",
    "with open('ignore.txt','r') as f:\n",
    "    for l in f:\n",
    "        ignore.append(l.strip().split()[0])\n"
   ]
  },
  {
   "cell_type": "code",
   "execution_count": 2,
   "metadata": {},
   "outputs": [],
   "source": [
    "import pyodbc\n",
    "import pandas as pd"
   ]
  },
  {
   "cell_type": "code",
   "execution_count": 3,
   "metadata": {},
   "outputs": [],
   "source": [
    "with open('pw.txt') as f:\n",
    "    for l in f:\n",
    "        uname, pw = l.split()\n",
    "\n",
    "cnxn_str = (\"Driver={ODBC Driver 17 for SQL Server};\"\n",
    "            \"Server=vip.hivesql.io;\"\n",
    "            \"Database=DBHive;\"\n",
    "            f\"UID={uname};\"\n",
    "            f\"PWD={pw};\")\n",
    "cnxn = pyodbc.connect(cnxn_str)"
   ]
  },
  {
   "cell_type": "code",
   "execution_count": 4,
   "metadata": {},
   "outputs": [],
   "source": [
    "searches=[\"a.posting_json_metadata not like '%Ukraine%' and  JSON_VALUE(posting_json_metadata,'$.profile.location') like '%uk%'\",\n",
    "         \"a.posting_json_metadata not like '%new england%' and JSON_VALUE(posting_json_metadata,'$.profile.location') like '%england%'\",\n",
    "         \"JSON_VALUE(posting_json_metadata,'$.profile.location') like '%scotland%'\",\n",
    "          \"JSON_VALUE(posting_json_metadata,'$.profile.location') like '%united kingdom%'\",\n",
    "         \"JSON_VALUE(posting_json_metadata,'$.profile.location') like '%wales%'\",\n",
    "          \"JSON_VALUE(posting_json_metadata,'$.profile.location') like '%u.k.%'\",\n",
    "          \"JSON_VALUE(posting_json_metadata,'$.profile.location') like '%london%'\",\n",
    "          \"JSON_VALUE(posting_json_metadata,'$.profile.location') like '%edinburgh%'\",\n",
    "          \"JSON_VALUE(posting_json_metadata,'$.profile.location') like '%cardiff%'\",\n",
    "          \"JSON_VALUE(posting_json_metadata,'$.profile.location') like '%belfast%'\",\n",
    "          \"a.posting_json_metadata not like '%columbia%' and JSON_VALUE(posting_json_metadata,'$.profile.location') like '%brit%'\",\n",
    "          \"JSON_VALUE(posting_json_metadata,'$.profile.location') like '%northern ireland%'\",\n",
    "          \"JSON_VALUE(posting_json_metadata,'$.profile.location') like '%g.b.%'\",\n",
    "          \"JSON_VALUE(posting_json_metadata,'$.profile.location') like '%gb%'\",\n",
    "          \"JSON_VALUE(posting_json_metadata,'$.profile.location') like '%birmingham%'\",\n",
    "          \"JSON_VALUE(posting_json_metadata,'$.profile.location') like '%manchester%'\",\n",
    "          \"JSON_VALUE(posting_json_metadata,'$.profile.location') like '%leeds%'\",\n",
    "          \"JSON_VALUE(posting_json_metadata,'$.profile.location') like '%sheffield%'\",\n",
    "          \"JSON_VALUE(posting_json_metadata,'$.profile.location') like '%liverpool%'\",\n",
    "          \"JSON_VALUE(posting_json_metadata,'$.profile.location') like '%hebrides%'\",\n",
    "          \"JSON_VALUE(posting_json_metadata,'$.profile.location') like '%aberdeen%'\",\n",
    "          \"JSON_VALUE(posting_json_metadata,'$.profile.location') like '%leicester%'\", #bradford, bristol, newcastle\n",
    "          \"a.posting_json_metadata not like '%new york%' and JSON_VALUE(posting_json_metadata,'$.profile.location') like '%york%'\",\n",
    "          \"JSON_VALUE(posting_json_metadata,'$.profile.location') like '%channel%'\"\n",
    "         ]"
   ]
  },
  {
   "cell_type": "code",
   "execution_count": 5,
   "metadata": {},
   "outputs": [],
   "source": [
    "for s in searches:\n",
    "    r = pd.read_sql(f\"\"\"select a.name, a.post_count, JSON_VALUE(posting_json_metadata,'$.profile.location') as loc\n",
    "                from Accounts a\n",
    "                where a.posting_json_metadata like '%\"location\":%' and {s}\n",
    "                    and a.last_vote_time  >= '2021-04-01'\"\"\", cnxn)\n",
    "    for i, l in r.iterrows():\n",
    "        #print(l)\n",
    "        if l['name'] not in u and 'phuket' not in l['loc'] and l['name'] not in ignore:\n",
    "            print(l['name'], l['loc'], '*' if l['name'] in hacked else '')"
   ]
  },
  {
   "cell_type": "code",
   "execution_count": 6,
   "metadata": {},
   "outputs": [],
   "source": [
    "searches=[\"JSON_VALUE(posting_json_metadata,'$.profile.location') like '%lincoln%'\",\n",
    "         \"JSON_VALUE(posting_json_metadata,'$.profile.location') like '%nott%'\"]\n"
   ]
  },
  {
   "cell_type": "code",
   "execution_count": null,
   "metadata": {},
   "outputs": [],
   "source": []
  }
 ],
 "metadata": {
  "kernelspec": {
   "display_name": "Python 3",
   "language": "python",
   "name": "python3"
  },
  "language_info": {
   "codemirror_mode": {
    "name": "ipython",
    "version": 3
   },
   "file_extension": ".py",
   "mimetype": "text/x-python",
   "name": "python",
   "nbconvert_exporter": "python",
   "pygments_lexer": "ipython3",
   "version": "3.8.5"
  }
 },
 "nbformat": 4,
 "nbformat_minor": 4
}
