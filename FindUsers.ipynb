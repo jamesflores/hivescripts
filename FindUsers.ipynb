{
 "cells": [
  {
   "cell_type": "code",
   "execution_count": 1,
   "metadata": {},
   "outputs": [],
   "source": [
    "# Read users\n",
    "u = []\n",
    "with open('users.txt','r') as f:\n",
    "    for l in f:\n",
    "        if not 'R,' in l:\n",
    "            if '@' in l:\n",
    "                u += l.strip().replace('(', '').replace(')', '').replace('@', '').split()\n",
    "            elif '(' in l:\n",
    "                u.append(l.split()[0])\n",
    "            else:\n",
    "                u.append(l.strip())\n",
    "                \n",
    "hacked = []\n",
    "with open('steemengineteam_group.txt','r') as f:\n",
    "    for l in f:\n",
    "        hacked.append(l.strip())\n",
    "        \n",
    "ignore = []\n",
    "with open('ignore.txt','r') as f:\n",
    "    for l in f:\n",
    "        ignore.append(l.strip().split()[0])\n"
   ]
  },
  {
   "cell_type": "code",
   "execution_count": 2,
   "metadata": {},
   "outputs": [],
   "source": [
    "import pyodbc\n",
    "import pandas as pd\n",
    "import datetime"
   ]
  },
  {
   "cell_type": "code",
   "execution_count": 3,
   "metadata": {},
   "outputs": [],
   "source": [
    "with open('pw.txt') as f:\n",
    "    for l in f:\n",
    "        uname, pw = l.split()\n",
    "\n",
    "cnxn_str = (\"Driver={ODBC Driver 17 for SQL Server};\"\n",
    "            \"Server=vip.hivesql.io;\"\n",
    "            \"Database=DBHive;\"\n",
    "            f\"UID={uname};\"\n",
    "            f\"PWD={pw};\")\n",
    "cnxn = pyodbc.connect(cnxn_str)"
   ]
  },
  {
   "cell_type": "code",
   "execution_count": 4,
   "metadata": {},
   "outputs": [],
   "source": [
    "searches=[\"a.posting_json_metadata not like '%Ukraine%' and  JSON_VALUE(posting_json_metadata,'$.profile.location') like '%uk%'\",\n",
    "         \"a.posting_json_metadata not like '%new england%' and JSON_VALUE(posting_json_metadata,'$.profile.location') like '%england%'\",\n",
    "         \"JSON_VALUE(posting_json_metadata,'$.profile.location') like '%scotland%'\",\n",
    "          \"JSON_VALUE(posting_json_metadata,'$.profile.location') like '%united kingdom%'\",\n",
    "         \"JSON_VALUE(posting_json_metadata,'$.profile.location') like '%wales%'\",\n",
    "          \"JSON_VALUE(posting_json_metadata,'$.profile.location') like '%u.k.%'\",\n",
    "          \"JSON_VALUE(posting_json_metadata,'$.profile.location') like '%london%'\",\n",
    "          \"JSON_VALUE(posting_json_metadata,'$.profile.location') like '%edinburgh%'\",\n",
    "          \"JSON_VALUE(posting_json_metadata,'$.profile.location') like '%glasgow%'\",\n",
    "          \"JSON_VALUE(posting_json_metadata,'$.profile.location') like '%cardiff%'\",\n",
    "          \"JSON_VALUE(posting_json_metadata,'$.profile.location') like '%belfast%'\",\n",
    "          \"a.posting_json_metadata not like '%columbia%' and JSON_VALUE(posting_json_metadata,'$.profile.location') like '%brit%'\",\n",
    "          \"JSON_VALUE(posting_json_metadata,'$.profile.location') like '%northern ireland%'\",\n",
    "          \"JSON_VALUE(posting_json_metadata,'$.profile.location') like '%g.b.%'\",\n",
    "          \"JSON_VALUE(posting_json_metadata,'$.profile.location') like '%gb%'\",\n",
    "          \"JSON_VALUE(posting_json_metadata,'$.profile.location') like '%blighty%'\",\n",
    "          \"JSON_VALUE(posting_json_metadata,'$.profile.location') like '%ulster%'\",\n",
    "          \"JSON_VALUE(posting_json_metadata,'$.profile.location') like '%dover%'\",\n",
    "          \"(JSON_VALUE(posting_json_metadata,'$.profile.location') like '%birmingham%' or \"+\n",
    "          \"JSON_VALUE(posting_json_metadata,'$.profile.location') like '%manchester%' or \"+\n",
    "          \"JSON_VALUE(posting_json_metadata,'$.profile.location') like '%chester%' or \"+\n",
    "          \"JSON_VALUE(posting_json_metadata,'$.profile.location') like '%leeds%' or \"+\n",
    "          \"JSON_VALUE(posting_json_metadata,'$.profile.location') like '%sheffield%' or \"+\n",
    "          \"JSON_VALUE(posting_json_metadata,'$.profile.location') like '%rochdale%' or \"+\n",
    "          \"JSON_VALUE(posting_json_metadata,'$.profile.location') like '%liverpool%' or \"+\n",
    "          \"JSON_VALUE(posting_json_metadata,'$.profile.location') like '%hebrides%' or \"+\n",
    "          \"JSON_VALUE(posting_json_metadata,'$.profile.location') like '%shetland%' or \"+\n",
    "          \"JSON_VALUE(posting_json_metadata,'$.profile.location') like '%wight%' or \"+\n",
    "          \"JSON_VALUE(posting_json_metadata,'$.profile.location') like '%aberdeen%' or \"+\n",
    "          \"JSON_VALUE(posting_json_metadata,'$.profile.location') like '%lincoln%' or \"+\n",
    "         \"JSON_VALUE(posting_json_metadata,'$.profile.location') like '%nott%' or \"+\n",
    "          \"JSON_VALUE(posting_json_metadata,'$.profile.location') like '%luton%' or \"+\n",
    "          \"JSON_VALUE(posting_json_metadata,'$.profile.location') like '%watford%' or \"+\n",
    "          \"JSON_VALUE(posting_json_metadata,'$.profile.location') like '%bradford%' or \"+\n",
    "          \"JSON_VALUE(posting_json_metadata,'$.profile.location') like '%bristol%' or \"+\n",
    "          \"JSON_VALUE(posting_json_metadata,'$.profile.location') like '%newcastle%' or \"+\n",
    "          \"a.posting_json_metadata not like '%new bedford%' and JSON_VALUE(posting_json_metadata,'$.profile.location') like '%bedford%' or \"+\n",
    "          \"a.posting_json_metadata not like '%pluton%' and JSON_VALUE(posting_json_metadata,'$.profile.location') like '%luton%' or \"+\n",
    "          \"JSON_VALUE(posting_json_metadata,'$.profile.location') like '%northampton%' or \"+\n",
    "          \"JSON_VALUE(posting_json_metadata,'$.profile.location') like '%southampton%' or \"+\n",
    "          \"JSON_VALUE(posting_json_metadata,'$.profile.location') like '%portsmouth%' or \"+\n",
    "          \"JSON_VALUE(posting_json_metadata,'$.profile.location') like '%dundee%' or \"+\n",
    "          \"JSON_VALUE(posting_json_metadata,'$.profile.location') like '%inverness%' or \"+\n",
    "          \"JSON_VALUE(posting_json_metadata,'$.profile.location') like '%ipswich%' or \"+\n",
    "          \"JSON_VALUE(posting_json_metadata,'$.profile.location') like '%norwich%' or \"+\n",
    "          \"JSON_VALUE(posting_json_metadata,'$.profile.location') like '%southend%' or \"+\n",
    "          \"JSON_VALUE(posting_json_metadata,'$.profile.location') like '%brighton%' or \"+\n",
    "          \"JSON_VALUE(posting_json_metadata,'$.profile.location') like '%slough%' or \"+\n",
    "          \"JSON_VALUE(posting_json_metadata,'$.profile.location') like '%wolverhampton%' or \"+\n",
    "          \"JSON_VALUE(posting_json_metadata,'$.profile.location') like '%leicester%' or \"+\n",
    "          \"JSON_VALUE(posting_json_metadata,'$.profile.location') like '%cornwall%' or \"+\n",
    "          \"JSON_VALUE(posting_json_metadata,'$.profile.location') like '%devon%' or \"+\n",
    "          \"JSON_VALUE(posting_json_metadata,'$.profile.location') like '%dorset%' or \"+\n",
    "          \"JSON_VALUE(posting_json_metadata,'$.profile.location') like '%gloucester%' or \"+\n",
    "          \"JSON_VALUE(posting_json_metadata,'$.profile.location') like '%sussex%' or \"+\n",
    "          \"JSON_VALUE(posting_json_metadata,'$.profile.location') like '%norfolk%' or \"+\n",
    "          \"JSON_VALUE(posting_json_metadata,'$.profile.location') like '%buck%' or \"+\n",
    "          \"JSON_VALUE(posting_json_metadata,'$.profile.location') like '%essex%' or \"+\n",
    "          \"JSON_VALUE(posting_json_metadata,'$.profile.location') like '%suffolk%' or \"+\n",
    "          \"JSON_VALUE(posting_json_metadata,'$.profile.location') like '%bedford%' or \"+\n",
    "          \"JSON_VALUE(posting_json_metadata,'$.profile.location') like '%rutland%' or \"+\n",
    "          \"JSON_VALUE(posting_json_metadata,'$.profile.location') like '%worcester%' or \"+\n",
    "          \"JSON_VALUE(posting_json_metadata,'$.profile.location') like '%guildford%' or \"+\n",
    "          \"JSON_VALUE(posting_json_metadata,'$.profile.location') like '%reading%' or \"+\n",
    "          \"JSON_VALUE(posting_json_metadata,'$.profile.location') like '%coventry%' or \"+\n",
    "          \"JSON_VALUE(posting_json_metadata,'$.profile.location') like '%carlisle%' or \"+\n",
    "          \"JSON_VALUE(posting_json_metadata,'$.profile.location') like '%umber%' or \"+\n",
    "          \"JSON_VALUE(posting_json_metadata,'$.profile.location') like '%cambridge%' or \"+\n",
    "          \"JSON_VALUE(posting_json_metadata,'$.profile.location') like '%oxford%' or \"+\n",
    "          \"JSON_VALUE(posting_json_metadata,'$.profile.location') like '%durham%' or \"+\n",
    "          \"JSON_VALUE(posting_json_metadata,'$.profile.location') like '%derby%' or \"+\n",
    "          \"JSON_VALUE(posting_json_metadata,'$.profile.location') like '%fordshire%' or \"+\n",
    "          \"JSON_VALUE(posting_json_metadata,'$.profile.location') like '%estershire%' or \"+\n",
    "          \"JSON_VALUE(posting_json_metadata,'$.profile.location') like '%warwick%' or \"+\n",
    "          \"JSON_VALUE(posting_json_metadata,'$.profile.location') like '%worcester%' or \"+\n",
    "          \"JSON_VALUE(posting_json_metadata,'$.profile.location') like '%cumbria%' or \"+\n",
    "          \"JSON_VALUE(posting_json_metadata,'$.profile.location') like '%lancas%' or \"+\n",
    "          \"JSON_VALUE(posting_json_metadata,'$.profile.location') like '%stafford%' or \"+\n",
    "          \"JSON_VALUE(posting_json_metadata,'$.profile.location') like '%somerset%' or \"+\n",
    "          \"JSON_VALUE(posting_json_metadata,'$.profile.location') like '%peterborough%' or \"+\n",
    "          \"JSON_VALUE(posting_json_metadata,'$.profile.location') like '%midlands%' or \"+\n",
    "          \"JSON_VALUE(posting_json_metadata,'$.profile.location') like '%west country%' or \"+\n",
    "          \"JSON_VALUE(posting_json_metadata,'$.profile.location') like '%swansea%' or \"+\n",
    "          \"JSON_VALUE(posting_json_metadata,'$.profile.location') like '%newquay%' or \"+\n",
    "          \"JSON_VALUE(posting_json_metadata,'$.profile.location') like '%stoke%' or \"+\n",
    "          \"JSON_VALUE(posting_json_metadata,'$.profile.location') like '%huddersfield%' or \"+\n",
    "          \n",
    "          \"a.posting_json_metadata not like '%kentucky%' and a.posting_json_metadata not like '%tashkent%' and JSON_VALUE(posting_json_metadata,'$.profile.location') like '%kent%' or \"+\n",
    "          \"a.posting_json_metadata not like '%new plymouth%' and JSON_VALUE(posting_json_metadata,'$.profile.location') like '%plymouth%' or \"+\n",
    "          \"JSON_VALUE(posting_json_metadata,'$.profile.location') like '%leicester%')\", \n",
    "          \"a.posting_json_metadata not like '%new york%' and JSON_VALUE(posting_json_metadata,'$.profile.location') like '%york%'\",\n",
    "          \"JSON_VALUE(posting_json_metadata,'$.profile.location') like '%channel%'\",\n",
    "          \n",
    "        \"JSON_VALUE(posting_json_metadata,'$.profile.location') like '%letchworth%' or \"+\n",
    "        \"JSON_VALUE(posting_json_metadata,'$.profile.location') like '%hitchin%' or \"+\n",
    "        \"JSON_VALUE(posting_json_metadata,'$.profile.location') like '%stotfold%' or \"+\n",
    "        \"JSON_VALUE(posting_json_metadata,'$.profile.location') like '%stevenage%' or \"+\n",
    "        \"JSON_VALUE(posting_json_metadata,'$.profile.location') like '%baldock%' or \"+\n",
    "        \"JSON_VALUE(posting_json_metadata,'$.profile.location') like '%henlow%' or \"+\n",
    "        \"JSON_VALUE(posting_json_metadata,'$.profile.location') like '%shefford%' or \"+\n",
    "        \"JSON_VALUE(posting_json_metadata,'$.profile.location') like '%arlesey%'\"\n",
    "                                       ]"
   ]
  },
  {
   "cell_type": "code",
   "execution_count": 6,
   "metadata": {
    "scrolled": true
   },
   "outputs": [
    {
     "name": "stdout",
     "output_type": "stream",
     "text": [
      "europa66 Diligenta, Peterborough none \n"
     ]
    }
   ],
   "source": [
    "fromdate = (datetime.date.today()-datetime.timedelta(days=31)).strftime('%Y-%m-%d')\n",
    "#print(f'From {fromdate}')\n",
    "for s in searches:\n",
    "    r = pd.read_sql(f\"\"\"select a.name, a.post_count, JSON_VALUE(posting_json_metadata,'$.profile.location') as loc,\n",
    "                case when a.json_metadata like '%location%' then JSON_VALUE(json_metadata,'$.profile.location')\n",
    "                else 'none' end as jm \n",
    "                from Accounts a\n",
    "                where a.posting_json_metadata like '%\"location\":%' and ({s})\n",
    "                    and a.last_vote_time  >= '{fromdate}'\"\"\", cnxn)\n",
    "    for i, l in r.iterrows():\n",
    "        #print(l)\n",
    "        if l['name'] not in u and 'Phuket' not in l['loc'] and l['name'] not in ignore:\n",
    "            print(l['name'], l['loc'], l['jm'], '*' if l['name'] in hacked else '')"
   ]
  },
  {
   "cell_type": "code",
   "execution_count": 7,
   "metadata": {},
   "outputs": [
    {
     "name": "stdout",
     "output_type": "stream",
     "text": [
      "europa66 Jabuticaba - A Brazilian grapetree ['foodie', 'recipe', 'curation', 'food', 'fruit', 'appreciator', 'teamuk', 'nonveg', 'seafood', 'foodies', 'cervantes', 'palnet', 'ocd', 'diy', 'lifestyle', 'photography', 'foodphotography']\n"
     ]
    },
    {
     "name": "stderr",
     "output_type": "stream",
     "text": [
      "Error: Unable to acquire database lock:rethrow Unable to acquire database lock:\n",
      "Error: Unable to acquire database lock:rethrow Unable to acquire database lock:\n",
      "Retry RPC Call on node: https://api.deathwing.me (1/5) \n",
      "\n",
      "Retry RPC Call on node: https://api.deathwing.me (1/5) \n",
      "\n",
      "Retrying in 0 seconds\n",
      "\n",
      "Retrying in 0 seconds\n",
      "\n",
      "Error: Unable to acquire database lock:rethrow Unable to acquire database lock:\n",
      "Retry RPC Call on node: https://api.deathwing.me (1/5) \n",
      "\n",
      "Retrying in 0 seconds\n",
      "\n",
      "Error: Unable to acquire database lock:rethrow Unable to acquire database lock:\n",
      "Retry RPC Call on node: https://api.deathwing.me (1/5) \n",
      "\n",
      "Retrying in 0 seconds\n",
      "\n",
      "Error: Unable to acquire database lock:rethrow Unable to acquire database lock:\n",
      "Retry RPC Call on node: https://api.deathwing.me (1/5) \n",
      "\n",
      "Retrying in 0 seconds\n",
      "\n",
      "Error: Request Timeout\n",
      "Retry RPC Call on node: https://api.deathwing.me (2/5) \n",
      "\n",
      "Error: Request Timeout\n",
      "Retrying in 2 seconds\n",
      "\n",
      "Retry RPC Call on node: https://api.deathwing.me (2/5) \n",
      "\n",
      "Retrying in 2 seconds\n",
      "\n"
     ]
    },
    {
     "name": "stdout",
     "output_type": "stream",
     "text": [
      "heartbeatonhive Luke is Alive Curation Trail Did You Find Him? ['c-c-c', 'wearealivetribe', 'alive', 'aliveandthriving', 'iamalivechallenge', 'lukeisalive', 'ctp', 'proofofbrain', 'teamuk', 'hivehustlers']\n",
      "heartbeatonhive Luke is Alive Curation Trail Did You Find Him? ['c-c-c', 'wearealivetribe', 'alive', 'aliveandthriving', 'iamalivechallenge', 'lukeisalive', 'ctp', 'proofofbrain', 'teamuk', 'hivehustlers']\n"
     ]
    },
    {
     "name": "stderr",
     "output_type": "stream",
     "text": [
      "Error: Unable to acquire database lock:rethrow Unable to acquire database lock:\n",
      "Retry RPC Call on node: https://api.deathwing.me (1/5) \n",
      "\n",
      "Retrying in 0 seconds\n",
      "\n",
      "Error: Unable to acquire database lock:rethrow Unable to acquire database lock:\n",
      "Retry RPC Call on node: https://api.deathwing.me (1/5) \n",
      "\n",
      "Retrying in 0 seconds\n",
      "\n"
     ]
    },
    {
     "name": "stdout",
     "output_type": "stream",
     "text": [
      "gamessteam Fresh air and cute behavior of a boy ['photography', 'photofeed', 'neoxian', 'palnet', 'nature', 'travel', 'teamuk']\n",
      "baibuaza A large temple near Kyoto train station. ['thai', 'life', 'photography', 'neoxian', 'palnet', 'creativecoin', 'pob', 'archon', 'waivio', 'teamuk']\n"
     ]
    },
    {
     "name": "stderr",
     "output_type": "stream",
     "text": [
      "Error: Unable to acquire database lock:rethrow Unable to acquire database lock:\n",
      "Retry RPC Call on node: https://api.deathwing.me (1/5) \n",
      "\n",
      "Retrying in 0 seconds\n",
      "\n",
      "Error: Unable to acquire database lock:rethrow Unable to acquire database lock:\n",
      "Retry RPC Call on node: https://api.deathwing.me (1/5) \n",
      "\n",
      "Retrying in 0 seconds\n",
      "\n"
     ]
    }
   ],
   "source": [
    "from beem import Hive\n",
    "from beem.account import Account\n",
    "from beem.amount import Amount\n",
    "from beem.blockchain import Blockchain\n",
    "from beem.comment import Comment\n",
    "from beem.instance import set_shared_blockchain_instance\n",
    "\n",
    "tracktags = set(['teamuk','england','scotland','wales','unitedkingdom','greatbritain'])\n",
    "hive = Hive(node=['https://api.deathwing.me'])\n",
    "set_shared_blockchain_instance(hive)\n",
    "chain = Blockchain()\n",
    "current_num = chain.get_current_block_num()\n",
    "for post in chain.stream(opNames=\"comment\", threading=True, thread_num=5, start=current_num-30000, stop=current_num):\n",
    "    c = Comment(post)\n",
    "    if c.is_main_post() and tracktags.intersection(post['tags']):\n",
    "        author = post['author']\n",
    "        if author not in u and author not in ignore:\n",
    "            print(author,post['title'],post['tags'])"
   ]
  },
  {
   "cell_type": "code",
   "execution_count": null,
   "metadata": {},
   "outputs": [],
   "source": []
  }
 ],
 "metadata": {
  "kernelspec": {
   "display_name": "Python 3",
   "language": "python",
   "name": "python3"
  },
  "language_info": {
   "codemirror_mode": {
    "name": "ipython",
    "version": 3
   },
   "file_extension": ".py",
   "mimetype": "text/x-python",
   "name": "python",
   "nbconvert_exporter": "python",
   "pygments_lexer": "ipython3",
   "version": "3.8.5"
  }
 },
 "nbformat": 4,
 "nbformat_minor": 4
}
