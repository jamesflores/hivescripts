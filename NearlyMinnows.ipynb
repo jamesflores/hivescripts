{
 "cells": [
  {
   "cell_type": "code",
   "execution_count": 8,
   "metadata": {},
   "outputs": [],
   "source": [
    "import pyodbc\n",
    "import pandas as pd\n",
    "import datetime\n",
    "import ast\n",
    "import re\n"
   ]
  },
  {
   "cell_type": "code",
   "execution_count": 9,
   "metadata": {},
   "outputs": [],
   "source": [
    "regex = r'(?<=^|(?<=[^a-zA-Z0-9-_\\./]))@([A-Za-z]+[A-Za-z0-9-_.]+[A-Za-z0-9-_])'"
   ]
  },
  {
   "cell_type": "code",
   "execution_count": 10,
   "metadata": {},
   "outputs": [],
   "source": [
    "with open('pw.txt') as f:\n",
    "    for l in f:\n",
    "        uname, pw = l.split()\n",
    "\n",
    "cnxn_str = (\"Driver={ODBC Driver 17 for SQL Server};\"\n",
    "            \"Server=vip.hivesql.io;\"\n",
    "            \"Database=DBHive;\"\n",
    "            f\"UID={uname};\"\n",
    "            f\"PWD={pw};\")\n",
    "cnxn = pyodbc.connect(cnxn_str)\n",
    "\n",
    "blacklist=('sunlit7')"
   ]
  },
  {
   "cell_type": "code",
   "execution_count": 11,
   "metadata": {},
   "outputs": [],
   "source": [
    "fromdate = (datetime.date.today()-datetime.timedelta(days=31)).strftime('%Y-%m-%d')\n",
    "#print(fromdate)\n",
    "nowacc = pd.read_sql(f\"\"\"select a.name, floor(a.vesting_shares) as vests,\n",
    "(select sum(pending_payout_value) as rewards\n",
    "from Comments c\n",
    "where c.author=a.name\n",
    "and datediff(minute, C.created, GETUTCDATE()) < 60*24*7) as pending\n",
    ", a.posting_json_metadata,\n",
    "a.balance + a.savings_balance as hive, a.hbd_balance + a.savings_hbd_balance as hbd\n",
    "from accounts a\n",
    "where a.vesting_shares between 900000 and 950000\n",
    "and a.vesting_withdraw_rate = 0\n",
    "--and a.last_vote_time > '{{fromdat}}'\n",
    "and exists (select 1 from Comments c2 where c2.author=a.name\n",
    "and c2.depth=0 and datediff(minute, C2.created, GETUTCDATE()) < 60*24*6)\n",
    "order by a.vesting_shares desc\n",
    "\"\"\", cnxn)"
   ]
  },
  {
   "cell_type": "code",
   "execution_count": 12,
   "metadata": {},
   "outputs": [],
   "source": [
    "query=f\"\"\"select c.title , c.created ,c.body \n",
    "from\n",
    "    Tags\n",
    "    INNER JOIN Comments c ON Tags.comment_id = C.ID\n",
    "WHERE\n",
    "    Tags.tag = 'minnowmaker'\n",
    "    and c.author = 'steevc'\n",
    "    and  c.[depth] =0\n",
    "    and datediff(minute, C.created, GETUTCDATE()) < 60*24*10\n",
    "order by c.created desc\"\"\"\n",
    "\n",
    "then = pd.read_sql(query, cnxn)\n",
    "users = []\n",
    "for i, l in then.iterrows():\n",
    "    for n in re.finditer(regex, l['body']):\n",
    "        u = n.group().lower()\n",
    "        if u not in ('@tenkminnows', '@arcange', '@hivesql', '@taskmaster4450'):\n",
    "            users.append(n.group().lower())\n",
    "            # Only fetch those in the table\n",
    "            if len(users) == 20:\n",
    "                break\n",
    "    break\n",
    "#print(users)"
   ]
  },
  {
   "cell_type": "code",
   "execution_count": 13,
   "metadata": {},
   "outputs": [
    {
     "name": "stdout",
     "output_type": "stream",
     "text": [
      "|Name|HP%|HIVE|HBD|New|\n",
      "|-|-|-|-|-|\n",
      "|@opick|94.925%|0.0|86.222|*|\n",
      "|@pauliinasoilu|94.7796%|0.198|0.0||\n",
      "|@annishajennat|94.6254%|0.0|170.541|*|\n",
      "|@timoremoti|94.592%|15.227|0.0|*|\n",
      "|@jayparagat|94.5741%|0.154|0.0||\n",
      "|@alina97|94.234%|1.581|15.71||\n",
      "|@debbie-ese|94.0564%|0.112|1.998||\n",
      "|@joalgusa|93.9079%|0.0|11.765|*|\n",
      "|@yoginiofoz|93.6608%|8.3|52.183|*|\n",
      "|@ashleyjaramillo|93.6493%|27.012|0.526|*|\n",
      "|@irissol|93.4552%|0.001|0.0|*|\n",
      "|@holgerfinn|93.4036%|3.04|131.393||\n",
      "|@cflclosers|93.2609%|1588.091|432.087|*|\n",
      "|@kavii|93.2392%|7.941|196.107|*|\n",
      "|@cruis|93.2149%|6.796|99.696|*|\n",
      "|@littlebee4|93.1608%|18.172|91.76|*|\n",
      "|@dreemit|92.9651%|620.551|430.672||\n",
      "|@keniel16|92.827%|0.428|2905.144|*|\n",
      "|@aldara|92.6857%|42.488|0.223|*|\n",
      "|@sandracabrera|92.5458%|0.002|12.38||\n"
     ]
    }
   ],
   "source": [
    "n = 0\n",
    "prev = []\n",
    "print('|Name|HP%|HIVE|HBD|New|')\n",
    "print('|-|-|-|-|-|')\n",
    "for i, l in nowacc.iterrows():\n",
    "    if l['pending'] > 1 and l['name'] not in blacklist:\n",
    "        #print(l)\n",
    "        #meta = ast.literal_eval(l['posting_json_metadata'])\n",
    "        #prof = meta['profile']\n",
    "        #if 'name' in prof:\n",
    "        #    print(prof['name'])\n",
    "        acc, vests, hive, hbd = l['name'], int(l['vests'])/1E4, l['hive'], l['hbd']\n",
    "        #print(f'{acc}')\n",
    "        if f'@{acc}' not in users:\n",
    "            newb = '*'\n",
    "        else:\n",
    "            newb = ''\n",
    "            prev.append(f'@{acc}')\n",
    "        print(f'|@{acc}|{vests}%|{hive}|{hbd}|{newb}|')\n",
    "        n += 1\n",
    "        if n >= 20:\n",
    "              break"
   ]
  },
  {
   "cell_type": "code",
   "execution_count": 14,
   "metadata": {},
   "outputs": [
    {
     "name": "stdout",
     "output_type": "stream",
     "text": [
      "@benwickenton 1406592.0\n",
      "@craftingwithreny 1024619.0\n",
      "@benwickenton, @craftingwithreny\n"
     ]
    }
   ],
   "source": [
    "grad=[]\n",
    "for g in users:\n",
    "    if g not in prev:\n",
    "        #print(g)\n",
    "        gv = pd.read_sql(f\"\"\"select floor(a.vesting_shares) as vests\n",
    "    from accounts a\n",
    "    where a.name = '{g[1:]}'\n",
    "    \"\"\", cnxn)\n",
    "        for i, l in gv.iterrows():\n",
    "            if int(l['vests']) > 1E6:\n",
    "                print(g, l['vests'])\n",
    "                grad.append(g)\n",
    "print(', '.join(grad))"
   ]
  },
  {
   "cell_type": "code",
   "execution_count": null,
   "metadata": {},
   "outputs": [],
   "source": []
  }
 ],
 "metadata": {
  "kernelspec": {
   "display_name": "Python 3",
   "language": "python",
   "name": "python3"
  },
  "language_info": {
   "codemirror_mode": {
    "name": "ipython",
    "version": 3
   },
   "file_extension": ".py",
   "mimetype": "text/x-python",
   "name": "python",
   "nbconvert_exporter": "python",
   "pygments_lexer": "ipython3",
   "version": "3.8.5"
  }
 },
 "nbformat": 4,
 "nbformat_minor": 4
}
