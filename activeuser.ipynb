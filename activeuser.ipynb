{
 "cells": [
  {
   "cell_type": "markdown",
   "metadata": {},
   "source": [
    "Todo:\n",
    "* Chart of account age. Show how many newbies - done\n",
    "* Chart of account size -done\n",
    "* Hide compromised accounts - done"
   ]
  },
  {
   "cell_type": "code",
   "execution_count": 1,
   "metadata": {},
   "outputs": [],
   "source": [
    "# Build a list of active users suitable for a Hive post\n",
    "# Loads users from file users.txt. Lines starting with R are regions\n",
    "\n",
    "from datetime import datetime, timedelta, date\n",
    "from beem import Hive\n",
    "from beem.account import Account\n",
    "from beem.amount import Amount\n",
    "from beem.comment import Comment\n",
    "from beem.exceptions import ContentDoesNotExistsException\n",
    "from beem.instance import set_shared_blockchain_instance\n",
    "import matplotlib.pyplot as plt"
   ]
  },
  {
   "cell_type": "code",
   "execution_count": 2,
   "metadata": {},
   "outputs": [],
   "source": [
    "hive = Hive()\n",
    "set_shared_blockchain_instance(hive)\n",
    "stop = datetime.utcnow() - timedelta(days=31) # Checks last month"
   ]
  },
  {
   "cell_type": "code",
   "execution_count": 3,
   "metadata": {},
   "outputs": [],
   "source": [
    "hacked = []\n",
    "with open('steemengineteam_group.txt','r') as f:\n",
    "    for l in f:\n",
    "        hacked.append(l.strip())"
   ]
  },
  {
   "cell_type": "code",
   "execution_count": 4,
   "metadata": {},
   "outputs": [],
   "source": [
    "def useractive(user):\n",
    "    # Work back looking for last post/comment or vote\n",
    "    acc = Account(user)#, blockchain_instance=hive)\n",
    "    voted = commented = False\n",
    "\n",
    "    for a in acc.history_reverse(stop=stop, only_ops=[\"vote\", \n",
    "                                                      \"comment\"]):\n",
    "        if a[\"type\"] == \"vote\":\n",
    "            voted = True\n",
    "        if a[\"author\"] == user:\n",
    "            if a[\"type\"] == \"comment\":\n",
    "                commented = True\n",
    "                break # Don't need to check if they voted as well\n",
    "            \n",
    "    return (voted, commented)"
   ]
  },
  {
   "cell_type": "code",
   "execution_count": 5,
   "metadata": {},
   "outputs": [],
   "source": [
    "def output_region(region, active, voting, inactive):\n",
    "    if region != None:\n",
    "        act, voter, inact = len(active), len(voting), len(inactive)\n",
    "        print(f'## {region} ({act}/{voter}/{inact})')\n",
    "        if act:\n",
    "            print('@'+ (', @'.join(sorted(active))))\n",
    "            print()\n",
    "        if voter:\n",
    "            print('Voting: @'+ (', @'.join(sorted(voting))))\n",
    "            print()\n",
    "        if inact:\n",
    "            print('Inactive: @'+ (', @'.join(sorted(inactive))))\n",
    "            print()"
   ]
  },
  {
   "cell_type": "code",
   "execution_count": 6,
   "metadata": {},
   "outputs": [
    {
     "name": "stdout",
     "output_type": "stream",
     "text": [
      "## London and the South East (53/38/39)\n",
      "@adetorrent (London), @andy4475 (Woking), @artelmedia (West London), @atomcollector (@risingstargame @juxtamusic), @audiohive-me, @awah, @basilmarples, @bellou61 (Brighton), @camerarules, @cezary-io, @chris-uk (Norwich), @cryptogee, @daine-cherry, @dannyshine, @darkstardust (London @ladystardust), @davidthompson57, @donatello, @dubble (London), @dunsky (London), @edenmichelle, @gillianpearce (Brighton), @grizzle (Bedford), @imfarhad, @jaxsonmurph, @kaywoods, @kgakakillerg (@gmlrecordz @kggymlife), @lloyddavis (@steemcampuk @lloyd-social), @mamalanuk (Brixton), @maneco64, @moemanmoesly, @molometer, @nakedverse, @nickyhavey, @nicolcron, @notaboutme, @petrahaller, @profitmachine (Istanbul and London), @raymondspeaks, @rmsbodybuilding, @samsmith1971, @sergiomendes (@thesassysergio), @shutterepair (London), @silvergoldhunter, @spectrumecons, @stav (Norfolk), @steevc (Bedfordshire @tenkminnows @swing47), @stickupboys (Brighton), @stickupmusic (Brighton), @stormkeepergu (@stormkeepersmdk), @talesfrmthecrypt, @thecryptidcrone, @trippymane, @ultravioletmag\n",
      "\n",
      "Voting: @actuarialuk91 (Cambridge), @bleepcoin, @blockchainyouth, @charitycurator, @d3p0, @danshawmusic (London), @dashfit, @digna, @ezzy, @greatvideos, @holisticmom, @icepee, @immarojas, @kabir88, @kph, @liverehab, @markangeltrueman, @matildamoment, @mattniblock, @namiks, @nanzo-scoop, @nathanmars, @pizzadalek, @pushpedal, @queenoftheworld, @rafique, @redrica, @robbieallenart, @sagardyola (London), @slayerkm, @stickchumpion, @stimp1024, @teodora, @touringhousewife, @tricki, @wilfredn, @winkandwoo, @xxxxxxxxxxxxxxxx\n",
      "\n",
      "Inactive: @abeilleblooms (Southend), @adamaslam, @artzo, @bewithbreath, @blackrussian, @boogieboa, @breadcentric (Bedfordshire), @carwashlondon, @djjamesblack (Brighton), @dolphinartuk (Essex), @dougalporteous, @dougdigital, @dronegraphica, @elmerlin (London), @endaksi1 (Cambridge), @fleur (Cambridge), @frankiic3, @hockney, @jameshsmitharts, @jedb, @kezyma, @knelstrom, @knit-stich-witch (London), @minteh, @rawveganista, @rea, @rosa33, @sazzler, @stealthywolfxli, @steemlondon, @susanlo, @the-busy-bee, @the-gorilla, @thedawness, @timspawls, @todayslight, @watt.the.watt, @writerjordan, @zoltarian\n",
      "\n",
      "## The Midlands (15/11/18)\n",
      "@abh12345, @article61, @dickturpin, @ellenripley, @galacey (Birmingham), @gribbles, @michelle.gent (Sherwood Forest), @neopch, @rthelly, @shanibeer (@susie-saver Leicester), @shmoogleosukami, @susie-saver, @the3metrewrap, @ura-soul, @xwidep\n",
      "\n",
      "Voting: @awakingelements, @beautifulbullies, @dannewton (@earthsea), @kryptoe, @leighscotford, @opheliafu, @rimicane, @s0u1 (Nottinghamshire), @skaarl, @tamiapt6, @unkidrik\n",
      "\n",
      "Inactive: @audreyvr, @bettynoir, @brianbrogan1960, @codelikeamother, @dawnsart, @decentered-media, @ebabb, @fastchrisuk, @fizogphotography, @flashpointstudio, @jaytaylor, @martaesperanza, @maxrwolfe, @neilru75, @paulofnottingham, @purplephoto, @stormriderstudio, @wildonewon\n",
      "\n",
      "## The South West (12/7/4)\n",
      "@blade7 (Cornwall), @davidlionfish (Bristol), @diveratt, @dontcare89 (Newquay), @francesleader, @jimbobbill, @jonboka, @livinguktaiwan, @mudcat36, @sharpshot, @sunsethunter, @ukbitcoinmaster\n",
      "\n",
      "Voting: @adambarratt, @eveningart, @newtonclassics, @nockzonk, @perceptualflaws, @thomaskatan, @wolven-znz\n",
      "\n",
      "Inactive: @cryptokingzno1, @dedarknes (Plymouth), @phoenixftwinter, @stickycj\n",
      "\n",
      "## The North (25/13/20)\n",
      "@ashtv (Yorkshire), @c0ff33a (Yorkshire @whiterosecoffee @teamuksupport), @chisdealhd, @dadspardan, @darrenclaxton, @darrenflinders, @demotruk (Isle of Man), @honeyrabbit, @iamdarrenclaxton (Derbyshire), @jphamer1, @karenb54, @kiers (Manchester), @let123, @mattbrown.art (Isle of Man), @planetauto, @radicalpears (Huddersfield), @raj808, @sam1965uk, @sarennadiu (Manchester), @slobberchops, @someguy123, @stevenwood, @streetwize (Bradford), @teamhumble, @vraba\n",
      "\n",
      "Voting: @artonmysleeve, @bingbabe, @cryptocurator, @digitaldan, @dizzydiscovery, @goblinknackers, @jskitty, @lastravage, @m-ssed-t, @makrotheblack (Liverpool), @mckeever, @pcste, @sisygoboom\n",
      "\n",
      "Inactive: @adamfryda-art, @ambrosechappel (Southport), @amos1969, @amy-explores, @anidiotexplores, @dismayedworld, @emergingtech (Manchester), @erdeniz (Manchester), @father2b, @gentmartin (Leeds), @introvert-dime, @jackshootsstuff (West Yorkshire), @jacpl, @leetodd, @madmaxx12 (Manchester), @magenta24, @richgaynor, @schminimal, @steddyman, @yunnie (Isle of Man)\n",
      "\n",
      "## Scotland (10/8/7)\n",
      "@barge (@krunkypuram), @cadawg, @camuel (@acousticguitar), @celticheartbeat (@jubei333), @cottonlazarus, @graemesaxton, @injuryclaims, @joshuaslane, @kevmcc, @meesterboom (@b00m)\n",
      "\n",
      "Voting: @btcvenom, @fiftysixnorth, @howiemac, @myskye, @natubat, @rafalforeigner, @stef1 (@art-venture), @wisbeech\n",
      "\n",
      "Inactive: @agrestic, @danaidhbee, @epicdave, @highlandwalker, @huitemae, @imaginingfreedom, @indusrush\n",
      "\n",
      "## Wales (8/4/5)\n",
      "@cassi, @grindle, @louisthomas, @nozzy, @pumpkinsandcats, @stevelivingston, @theturtleproject, @welshstacker\n",
      "\n",
      "Voting: @gazbaz4000, @p-props, @pennsif (@steemclub-uk), @stevejhuggett\n",
      "\n",
      "Inactive: @alishas, @artystuff, @elizabethharvey, @magnus19, @trolleydave\n",
      "\n",
      "## Northern Ireland (1/2/0)\n",
      "@silverstackeruk\n",
      "\n",
      "Voting: @besold, @ninasophia\n",
      "\n",
      "## Somewhere in the UK... (30/36/37)\n",
      "@abdex9, @arrasails1977, @audrein (England), @biscuitbarrel (England), @bokarecords, @crucialweb, @cryptosneeze, @forbritain, @hftdigital, @hive.curation, @iansart, @jmehta, @lefty619, @lordavatarii, @millycf1976, @offthecuff2020, @platinum-blue, @quickthen, @remystar93, @sbenbow, @scubahead, @shando73, @socialmediaseo, @tomatom, @tommyrobinson, @trading-tokens (England), @utopia-hope (England), @vtravels, @zedcell, @zeeshannaqvi72\n",
      "\n",
      "Voting: @anarchojeweler, @andrewharland, @blue.panda, @bobskibob, @brothershield, @cynicalcake, @damianjayclay, @djsl82, @dnpq, @english-ant, @eternalsuccess, @fadetoblack, @filbell, @frugal-fun, @gmuxx, @goldstreet, @haitch, @hopehuggs, @imbartley, @localgrower, @loolooasuna, @luppers, @niko3d, @nockzonk, @owenwat, @phonetix, @pjau, @realjohnaziz, @ryanscottesq, @scalextrix, @steemboat-steve, @stevieboyes, @tazbaz, @tggr.trb, @tkolpaczek, @webdeals\n",
      "\n",
      "Inactive: @adhudson, @alheath, @alienbutt, @autocoincars, @basejumper, @bloodycritique, @bobbylee, @brauner-benz, @brianhphotos, @catanddogtips, @clivemartin, @cryptovios, @davewuk, @drvimto, @earnxtreme, @elliotjgardner, @fatasfunk, @hilarywhitehead, @hkb28, @jimjam1210, @marcusbraeburn, @marketingmonk, @mrsatoshiii, @peedeerai, @pellx, @premiumdomains, @quirk-it, @redarrow, @seanspeaks, @smileformovie, @spicetrader, @the-nature-plug, @tobias-g, @tremendospercy, @ukheather, @v3ptur, @vibeof100monkeys\n",
      "\n",
      "## Expats (19/2/7)\n",
      "@accelerator (@rycharde Thailand), @cristina-zac (Spain), @cryptoandcoffee (South Africa), @eco-alex (Planet Earth), @eftnow (Spain), @elricmoonslayer (Spain), @felt.buzz (France), @justinchicken (Japan), @lucylin (Thailand), @mattsbeamer (Russia), @minismallholding (Australia), @moonyoga (Portugal), @nathen007 (@leedsunited Thailand), @revisesociology (Portugal), @samstonehill (France), @sebcam (USA), @shepz1 (Poland), @starkerz (Cyberspace), @trucklife-family (The Earth)\n",
      "\n",
      "Voting: @jeffandhisguitar (SE Asia), @tggr (Singapore)\n",
      "\n",
      "Inactive: @beckymeep (USA), @biggypauls (Philippines), @l0tti3 (South Africa), @livelovejourney (Majorca), @milliganstravels (Thailand), @ripebanana (Trinidad and Tobago), @thinkit (Thailand)\n",
      "\n",
      "## Totals\n",
      "**Total active** UK: 154, Expats: 19\n"
     ]
    }
   ],
   "source": [
    "with open('users.txt', 'r') as f:\n",
    "    active = []\n",
    "    inactive = []\n",
    "    voting =[]\n",
    "    region = None\n",
    "    now = datetime.utcnow() \n",
    "    total_active = 0\n",
    "    fish = {'redfish': 0, 'minnow':0, 'dolphin':0, 'orca':0, 'whale':0}\n",
    "    age = {'month':0, '2month':0, '3month':0, 'year':0, 'older':0}\n",
    "    for l in f:\n",
    "        fields = l.split(',')\n",
    "        if fields[0] == 'R':\n",
    "            output_region(region, active, voting, inactive)\n",
    "            total_active += len(active) # Will not count the last region, but exclude expats from total anyway\n",
    "            region = fields[1].strip()\n",
    "            active, voting, inactive = [], [], []\n",
    "        else:\n",
    "            name = dname = fields[0].strip()\n",
    "            if '(' in name:\n",
    "                dname = name\n",
    "                name = name[:(name.find('(')-1)]\n",
    "            if not name in hacked:\n",
    "                voter, commenter = useractive(name)\n",
    "                if commenter:\n",
    "                    active.append(dname)\n",
    "                elif voter:\n",
    "                    voting.append(dname)\n",
    "                else: # Inactive\n",
    "                    inactive.append(dname)\n",
    "                if commenter or voter:\n",
    "                    acc = Account(name)\n",
    "                    hp = acc.balances['available'][2].amount_decimal\n",
    "                    if hp > 1E9:\n",
    "                        fish['whale'] += 1\n",
    "                    elif hp > 1E8:\n",
    "                        fish['orca'] += 1\n",
    "                    elif hp > 1E7:\n",
    "                        fish['dolphin'] += 1\n",
    "                    elif hp > 1E6:\n",
    "                        fish['minnow'] += 1\n",
    "                    else:\n",
    "                        fish['redfish'] += 1\n",
    "\n",
    "                    for i in acc.get_account_history(0,1):\n",
    "                        created = cr = datetime.strptime(i['timestamp'], '%Y-%m-%dT%H:%M:%S')\n",
    "                    accage = (now - created).days\n",
    "                    if accage > 365:\n",
    "                        age['older'] += 1\n",
    "                    elif accage > 90:\n",
    "                        age['year'] += 1\n",
    "                    elif accage > 60:\n",
    "                        age['3month'] += 1\n",
    "                    elif accage > 30:\n",
    "                        age['2month'] += 1\n",
    "                    else:\n",
    "                        age['month'] += 1\n",
    "\n",
    "    output_region(region, active, voting, inactive)\n",
    "    print('## Totals')\n",
    "    print(f'**Total active** UK: {total_active}, Expats: {len(active)}')\n"
   ]
  },
  {
   "cell_type": "code",
   "execution_count": 7,
   "metadata": {},
   "outputs": [
    {
     "name": "stdout",
     "output_type": "stream",
     "text": [
      "{'redfish': 139, 'minnow': 104, 'dolphin': 36, 'orca': 15, 'whale': 0}\n"
     ]
    },
    {
     "data": {
      "text/plain": [
       "Text(0.5, 1.0, 'Account Levels')"
      ]
     },
     "execution_count": 7,
     "metadata": {},
     "output_type": "execute_result"
    },
    {
     "data": {
      "image/png": "[encoded data removed]",
      "text/plain": [
       "<Figure size 432x288 with 1 Axes>"
      ]
     },
     "metadata": {
      "needs_background": "light"
     },
     "output_type": "display_data"
    }
   ],
   "source": [
    "print(fish)\n",
    "plt.bar(fish.keys(), fish.values(), color=['red','green','blue','black','gray']);\n",
    "plt.title('Account Levels')"
   ]
  },
  {
   "cell_type": "code",
   "execution_count": 8,
   "metadata": {},
   "outputs": [
    {
     "name": "stdout",
     "output_type": "stream",
     "text": [
      "{'month': 12, '2month': 3, '3month': 10, 'year': 30, 'older': 239}\n"
     ]
    },
    {
     "data": {
      "text/plain": [
       "Text(0.5, 1.0, 'Account Ages')"
      ]
     },
     "execution_count": 8,
     "metadata": {},
     "output_type": "execute_result"
    },
    {
     "data": {
      "image/png": "[encoded data removed]",
      "text/plain": [
       "<Figure size 432x288 with 1 Axes>"
      ]
     },
     "metadata": {
      "needs_background": "light"
     },
     "output_type": "display_data"
    }
   ],
   "source": [
    "print(age)\n",
    "plt.bar(age.keys(), age.values(), color=['red', 'orange', 'green','blue','brown']);\n",
    "plt.title('Account Ages')"
   ]
  },
  {
   "cell_type": "code",
   "execution_count": null,
   "metadata": {},
   "outputs": [],
   "source": []
  }
 ],
 "metadata": {
  "kernelspec": {
   "display_name": "Python 3",
   "language": "python",
   "name": "python3"
  },
  "language_info": {
   "codemirror_mode": {
    "name": "ipython",
    "version": 3
   },
   "file_extension": ".py",
   "mimetype": "text/x-python",
   "name": "python",
   "nbconvert_exporter": "python",
   "pygments_lexer": "ipython3",
   "version": "3.8.5"
  }
 },
 "nbformat": 4,
 "nbformat_minor": 2
}
