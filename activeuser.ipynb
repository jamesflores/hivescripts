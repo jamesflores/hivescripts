{
 "cells": [
  {
   "cell_type": "markdown",
   "metadata": {},
   "source": [
    "Todo:\n",
    "* Chart of account age. Show how many newbies - done\n",
    "* Chart of account size -done\n",
    "* Hide compromised accounts - done"
   ]
  },
  {
   "cell_type": "code",
   "execution_count": 1,
   "metadata": {},
   "outputs": [],
   "source": [
    "# Build a list of active users suitable for a Hive post\n",
    "# Loads users from file users.txt. Lines starting with R are regions\n",
    "\n",
    "from datetime import datetime, timedelta, date\n",
    "from beem import Hive\n",
    "from beem.account import Account\n",
    "from beem.amount import Amount\n",
    "from beem.comment import Comment\n",
    "from beem.exceptions import ContentDoesNotExistsException\n",
    "from beem.instance import set_shared_blockchain_instance\n",
    "import matplotlib.pyplot as plt"
   ]
  },
  {
   "cell_type": "code",
   "execution_count": 2,
   "metadata": {},
   "outputs": [],
   "source": [
    "hive = Hive()\n",
    "set_shared_blockchain_instance(hive)\n",
    "stop = datetime.utcnow() - timedelta(days=31) # Checks last month"
   ]
  },
  {
   "cell_type": "code",
   "execution_count": 3,
   "metadata": {},
   "outputs": [],
   "source": [
    "hacked = []\n",
    "with open('steemengineteam_group.txt','r') as f:\n",
    "    for l in f:\n",
    "        hacked.append(l.strip())"
   ]
  },
  {
   "cell_type": "code",
   "execution_count": 4,
   "metadata": {},
   "outputs": [],
   "source": [
    "def useractive(user):\n",
    "    # Work back looking for last post/comment or vote\n",
    "    acc = Account(user)#, blockchain_instance=hive)\n",
    "    voted = commented = False\n",
    "\n",
    "    for a in acc.history_reverse(stop=stop, only_ops=[\"vote\", \n",
    "                                                      \"comment\"]):\n",
    "        if a[\"type\"] == \"vote\":\n",
    "            voted = True\n",
    "        if a[\"author\"] == user:\n",
    "            if a[\"type\"] == \"comment\":\n",
    "                commented = True\n",
    "                break # Don't need to check if they voted as well\n",
    "            \n",
    "    return (voted, commented)"
   ]
  },
  {
   "cell_type": "code",
   "execution_count": 5,
   "metadata": {},
   "outputs": [],
   "source": [
    "def output_region(region, active, voting, inactive):\n",
    "    if region != None:\n",
    "        act, voter, inact = len(active), len(voting), len(inactive)\n",
    "        print(f'# {region} ({act}/{voter}/{inact})')\n",
    "        if act:\n",
    "            print('@'+ (', @'.join(sorted(active))))\n",
    "            print()\n",
    "        if voter:\n",
    "            print('Voting: @'+ (', @'.join(sorted(voting))))\n",
    "            print()\n",
    "        if inact:\n",
    "            print('Inactive: @'+ (', @'.join(sorted(inactive))))\n",
    "            print()"
   ]
  },
  {
   "cell_type": "code",
   "execution_count": 6,
   "metadata": {},
   "outputs": [
    {
     "name": "stdout",
     "output_type": "stream",
     "text": [
      "# London & the South East (66/20/23)\n",
      "@adetorrent (London), @andy4475, @artelmedia, @atomcollector (@risingstargame @juxtamusic), @audiohive-me, @awah, @basilmarples, @bellou61, @bleepcoin, @blockchainyouth, @carwashlondon, @cezary-io, @chris-uk, @cryptogee, @daine-cherry, @dannyshine, @davidthompson57, @dolphinartuk (Essex), @donatello, @dougdigital, @edenmichelle, @frankiic3, @gillianpearce (Brighton), @greatvideos, @holisticmom, @imfarhad, @immarojas, @jaxsonmurph, @kaywoods, @kgakakillerg (@gmlrecordz @kggymlife), @knelstrom, @kph, @lloyddavis (@steemcampuk @lloyd-social), @maneco64, @markangeltrueman, @moemanmoesly, @molometer, @namiks, @nathanmars, @nickyhavey, @nicolcron, @notaboutme, @petrahaller, @queenoftheworld, @raymondspeaks, @rmsbodybuilding, @robbieallenart, @sergiomendes (@thesassysergio), @silvergoldhunter, @slayerkm, @spectrumecons, @steevc (@tenkminnows @swing47 Bedfordshire), @stickchumpion, @stickupboys (Brighton), @stickupmusic (Brighton), @stormkeepergu (@stormkeepersmdk), @talesfrmthecrypt, @teodora, @thecryptidcrone, @thedawness, @trippymane, @ultravioletmag, @watt.the.watt, @winkandwoo, @writerjordan, @xxxxxxxxxxxxxxxx\n",
      "\n",
      "Voting: @bewithbreath, @charitycurator, @d3p0, @dashfit, @digna, @ezzy, @fleur, @icepee, @kabir88, @liverehab, @matildamoment, @mattniblock, @minteh, @nakedverse, @nanzo-scoop, @rafique, @redrica, @stimp1024, @tricki, @wilfredn\n",
      "\n",
      "Inactive: @adamaslam, @artzo, @blackrussian, @boogieboa, @breadcentric, @dougalporteous, @dronegraphica, @hockney, @jameshsmitharts, @jedb, @kezyma, @pushpedal, @rea, @rosa33, @stav (Norfolk), @stealthywolfxli, @steemlondon, @susanlo, @the-busy-bee, @the-gorilla, @todayslight, @touringhousewife, @zoltarian\n",
      "\n",
      "# The Midlands (18/7/16)\n",
      "@abh12345, @article61, @awakingelements, @beautifulbullies, @dickturpin, @ellenripley, @fastchrisuk, @gribbles, @neilru75, @neopch, @rimicane, @rthelly, @shanibeer, @shmoogleosukami, @susie-saver, @the3metrewrap, @ura-soul, @xwidep\n",
      "\n",
      "Voting: @dannewton (@earthsea), @jaytaylor, @kryptoe, @leighscotford, @skaarl, @tamiapt6, @unkidrik\n",
      "\n",
      "Inactive: @audreyvr, @bettynoir, @brianbrogan1960, @codelikeamother, @dawnsart, @decentered-media, @ebabb, @fizogphotography, @flashpointstudio, @martaesperanza, @maxrwolfe, @opheliafu, @paulofnottingham, @purplephoto, @stormriderstudio, @wildonewon\n",
      "\n",
      "# The South West (17/2/1)\n",
      "@adambarratt, @cryptokingzno1, @davidlionfish, @diveratt, @francesleader, @jimbobbill, @jonboka, @livinguktaiwan, @mudcat36, @nockzonk, @phoenixftwinter, @sharpshot, @stickycj, @sunsethunter, @thomaskatan, @ukbitcoinmaster, @wolven-znz\n",
      "\n",
      "Voting: @eveningart, @newtonclassics\n",
      "\n",
      "Inactive: @perceptualflaws\n",
      "\n",
      "# The North (26/13/6)\n",
      "@amos1969, @amy-explores, @artonmysleeve, @ashtv, @c0ff33a (@whiterosecoffee), @chisdealhd, @dadspardan, @darrenclaxton, @darrenflinders, @goblinknackers, @introvert-dime, @jackshootsstuff (West Yorkshire), @jphamer1, @karenb54, @let123, @madmaxx12 (Manchester), @magenta24, @mckeever, @planetauto, @radicalpears, @raj808, @richgaynor, @sam1965uk, @slobberchops, @stevenwood, @teamhumble\n",
      "\n",
      "Voting: @bingbabe, @cryptocurator, @digitaldan, @dizzydiscovery, @jacpl, @jskitty, @lastravage, @m-ssed-t, @makrotheblack, @pcste, @schminimal, @sisygoboom, @someguy123\n",
      "\n",
      "Inactive: @adamfryda-art, @anidiotexplores, @dismayedworld, @father2b, @leetodd, @vraba\n",
      "\n",
      "# Scotland (12/8/3)\n",
      "@barge, @cadawg, @camuel (@acousticguitar), @celticheartbeat (@jubei333), @cottonlazarus, @epicdave, @huitemae, @imaginingfreedom, @joshuaslane, @kevmcc, @meesterboom (@b00m), @rafalforeigner\n",
      "\n",
      "Voting: @btcvenom, @fiftysixnorth, @howiemac, @indusrush, @myskye, @natubat, @stef1 (@art-venture), @wisbeech\n",
      "\n",
      "Inactive: @agrestic, @danaidhbee, @highlandwalker\n",
      "\n",
      "# Wales (7/5/3)\n",
      "@cassi, @grindle, @louisthomas, @pennsif (@steemclub-uk), @pumpkinsandcats, @stevelivingston, @welshstacker\n",
      "\n",
      "Voting: @elizabethharvey, @gazbaz4000, @p-props, @stevejhuggett, @theturtleproject\n",
      "\n",
      "Inactive: @artystuff, @magnus19, @trolleydave\n",
      "\n",
      "# Northern Ireland (1/1/0)\n",
      "@silverstackeruk\n",
      "\n",
      "Voting: @besold\n",
      "\n",
      "# Somewhere in the UK... (31/36/17)\n",
      "@alienbutt, @bobskibob, @brianhphotos, @cryptosneeze, @fadetoblack, @forbritain, @grizzle, @haitch, @hkb28, @iansart, @jmehta, @localgrower, @marketingmonk, @millycf1976, @nockzonk, @offthecuff2020, @platinum-blue, @premiumdomains, @remystar93, @sbenbow, @scubahead, @seanspeaks, @smileformovie, @socialmediaseo, @stevieboyes, @teamuksupport, @tomatom, @tommyrobinson, @v3ptur, @vtravels, @webdeals\n",
      "\n",
      "Voting: @alheath, @anarchojeweler, @andrewharland, @bloodycritique, @bobbylee, @brothershield, @cynicalcake, @damianjayclay, @davewuk, @djsl82, @dnpq, @english-ant, @eternalsuccess, @frugal-fun, @gmuxx, @goldstreet, @hopehuggs, @imbartley, @lefty619, @loolooasuna, @luppers, @niko3d, @owenwat, @pellx, @phonetix, @pjau, @quirk-it, @realjohnaziz, @scalextrix, @steddyman, @steemboat-steve, @tazbaz, @tggr.trb, @tkolpaczek, @tobias-g, @tremendospercy\n",
      "\n",
      "Inactive: @adhudson, @autocoincars, @basejumper, @bokarecords, @catanddogtips, @crucialweb, @cryptovios, @drvimto, @earnxtreme, @elliotjgardner, @hilarywhitehead, @jimjam1210, @marcusbraeburn, @peedeerai, @redarrow, @the-nature-plug, @vibeof100monkeys\n",
      "\n",
      "# Expats (20/2/2)\n",
      "@accelerator (@rycharde Thailand), @beckymeep (USA), @cryptoandcoffee (South Africa), @eco-alex (Planet Earth), @eftnow (Spain), @jeffandhisguitar (SE Asia), @justinchicken (Japan), @l0tti3 (South Africa), @livelovejourney (Majorca), @lucylin, @minismallholding (Australia), @moonyoga (Portugal), @nathen007 (@leedsunited Thailand), @revisesociology (Portugal), @ripebanana (Trinidad and Tobago), @samstonehill (France), @sebcam (USA), @shepz1 (Poland), @thinkit (Thailand), @trucklife-family (The Earth)\n",
      "\n",
      "Voting: @starkerz (Cyberspace), @tggr (Singapore)\n",
      "\n",
      "Inactive: @biggypauls (Philippines), @mattsbeamer (Russia)\n",
      "\n",
      "**Total active** UK: 178, Expats: 20\n",
      "{'redfish': 128, 'minnow': 112, 'dolphin': 38, 'orca': 14, 'whale': 0}\n",
      "{'month': 18, 'year': 45, 'older': 229}\n"
     ]
    }
   ],
   "source": [
    "with open('users.txt', 'r') as f:\n",
    "    active = []\n",
    "    inactive = []\n",
    "    voting =[]\n",
    "    region = None\n",
    "    now = datetime.utcnow() \n",
    "    total_active = 0\n",
    "    fish = {'redfish': 0, 'minnow':0, 'dolphin':0, 'orca':0, 'whale':0}\n",
    "    age = {'month':0, 'year':0, 'older':0}\n",
    "    for l in f:\n",
    "        #print(l)\n",
    "        fields = l.split(',')\n",
    "        if fields[0] == 'R':\n",
    "            output_region(region, active, voting, inactive)\n",
    "            total_active += len(active) # Will not count the last region, but exclude expats from total anyway\n",
    "            region = fields[1].strip()\n",
    "            active, voting, inactive = [], [], []\n",
    "        else:\n",
    "            name = dname = fields[0].strip()\n",
    "            if '(' in name:\n",
    "                dname = name\n",
    "                name = name[:(name.find('(')-1)]\n",
    "            if not name in hacked:\n",
    "                voter, commenter = useractive(name)\n",
    "                if commenter:\n",
    "                    active.append(dname)\n",
    "                elif voter:\n",
    "                    voting.append(dname)\n",
    "                else: # Inactive\n",
    "                    inactive.append(dname)\n",
    "                if commenter or voter:\n",
    "                    acc = Account(name)\n",
    "                    hp = acc.balances['available'][2].amount_decimal\n",
    "                    if hp > 1E9:\n",
    "                        fish['whale'] += 1\n",
    "                    elif hp > 1E8:\n",
    "                        fish['orca'] += 1\n",
    "                    elif hp > 1E7:\n",
    "                        fish['dolphin'] += 1\n",
    "                    elif hp > 1E6:\n",
    "                        fish['minnow'] += 1\n",
    "                    else:\n",
    "                        fish['redfish'] += 1\n",
    "\n",
    "                    for i in acc.get_account_history(0,1):\n",
    "                        created = cr = datetime.strptime(i['timestamp'], '%Y-%m-%dT%H:%M:%S')\n",
    "                    accage = (now - created).days\n",
    "                    if accage > 365:\n",
    "                        age['older'] += 1\n",
    "                    elif accage > 31:\n",
    "                        age['year'] += 1\n",
    "                    else:\n",
    "                        age['month'] += 1\n",
    "\n",
    "    output_region(region, active, voting, inactive)\n",
    "    print(f'**Total active** UK: {total_active}, Expats: {len(active)}')\n",
    "    print(fish)\n",
    "    print(age)"
   ]
  },
  {
   "cell_type": "code",
   "execution_count": 7,
   "metadata": {},
   "outputs": [
    {
     "data": {
      "text/plain": [
       "Text(0.5, 1.0, 'Account Levels')"
      ]
     },
     "execution_count": 7,
     "metadata": {},
     "output_type": "execute_result"
    },
    {
     "data": {
      "image/png": "[encoded data removed]",
      "text/plain": [
       "<Figure size 432x288 with 1 Axes>"
      ]
     },
     "metadata": {
      "needs_background": "light"
     },
     "output_type": "display_data"
    }
   ],
   "source": [
    "plt.bar(fish.keys(), fish.values(), color=['red','green','blue','black','gray']);\n",
    "plt.title('Account Levels')"
   ]
  },
  {
   "cell_type": "code",
   "execution_count": 8,
   "metadata": {},
   "outputs": [
    {
     "data": {
      "text/plain": [
       "Text(0.5, 1.0, 'Account Ages')"
      ]
     },
     "execution_count": 8,
     "metadata": {},
     "output_type": "execute_result"
    },
    {
     "data": {
      "image/png": "[encoded data removed]",
      "text/plain": [
       "<Figure size 432x288 with 1 Axes>"
      ]
     },
     "metadata": {
      "needs_background": "light"
     },
     "output_type": "display_data"
    }
   ],
   "source": [
    "plt.bar(age.keys(), age.values(), color=['green','blue','brown']);\n",
    "plt.title('Account Ages')"
   ]
  },
  {
   "cell_type": "code",
   "execution_count": null,
   "metadata": {},
   "outputs": [],
   "source": []
  }
 ],
 "metadata": {
  "kernelspec": {
   "display_name": "Python 3",
   "language": "python",
   "name": "python3"
  },
  "language_info": {
   "codemirror_mode": {
    "name": "ipython",
    "version": 3
   },
   "file_extension": ".py",
   "mimetype": "text/x-python",
   "name": "python",
   "nbconvert_exporter": "python",
   "pygments_lexer": "ipython3",
   "version": "3.8.5"
  }
 },
 "nbformat": 4,
 "nbformat_minor": 2
}
