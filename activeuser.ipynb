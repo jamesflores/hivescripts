{
 "cells": [
  {
   "cell_type": "markdown",
   "metadata": {},
   "source": [
    "Todo:\n",
    "* Chart of account age. Show how many newbies - done\n",
    "* Chart of account size -done\n",
    "* Hide compromised accounts - done\n",
    "* 6/10/23 Use SQL to check for active"
   ]
  },
  {
   "cell_type": "code",
   "execution_count": 1,
   "metadata": {},
   "outputs": [],
   "source": [
    "# Build a list of active users suitable for a Hive post\n",
    "# Loads users from file users.txt. Lines starting with R are regions\n",
    "\n",
    "from datetime import datetime, timedelta, date, timedelta\n",
    "from beem import Hive\n",
    "from beem.account import Account\n",
    "from beem.amount import Amount\n",
    "from beem.comment import Comment\n",
    "from beem.exceptions import ContentDoesNotExistsException\n",
    "from beem.instance import set_shared_blockchain_instance\n",
    "import matplotlib.pyplot as plt\n",
    "import pyodbc\n",
    "import pandas as pd"
   ]
  },
  {
   "cell_type": "code",
   "execution_count": 2,
   "metadata": {},
   "outputs": [],
   "source": [
    "with open('pw.txt') as f:\n",
    "    for l in f:\n",
    "        uname, pw = l.split()\n",
    "\n",
    "cnxn_str = (\"Driver={ODBC Driver 17 for SQL Server};\"\n",
    "            \"Server=vip.hivesql.io;\"\n",
    "            \"Database=DBHive;\"\n",
    "            f\"UID={uname};\"\n",
    "            f\"PWD={pw};\")\n",
    "cnxn = pyodbc.connect(cnxn_str)"
   ]
  },
  {
   "cell_type": "code",
   "execution_count": 20,
   "metadata": {},
   "outputs": [],
   "source": [
    "hive = Hive(node=['https://anyx.io'])#https://rpc.ausbit.dev','https://api.deathwing.me', 'https://api.hive.blog'])\n",
    "set_shared_blockchain_instance(hive)\n",
    "stop = datetime.utcnow() - timedelta(days=31) # Checks last month\n",
    "stopstr = stop.strftime('%Y-%m-%d')\n",
    "fullstop = datetime.utcnow() - timedelta(days=365) # Checks last year\n",
    "sqlfromdate = (date.today()-timedelta(days=365)).strftime('%Y-%m-%d')\n",
    "sqlmonth = (date.today()-timedelta(days=31)).strftime('%Y-%m-%d')\n",
    "#print(sqlfromdate)"
   ]
  },
  {
   "cell_type": "code",
   "execution_count": 4,
   "metadata": {},
   "outputs": [],
   "source": [
    "hacked = []\n",
    "with open('steemengineteam_group.txt','r') as f:\n",
    "    for l in f:\n",
    "        hacked.append(l.strip())"
   ]
  },
  {
   "cell_type": "code",
   "execution_count": 18,
   "metadata": {},
   "outputs": [],
   "source": [
    "def useractive(user):\n",
    "    # Work back looking for last post/comment or vote\n",
    "    acc = Account(user)#, blockchain_instance=hive)\n",
    "    voted = commented = activeyear = False\n",
    "\n",
    "    activeyear = False\n",
    "    for a in acc.history_reverse(stop=fullstop, only_ops=[\"vote\", \n",
    "                                                  \"comment\"]):\n",
    "        activeyear = True\n",
    "        if a['timestamp'][:10] >= stopstr:\n",
    "            if a[\"type\"] == \"vote\":\n",
    "                voted = True\n",
    "            if a[\"author\"] == user:\n",
    "                if a[\"type\"] == \"comment\":\n",
    "                    commented = True\n",
    "                    break # Don't need to check if they voted as well\n",
    "        else:\n",
    "            break\n",
    "    return (voted, commented, activeyear)\n",
    "\n",
    "def useractivex(user, sql=True):\n",
    "    # Work back looking for last post/comment or vote\n",
    "    acc = Account(user)#, blockchain_instance=hive)\n",
    "    voted = commented = activeyear = False\n",
    "\n",
    "    if not sql and not (voted or commented):\n",
    "        activeyear = False\n",
    "        for a in acc.history_reverse(stop=fullstop, only_ops=[\"vote\", \n",
    "                                                      \"comment\"]):\n",
    "            activeyear = True\n",
    "            break\n",
    "\n",
    "    if False:\n",
    "        r = pd.read_sql(f\"\"\"select count(*) as count\n",
    "                from Accounts a\n",
    "                where a.name = '{user}'\n",
    "                    and (a.last_vote_time  >= '{sqlfromdate}' or a.last_post  >= '{sqlfromdate}')\n",
    "                    \"\"\", cnxn)\n",
    "        for i, l in r.iterrows():\n",
    "            activeyear = l['count'] > 0\n",
    "            break\n",
    "\n",
    "    if sql:\n",
    "        r = pd.read_sql(f\"\"\"select a.last_vote_time, a.last_post\n",
    "                from Accounts a\n",
    "                where a.name = '{user}'\n",
    "                    \"\"\", cnxn)\n",
    "        for i, l in r.iterrows():\n",
    "            #print(l['last_vote_time'], l['last_post'])\n",
    "            activeyear = str(l['last_vote_time']) >= sqlfromdate or str(l['last_post']) >= sqlfromdate\n",
    "            if str(l['last_post']) >= sqlmonth:\n",
    "                commented = True\n",
    "            elif str(l['last_vote_time']) >= sqlmonth:\n",
    "                voted = True\n",
    "            break\n",
    "\n",
    "            \n",
    "    if False and activeyear:\n",
    "        for a in acc.history_reverse(stop=stop, only_ops=[\"vote\", \n",
    "                                                          \"comment\"]):\n",
    "            if a[\"type\"] == \"vote\":\n",
    "                voted = True\n",
    "            if a[\"author\"] == user:\n",
    "                if a[\"type\"] == \"comment\":\n",
    "                    commented = True\n",
    "                    break # Don't need to check if they voted as well\n",
    "\n",
    "    return (voted, commented, activeyear)"
   ]
  },
  {
   "cell_type": "code",
   "execution_count": 13,
   "metadata": {},
   "outputs": [],
   "source": [
    "def output_region(region, active, voting, inactive):\n",
    "    if region != None:\n",
    "        act, voter, inact = len(active), len(voting), len(inactive)\n",
    "        print(f'## {region} ({act}/{voter}/{inact})')\n",
    "        if act:\n",
    "            print('Posting: @'+ (', @'.join(sorted(active))))\n",
    "            print()\n",
    "        if voter:\n",
    "            print('Voting: @'+ (', @'.join(sorted(voting))))\n",
    "            print()\n",
    "        if inact:\n",
    "            print('Inactive: @'+ (', @'.join(sorted(inactive))))\n",
    "            print()"
   ]
  },
  {
   "cell_type": "code",
   "execution_count": 23,
   "metadata": {
    "scrolled": false
   },
   "outputs": [
    {
     "name": "stdout",
     "output_type": "stream",
     "text": [
      "## London and the South East (64/37/49)\n",
      "Posting: @adetorrent (London), @alonicus (Hampshire), @anna-newkey (Cambridgeshire @steve.and.anke), @assassyn (Reading), @awah, @basilmarples (Norwich), @beccss (London), @benthomaswwd (Northampton @heartbeatonhive @benthomasuk), @blockchainfpl (Eastbourne @the-gorilla @fplcanary), @bombaycrypto (London), @bxbridal (Watford), @cezary-io, @charliesmith11 (Hampshire), @chris-uk (Norwich), @cryptogee, @cryptosneeze, @daniellemurray (Herts @radioliquorice), @davidthompson57 (West Sussex), @devosdevosi (London), @donatello, @dubble (London), @dunsky (London), @edenmichelle, @egilles (London), @elmerlin (London @liketu), @gillianpearce (Brighton), @greendecoreuk (London), @greensmile, @ifeherart (London), @imfarhad, @kaazoom (East Sussex), @kgakakillerg (London @gmlrecordz @kggymlife), @lifeofbrownshuga (London), @maneco64, @mcsamm (Milton Keynes), @mhel (London), @mightyrocklee (Bedfordshire @heruvim1978), @ministickupboy (Brighton), @molometer (@mopal Cambridgeshire/London), @namiks, @nicklewis (Berkshire), @notaboutme, @purplesinger (Bedfordshire), @pvmihalache (Bedford), @raymondspeaks, @reviewer28 (London), @revisesociology, @richlyblk (Shoreditch), @risingstargame (@atomcollector @juxtamusic @jux), @samsmith1971, @spectrumecons, @steevc (Bedfordshire @tenkminnows @swing47), @stevermac1966 (Crystal Palace), @stickchumpion, @stickupboys (Brighton @stickupcurator @stickupcash), @stickupmusic (Brighton), @stickupofficial1 (Brighton), @stormkeepergu (East London @stormkeepersmdk), @talesfrmthecrypt, @teooo (Brighton), @thecogent (London), @todayslight (Bedfordshire @roaminglewis), @tonybad (London), @ura-soul (Norfolk or elsewhere)\n",
      "\n",
      "Voting: @andy4475 (Woking @andy-jahm @andy-vibes @andy-cine), @archatlas (Shoreditch), @bellou61 (Brighton), @bleepcoin, @blockchainyouth, @dannyshine, @dashfit, @digna, @ezzy, @has-k (London), @holisticmom, @icepee, @immarojas, @jaxsonmurph, @jgiordi (London), @liverehab, @lloyddavis (@steemcampuk @lloyd-social), @matildamoment, @mattniblock, @nakedverse, @nanzo-scoop, @nickyhavey, @nicolcron, @pepskaram (London), @pizzadalek, @redrica, @reviewed, @richardslater (Brighton), @rmsbodybuilding, @sergiomendes (@thesassysergio), @slayerkm, @stimp1024, @tricki, @trippymane, @wilfredn, @winkandwoo, @zoltarian\n",
      "\n",
      "Inactive: @adamaslam, @audiohive-me (@riverstage), @bboxonhive (Northamptonshire), @bettymorgan (London), @biggmusic (Brighton), @breadcentric (Bedfordshire), @brotherbhunru (St. Albans), @carvalhochris (London), @chadayan (London), @chrinnox (Londom), @d3p0, @daine-cherry, @dbofficial125 (Oxford), @dcrvx1000r (London), @djtorchie (Cambridge), @dolphinartuk (Essex), @eigeneggi (London), @evilisme (London), @gideonreeling (London), @greenjhon (London), @independentpress (London), @jimwenda (London), @jorjencrypto (London), @kabir88, @karwol (London), @knelstrom, @kph (Ipswich), @losttribe (High Wycombe), @lucidsamples (London), @markangeltrueman, @moemanmoesly, @monivis (Chertsey), @neilxg (London), @neutronsalad (London, @onalazyday (London), @petrahaller, @philsaatchi (Brighton), @queenoftheworld, @quentincc (London), @rafique, @robpye (London), @sally-notbright (Kent), @splurgee (London), @stav (Norfolk), @steve-o2023, @sudeginsiu (Brighton), @tdctunes (London), @theessexfunko (Essex), @wrobellek (Oxford)\n",
      "\n",
      "## The Midlands (16/10/15)\n",
      "Posting: @alicjavfs (Birmingham), @article61, @bbphotography (Lincoln), @beautifulbullies (Nottingham), @belemo (Nottingham), @dannewton (@earthsea), @dickturpin, @ellenripley, @fastchrisuk (Nottinghamshire), @grottbags (Northamptonshire), @neopch, @renaessanceman, @rimicane, @shanibeer (@susie-saver Leicester), @shmoogleosukami (Lincolnshire), @wolfofnostreet (Nottingham)\n",
      "\n",
      "Voting: @jin-out (Birmingham), @kryptoe, @leighscotford, @michelle.gent (Sherwood Forest), @mscleaning (Birmingham), @rthelly, @skaarl, @tamiapt6, @vanbliss (Northamptonshire), @zeeshannaqvi72\n",
      "\n",
      "Inactive: @awakingelements, @bettynoir, @bold-n-italics (Birmingham), @codelikeamother, @dawnsart, @gribbles, @gytribe (Lincolnshire), @juliasibillotte (Nottingham), @levelcompeteuk (Nottingham), @neilru75, @redfeend (Lincolnshire), @s0u1 (Nottinghamshire), @snowboarderpete (North Lincolnshire), @unkidrik (Lincolnshire), @xandercagex (Birmingham)\n",
      "\n",
      "## The South West (10/11/9)\n",
      "Posting: @countrysid (Somerset), @davidlionfish (Bristol), @diveratt, @dontcare89 (Newquay), @kathrynkw (Somerset), @killerkev (Bristol), @livinguktaiwan (@lut-studio), @nockzonk, @theworldaroundme, @ukbitcoinmaster\n",
      "\n",
      "Voting: @blade7 (Cornwall), @cubapl (Bristol), @eveningart, @grizzle, @jimbobbill, @nurseflo (Bath), @pompeylad (South Coast), @sharpshot, @stuartcturnbull (Cornwall), @thomaskatan, @wolven-znz\n",
      "\n",
      "Inactive: @francesleader (Dorset), @lacelight (Dorset), @lifespring, @mudcat36, @newtonclassics, @perceptualflaws, @smithykins (North Devon), @snakelicker (Cornwall), @stevienics (Truro)\n",
      "\n",
      "## The North (18/18/19)\n",
      "Posting: @c0ff33a (Yorkshire @whiterosecoffee @teamuksupport), @dadspardan, @darrenflinders, @demotruk (Isle of Man), @goblinknackers, @jphamer1, @karenb54, @keithtaylor (Shipley, @onw (@b8l), @planetauto (Lancashire), @raj808 (Liverpool), @richgaynor, @slobberchops, @stevenwood, @streetwize (Bradford), @thebudfather (Stockport), @vibeof100monkeys (Lancashire), @youloseagain (Yorkshire)\n",
      "\n",
      "Voting: @ambrosechappel (Southport), @artonmysleeve, @bingbabe, @chisdealhd (Newcastle Upon Tyne @alloyxuast @thencsshifters @chisfund @alloyxuastcur @chisuploads), @cryptocurator, @digitaldan, @dismayedworld, @jskitty, @lastravage, @makerhacks (York), @makrotheblack (Liverpool), @mattbrown.art (Isle of Man), @mckeever, @pcste, @socialmediaseo, @someguy123, @steddyman, @yunnie (Isle of Man)\n",
      "\n",
      "Inactive: @anarcotech (Huddersfield), @ashtv (Yorkshire), @dizzydiscovery, @fadetoblack (Stockport), @iamdarrenclaxton (Derbyshire @darrenclaxton @mrbloom), @iamdarrenclaxton (Derbyshire), @inksurgeon (Sheffield), @introvert-dime, @johnmatthias (Sheffield), @kiers (Manchester), @leetodd, @mylah (Newcastle upon Tyne), @oliviaava (Manchester), @paritae (Newcastle), @rob-c (Heywood Greater Manchester), @sam1965uk, @sisygoboom, @teamhumble, @viajeracebuana (Berwick-Upon-Tweed)\n",
      "\n",
      "## Scotland (8/11/9)\n",
      "Posting: @cadawg, @camuel (@acousticguitar), @hoosie (Edinburgh), @joshuaslane, @kevmcc, @meesterboom (@b00m), @slothlydoesit (Edinburgh), @tengolotodo (@tengogaming @tengolotodo.leo)\n",
      "\n",
      "Voting: @acidtiger, @agrestic, @barge (@krunkypuram), @btcvenom, @fiftysixnorth, @howiemac, @myskye, @natubat, @rafalforeigner, @sc0tsman (Fife), @wisbeech\n",
      "\n",
      "Inactive: @beardoin, @celticheartbeat (@jubei333), @cottonlazarus (Edinburgh), @creativepersonal (Edinburgh), @danaidhbee, @gguy773, @soundtopia, @tcttnews, @tduffy (Glasgow)\n",
      "\n",
      "## Wales (10/2/3)\n",
      "Posting: @alishas, @cassi, @decourceys (Cardiff), @grindle, @jonboka, @p-props, @ruckmesideways, @stevelivingston, @theturtleproject, @welshstacker\n",
      "\n",
      "Voting: @gazbaz4000, @nozzy\n",
      "\n",
      "Inactive: @louisthomas, @newlifeninja, @realitymaster (Swansea)\n",
      "\n",
      "## Northern Ireland (0/4/0)\n",
      "Voting: @besold, @enzibatavia, @silverstackeruk, @strega.azure\n",
      "\n",
      "## Somewhere in the UK... (24/35/44)\n",
      "Posting: @alzee, @artysteps, @blue.panda, @brofund (@brofund-1up), @brucegryllis, @candy49, @charliesmith11, @collinz, @cryptosneeze, @fantagira, @frugal-fun, @gonzo, @heartsofoakuk (England), @jmehta, @millycf1976, @nockzonk, @nooblogger, @platinum-blue, @primaudia, @scubahead, @sparkyontherum (@sparkyontherun), @tobias-g, @triority, @vtravels\n",
      "\n",
      "Voting: @anarchojeweler, @britcoins (England and SE Asia), @brothershield, @cynicalcake, @damianjayclay, @ddsexyauto, @english-ant, @eternalsuccess, @filmmaking4hive (England), @haitch, @hive.curation, @hopehuggs, @iansart, @imbartley, @johngreenfield, @kennybobs, @lefty619, @music-beatcz, @ninjakitten, @owenwat, @realjohnaziz, @rmcaesthetics (England), @rokasimir, @steemboat-steve, @stephyymullen, @stevieboyes, @stickupfilm, @tazbaz, @tggr.trb, @thencsshifters, @tkolpaczek, @tomatom, @trading-tokens (England), @utopia-hope (England), @webdeals\n",
      "\n",
      "Inactive: @alambert, @alheath, @amidlifecrypto, @anarcodave, @b1tm31st3r, @basejumper (@bitcoinbeast), @brianhphotos, @british-bulldog, @clivemartin, @crucialweb, @dadgamer (England), @deadeagle63 (@dnpq @dnpqdeadeagle63), @discountscode, @earnxtreme, @elliotjgardner, @feralblowfish, @forbesdav, @forbritain, @foundabargain, @freespiritwriter, @gmuxx, @goldstreet, @ibadullah, @incojim, @intrade, @karolsongin, @kirhyip, @lordavatarii, @m8nda (England), @magnauseum, @marcusbraeburn, @peedeerai, @pjuk (@pjau), @plodding-along, @quickthen, @quirk-it, @remystar93, @rogeredwards, @sandrolinux, @seeger, @sirens-lust, @stewielockwood, @ukprepper, @zedcell\n",
      "\n"
     ]
    },
    {
     "name": "stdout",
     "output_type": "stream",
     "text": [
      "## Expats (20/6/8)\n",
      "Posting: @abh12345 (Spain), @adambarratt (@abtv Spain), @atma.love (Bulgaria), @cryptoandcoffee (South Africa), @ctrpch (Australia), @eco-alex (Planet Earth), @felt.buzz (France), @hirohurl (Japan), @juliamulcahy (Ireland), @mangomayhem (Philippines), @minismallholding (Australia), @momogrow (Netherlands), @nathen007 (@leedsunited Thailand), @samstonehill (France), @sebcam (USA), @shepz1 (Poland), @starkerz (Cyberspace), @sunsethunter (New Zealand), @trucklife-family (The Earth), @willmington-w (Philippines/UK)\n",
      "\n",
      "Voting: @abdex9, @accelerator (@rycharde Thailand), @biggypauls (Philippines), @eftnow (Spain), @elricmoonslayer (Spain), @tggr (Singapore)\n",
      "\n",
      "Inactive: @chewsk1 (Gibraltar), @jeffandhisguitar (SE Asia), @justinchicken (Japan), @marleyandme (Mexico), @newtonclassics (Thailand), @notatravelwriter (France), @wanderlust7 (Canada), @wispsi (Vietnam)\n",
      "\n",
      "## Totals\n",
      "**Total active** UK: 150, Expats: 20\n",
      "# Charts\n",
      "This shows the numbers in each category of the active and voting accounts. Level is based on 'VESTS' with Minnow equating to a million VESTS.\n",
      "\n",
      "|Level|Number|Threshold|\n",
      "|-|-|-|\n",
      "|Redfish | 143||\n",
      "|Minnow  |  95|     569.27 HP|\n",
      "|Dolphin |  49|    5692.73 HP|\n",
      "|Orca    |  16|   56927.30 HP|\n",
      "|Whale   |   1|  569273.00 HP|\n",
      "\n",
      "This shows when people joined Hive. The last few months are shown separately to make any changes obvious.\n",
      "|Age|Number|\n",
      "|-|-|\n",
      "|1 month|2|\n",
      "|2 months|4|\n",
      "|3 months|2|\n",
      "|Year|7|\n",
      "|Older|289|\n",
      "\n",
      "# UK Witnesses\n",
      "Please support your local witnesses. If you are unsure who to vote for then you can use my voting proxy.\n",
      "@someguy123, @ura-soul, @cadawg, @whiterosecoffee, @c0ff33a, @chisdealhd, @brofund, @slothbuzz, @assassyn,\n",
      "@shmoogleosukami\n"
     ]
    }
   ],
   "source": [
    "with open('users.txt', 'r') as f:\n",
    "    active = []\n",
    "    inactive = []\n",
    "    voting =[]\n",
    "    region = None\n",
    "    now = datetime.utcnow() \n",
    "    total_active = 0\n",
    "    fish = {'Redfish': 0, 'Minnow':0, 'Dolphin':0, 'Orca':0, 'Whale':0}\n",
    "    age = {'1 month':0, '2 months':0, '3 months':0, 'Year':0, 'Older':0}\n",
    "    for l in f:\n",
    "        fields = l.split(',')\n",
    "        if fields[0] == 'R':\n",
    "            output_region(region, active, voting, inactive)\n",
    "            total_active += len(active) # Will not count the last region, but exclude expats from total anyway\n",
    "            region = fields[1].strip()\n",
    "            active, voting, inactive = [], [], []\n",
    "        else:\n",
    "            name = dname = fields[0].strip()\n",
    "            if '(' in name:\n",
    "                dname = name\n",
    "                name = name[:(name.find('(')-1)]\n",
    "            if not name in hacked:\n",
    "                voter, commenter, activeyear = useractivex(name)\n",
    "                if commenter:\n",
    "                    active.append(dname)\n",
    "                elif voter:\n",
    "                    voting.append(dname)\n",
    "                elif activeyear: # Inactive\n",
    "                    inactive.append(dname)\n",
    "                if commenter or voter:\n",
    "                    acc = Account(name)\n",
    "                    hp = acc.balances['available'][2].amount_decimal\n",
    "                    if hp > 1E9:\n",
    "                        fish['Whale'] += 1\n",
    "                    elif hp > 1E8:\n",
    "                        fish['Orca'] += 1\n",
    "                    elif hp > 1E7:\n",
    "                        fish['Dolphin'] += 1\n",
    "                    elif hp > 1E6:\n",
    "                        fish['Minnow'] += 1\n",
    "                    else:\n",
    "                        fish['Redfish'] += 1\n",
    "\n",
    "                    for i in acc.get_account_history(0,1):\n",
    "                        created = cr = datetime.strptime(i['timestamp'], '%Y-%m-%dT%H:%M:%S')\n",
    "                    accage = (now - created).days\n",
    "                    if accage > 365:\n",
    "                        age['Older'] += 1\n",
    "                    elif accage > 90:\n",
    "                        age['Year'] += 1\n",
    "                    elif accage > 60:\n",
    "                        age['3 months'] += 1\n",
    "                    elif accage > 30:\n",
    "                        age['2 months'] += 1\n",
    "                    else:\n",
    "                        age['1 month'] += 1\n",
    "\n",
    "    output_region(region, active, voting, inactive)\n",
    "    print('## Totals')\n",
    "    print(f'**Total active** UK: {total_active}, Expats: {len(active)}')\n",
    "    \n",
    "    minnowhp = hive.vests_to_hp(1E6)\n",
    "    print('# Charts')\n",
    "    print(f\"This shows the numbers in each category of the active and voting accounts. Level is based on 'VESTS' with Minnow equating to a million VESTS.\")\n",
    "    print()\n",
    "    print('|Level|Number|Threshold|')\n",
    "    print('|-|-|-|')\n",
    "    for i,f in enumerate(fish):\n",
    "        hp = f'{minnowhp:11.2f} HP' if i > 0 else ''\n",
    "        print(f'|{f:8}|{fish[f]:4}|{hp}|')\n",
    "        if i > 0:\n",
    "            minnowhp *= 10\n",
    "    print()\n",
    "    print('This shows when people joined Hive. The last few months are shown separately to make any changes obvious.')\n",
    "    print('|Age|Number|')\n",
    "    print('|-|-|')\n",
    "    for a in age:\n",
    "        print(f'|{a}|{age[a]}|')\n",
    "    \n",
    "    print('''\n",
    "# UK Witnesses\n",
    "Please support your local witnesses. If you are unsure who to vote for then you can use my voting proxy.\n",
    "@someguy123, @ura-soul, @cadawg, @whiterosecoffee, @c0ff33a, @chisdealhd, @brofund, @slothbuzz, @assassyn,\n",
    "@shmoogleosukami''')\n"
   ]
  },
  {
   "cell_type": "code",
   "execution_count": 24,
   "metadata": {},
   "outputs": [
    {
     "name": "stdout",
     "output_type": "stream",
     "text": [
      "{'Redfish': 143, 'Minnow': 95, 'Dolphin': 49, 'Orca': 16, 'Whale': 1}\n"
     ]
    },
    {
     "data": {
      "image/png": "[encoded data removed]",
      "text/plain": [
       "<Figure size 576x432 with 1 Axes>"
      ]
     },
     "metadata": {
      "needs_background": "light"
     },
     "output_type": "display_data"
    }
   ],
   "source": [
    "print(fish)\n",
    "fig, ax = plt.subplots()\n",
    "fig.set_size_inches(8,6)\n",
    "plt.bar(fish.keys(), fish.values(), color=['red','green','blue','black','gray']);1\n",
    "plt.title('Account Levels')\n",
    "ax.grid()"
   ]
  },
  {
   "cell_type": "code",
   "execution_count": 25,
   "metadata": {},
   "outputs": [
    {
     "name": "stdout",
     "output_type": "stream",
     "text": [
      "{'1 month': 2, '2 months': 4, '3 months': 2, 'Year': 7, 'Older': 289}\n"
     ]
    },
    {
     "data": {
      "image/png": "[encoded data removed]",
      "text/plain": [
       "<Figure size 576x432 with 1 Axes>"
      ]
     },
     "metadata": {
      "needs_background": "light"
     },
     "output_type": "display_data"
    }
   ],
   "source": [
    "print(age)\n",
    "fig, ax = plt.subplots()\n",
    "fig.set_size_inches(8,6)\n",
    "plt.bar(age.keys(), age.values(), color=['red', 'orange', 'green','blue','brown']);\n",
    "plt.title('Account Ages')\n",
    "ax.grid()"
   ]
  },
  {
   "cell_type": "code",
   "execution_count": 10,
   "metadata": {},
   "outputs": [
    {
     "name": "stdout",
     "output_type": "stream",
     "text": [
      "|Level|Number|Stake|\n",
      "|-|-|-|\n",
      "|Redfish | 145||\n",
      "|Minnow  |  95|     569.27 HP|\n",
      "|Dolphin |  49|    5692.71 HP|\n",
      "|Orca    |  16|   56927.11 HP|\n",
      "|Whale   |   1|  569271.13 HP|\n",
      "|Age|Number|\n",
      "|-|-|\n",
      "|1 month|2|\n",
      "|2 months|4|\n",
      "|3 months|2|\n",
      "|Year|7|\n",
      "|Older|291|\n"
     ]
    }
   ],
   "source": [
    "minnowhp = hive.vests_to_hp(1E6)\n",
    "print('|Level|Number|Stake|')\n",
    "print('|-|-|-|')\n",
    "for i,f in enumerate(fish):\n",
    "    hp = f'{minnowhp:11.2f} HP' if i > 0 else ''\n",
    "    print(f'|{f:8}|{fish[f]:4}|{hp}|')\n",
    "    if i > 0:\n",
    "        minnowhp *= 10\n",
    "print('|Age|Number|')\n",
    "print('|-|-|')\n",
    "for a in age:\n",
    "    print(f'|{a}|{age[a]}|')\n"
   ]
  },
  {
   "cell_type": "code",
   "execution_count": 22,
   "metadata": {},
   "outputs": [
    {
     "name": "stdout",
     "output_type": "stream",
     "text": [
      "2023-10-06 13:36:29.835213\n",
      "(False, True, True)\n",
      "(False, True, True)\n",
      "(False, True, True)\n",
      "(False, True, True)\n",
      "(False, True, True)\n",
      "2023-10-06 13:36:30.438409\n"
     ]
    }
   ],
   "source": [
    "print(datetime.utcnow())\n",
    "#for i in range(5):\n",
    "#    print(useractive('pennsif'))\n",
    "#print(datetime.utcnow())\n",
    "for i in range(5):\n",
    "    print(useractivex('steevc'))\n",
    "print(datetime.utcnow())"
   ]
  },
  {
   "cell_type": "code",
   "execution_count": null,
   "metadata": {},
   "outputs": [],
   "source": []
  }
 ],
 "metadata": {
  "kernelspec": {
   "display_name": "Python 3",
   "language": "python",
   "name": "python3"
  },
  "language_info": {
   "codemirror_mode": {
    "name": "ipython",
    "version": 3
   },
   "file_extension": ".py",
   "mimetype": "text/x-python",
   "name": "python",
   "nbconvert_exporter": "python",
   "pygments_lexer": "ipython3",
   "version": "3.8.5"
  }
 },
 "nbformat": 4,
 "nbformat_minor": 2
}
