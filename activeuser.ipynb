{
 "cells": [
  {
   "cell_type": "markdown",
   "metadata": {},
   "source": [
    "Todo:\n",
    "* Chart of account age. Show how many newbies - done\n",
    "* Chart of account size -done\n",
    "* Hide compromised accounts - done"
   ]
  },
  {
   "cell_type": "code",
   "execution_count": 1,
   "metadata": {},
   "outputs": [],
   "source": [
    "# Build a list of active users suitable for a Hive post\n",
    "# Loads users from file users.txt. Lines starting with R are regions\n",
    "\n",
    "from datetime import datetime, timedelta, date\n",
    "from beem import Hive\n",
    "from beem.account import Account\n",
    "from beem.amount import Amount\n",
    "from beem.comment import Comment\n",
    "from beem.exceptions import ContentDoesNotExistsException\n",
    "from beem.instance import set_shared_blockchain_instance\n",
    "import matplotlib.pyplot as plt"
   ]
  },
  {
   "cell_type": "code",
   "execution_count": 2,
   "metadata": {},
   "outputs": [],
   "source": [
    "hive = Hive()\n",
    "set_shared_blockchain_instance(hive)\n",
    "stop = datetime.utcnow() - timedelta(days=31) # Checks last month"
   ]
  },
  {
   "cell_type": "code",
   "execution_count": 3,
   "metadata": {},
   "outputs": [],
   "source": [
    "hacked = []\n",
    "with open('steemengineteam_group.txt','r') as f:\n",
    "    for l in f:\n",
    "        hacked.append(l.strip())"
   ]
  },
  {
   "cell_type": "code",
   "execution_count": 4,
   "metadata": {},
   "outputs": [],
   "source": [
    "def useractive(user):\n",
    "    # Work back looking for last post/comment or vote\n",
    "    acc = Account(user)#, blockchain_instance=hive)\n",
    "    voted = commented = False\n",
    "\n",
    "    for a in acc.history_reverse(stop=stop, only_ops=[\"vote\", \n",
    "                                                      \"comment\"]):\n",
    "        if a[\"type\"] == \"vote\":\n",
    "            voted = True\n",
    "        if a[\"author\"] == user:\n",
    "            if a[\"type\"] == \"comment\":\n",
    "                commented = True\n",
    "                break # Don't need to check if they voted as well\n",
    "            \n",
    "    return (voted, commented)"
   ]
  },
  {
   "cell_type": "code",
   "execution_count": 5,
   "metadata": {},
   "outputs": [],
   "source": [
    "def output_region(region, active, voting, inactive):\n",
    "    if region != None:\n",
    "        act, voter, inact = len(active), len(voting), len(inactive)\n",
    "        print(f'## {region} ({act}/{voter}/{inact})')\n",
    "        if act:\n",
    "            print('@'+ (', @'.join(sorted(active))))\n",
    "            print()\n",
    "        if voter:\n",
    "            print('Voting: @'+ (', @'.join(sorted(voting))))\n",
    "            print()\n",
    "        if inact:\n",
    "            print('Inactive: @'+ (', @'.join(sorted(inactive))))\n",
    "            print()"
   ]
  },
  {
   "cell_type": "code",
   "execution_count": 6,
   "metadata": {},
   "outputs": [
    {
     "name": "stdout",
     "output_type": "stream",
     "text": [
      "## London and the South East (64/33/50)\n",
      "@actuarialuk91 (Cambridge), @adetorrent (London), @advdotmoney (London), @andy4475 (Woking @andy-jahm), @atomcollector (@risingstargame @juxtamusic), @audiohive-me, @awah, @basilmarples, @bellou61 (Brighton), @benthomaswwd (Northampton), @biggmusic (Brighton), @blackrussian, @bleepcoin, @camerarules, @cezary-io, @chris-uk (Norwich), @cryptogee, @cryptosneeze, @daine-cherry, @dannyshine, @davidthompson57, @devosdevosi (London), @djjamesblack (Brighton), @donatello, @dubble (London), @dunsky (London), @edenmichelle, @garrickalder (London), @gillianpearce (Brighton), @grizzle (Bedford), @imfarhad, @jaxsonmurph, @kgakakillerg (@gmlrecordz @kggymlife), @lloyddavis (@steemcampuk @lloyd-social), @maneco64, @ministickupboy (Brighton), @moemanmoesly, @molometer, @nakedverse, @namiks, @nathanmars, @nicolcron, @notaboutme, @petrahaller, @qsett (Maidstone), @raymondspeaks, @reviewed, @rmsbodybuilding, @robbieallenart, @samsmith1971, @sazzler, @sergiomendes (@thesassysergio), @silvergoldhunter, @spectrumecons, @steevc (Bedfordshire @tenkminnows @swing47), @stickchumpion, @stickupboys (Brighton), @stickupmusic (Brighton), @stickupofficial1 (Brighton), @tdctunes (London), @trippymane, @ultravioletmag, @ura-soul (Norfolk or elsewhere), @winkandwoo\n",
      "\n",
      "Voting: @adamaslam, @blockchainyouth, @cathgothard (London), @charitycurator, @d3p0, @dashfit, @digna, @ezzy, @grooverman (Brighton), @holisticmom, @icepee, @immarojas, @kabir88, @kaywoods, @kph, @liverehab, @matildamoment, @mattniblock, @nanzo-scoop, @pizzadalek, @queenoftheworld, @rafique, @redrica, @sagardyola (London), @slayerkm, @stav (Norfolk), @stimp1024, @talesfrmthecrypt, @touringhousewife, @tricki, @wilfredn, @xxxxxxxxxxxxxxxx, @zoltarian\n",
      "\n",
      "Inactive: @abeilleblooms (Southend), @artelmedia (West London), @artzo, @bewithbreath, @boogieboa, @breadcentric (Bedfordshire), @carwashlondon, @danshawmusic (London), @darkstardust (London @ladystardust), @dolphinartuk (Essex), @dougalporteous, @dougdigital, @dronegraphica, @elmerlin (London), @endaksi1 (Cambridge), @fleur (Cambridge), @frankiic3, @greatvideos, @hockney, @independentpress (London), @jameshsmitharts, @jedb, @kezyma, @knelstrom, @knit-stich-witch (London), @mamalanuk (Brixton), @markangeltrueman, @minteh, @nickyhavey, @profitmachine (Istanbul and London), @pushpedal, @rapptv, @rawveganista, @rea, @rightbuildgroup (London), @rosa33, @shutterepair (London), @stealthywolfxli, @steemlondon, @stormkeepergu (@stormkeepersmdk), @susanlo, @teodora, @the-busy-bee, @the-gorilla, @thecryptidcrone, @thedawness, @timspawls, @todayslight, @watt.the.watt, @writerjordan\n",
      "\n",
      "## The Midlands (12/11/23)\n",
      "@abh12345, @article61, @dickturpin, @ellenripley, @fastchrisuk, @gribbles, @jin-out (Birmingham), @rimicane, @rthelly, @shanibeer (@susie-saver Leicester), @shmoogleosukami, @susie-saver\n",
      "\n",
      "Voting: @awakingelements, @batchgaming (Nuneaton), @beautifulbullies, @dannewton (@earthsea), @kryptoe, @leighscotford, @michelle.gent (Sherwood Forest), @neopch, @skaarl, @tamiapt6, @unkidrik\n",
      "\n",
      "Inactive: @audreyvr, @bettynoir, @brianbrogan1960, @codelikeamother, @dawnsart, @decentered-media, @ebabb, @fishlucy (Stoke On Trent), @fizogphotography, @flashpointstudio, @galacey (Birmingham), @jaytaylor, @martaesperanza, @maxrwolfe, @neilru75, @opheliafu, @paulofnottingham, @purplephoto, @s0u1 (Nottinghamshire), @stormriderstudio, @the3metrewrap, @wildonewon, @xwidep\n",
      "\n",
      "## The South West (16/4/4)\n",
      "@awhofficial (New Forest), @blade7 (Cornwall), @davidlionfish (Bristol), @diveratt, @dontcare89 (Newquay), @francesleader, @jimbobbill, @jonboka, @livinguktaiwan, @mudcat36, @nockzonk, @perceptualflaws, @sharpshot, @sunsethunter, @ukbitcoinmaster, @whickey (Bristol)\n",
      "\n",
      "Voting: @dedarknes (Plymouth), @eveningart, @thomaskatan, @wolven-znz\n",
      "\n",
      "Inactive: @cryptokingzno1, @newtonclassics, @phoenixftwinter, @stickycj\n",
      "\n",
      "## The North (25/18/18)\n",
      "@ambrosechappel (Southport), @amos1969, @ashtv (Yorkshire), @c0ff33a (Yorkshire @whiterosecoffee @teamuksupport), @chisdealhd (Newcastle Upon Tyne), @dadspardan, @darrenclaxton, @darrenflinders, @demotruk (Isle of Man), @goblinknackers, @iamdarrenclaxton (Derbyshire), @jphamer1, @karenb54, @kiers (Manchester), @lastravage, @m-ssed-t, @pcste, @planetauto, @raj808 (Liverpool), @slobberchops, @socialmediaseo, @steddyman, @stevenwood, @streetwize (Bradford), @thesoulharmonic (Manchester)\n",
      "\n",
      "Voting: @anarcotech (Huddersfield), @artonmysleeve, @bingbabe, @cryptocurator, @digitaldan, @dismayedworld, @dizzydiscovery, @jackshootsstuff (West Yorkshire), @jskitty, @let123, @makrotheblack (Liverpool), @mattbrown.art (Isle of Man), @mckeever, @radicalpears (Huddersfield), @sam1965uk, @sisygoboom, @someguy123, @yunnie (Isle of Man)\n",
      "\n",
      "Inactive: @adamfryda-art, @amy-explores, @anidiotexplores, @emergingtech (Manchester), @erdeniz (Manchester), @father2b, @gentmartin (Leeds), @honeyrabbit, @introvert-dime, @jacpl, @leetodd, @madmaxx12 (Manchester), @magenta24, @richgaynor, @sarennadiu (Manchester), @schminimal, @teamhumble, @vraba\n",
      "\n",
      "## Scotland (12/8/8)\n",
      "@antonchanning (Loch Ness), @barge (@krunkypuram), @beardoin, @cadawg, @camuel (@acousticguitar), @celticheartbeat (@jubei333), @cottonlazarus (Edinburgh), @joshuaslane, @kevmcc, @meesterboom (@b00m), @rafalforeigner, @tengolotodo\n",
      "\n",
      "Voting: @agrestic, @btcvenom, @fiftysixnorth, @howiemac, @myskye, @natubat, @stef1 (@art-venture), @wisbeech\n",
      "\n",
      "Inactive: @danaidhbee, @epicdave, @graemesaxton, @highlandwalker, @huitemae, @imaginingfreedom, @indusrush, @injuryclaims\n",
      "\n",
      "## Wales (8/3/6)\n",
      "@cassi, @grindle, @louisthomas, @nozzy, @pennsif (@steemclub-uk), @stevelivingston, @theturtleproject, @welshstacker\n",
      "\n",
      "Voting: @gazbaz4000, @p-props, @stevejhuggett\n",
      "\n",
      "Inactive: @alishas, @artystuff, @elizabethharvey, @magnus19, @pumpkinsandcats, @trolleydave\n",
      "\n",
      "## Northern Ireland (2/1/0)\n",
      "@ninasophia, @silverstackeruk\n",
      "\n",
      "Voting: @besold\n",
      "\n",
      "## Somewhere in the UK... (35/40/40)\n",
      "@albionrobot (England), @b1tm31st3r, @brauner-benz, @british-bulldog, @cdrbushmills, @ddsexyauto, @elliotjgardner, @fallfromdisgrace, @forbritain, @frugal-fun, @hive.curation, @iansart, @jmehta, @lefty619, @lordavatarii, @marketingmonk, @millycf1976, @monsterjamgold, @mrsatoshiii, @music-beatcz, @neonempire (@wizardzmusic), @nockzonk, @platinum-blue, @remystar93, @rmcaesthetics (England), @sbenbow, @scubahead, @snider, @stevieboyes, @tobias-g, @trading-tokens (England), @utopia-hope (England), @v3ptur, @zedcell, @zeeshannaqvi72\n",
      "\n",
      "Voting: @anarchojeweler, @andrewharland, @blue.panda, @bobskibob, @britcoins (England and SE Asia), @brothershield, @clivemartin, @crucialweb, @cynicalcake, @damianjayclay, @djsl82, @dnpq, @english-ant, @eternalsuccess, @fadetoblack, @filbell, @goldstreet, @haitch, @hopehuggs, @imbartley, @impshum, @localgrower, @loolooasuna, @luppers, @niko3d, @owenwat, @phonetix, @pjau, @quickthen, @realjohnaziz, @ryanscottesq, @scalextrix, @steemboat-steve, @tazbaz, @tggr.trb, @tkolpaczek, @tomatom, @tommyrobinson, @vtravels, @webdeals\n",
      "\n",
      "Inactive: @adhudson, @alheath, @alienbutt, @arrasails1977, @audrein (England), @autocoincars, @basejumper, @beachgamestv, @biscuitbarrel (England), @bloodycritique, @bobbylee, @bokarecords, @brianhphotos, @catanddogtips, @cryptovios, @davewuk, @drvimto, @earnxtreme, @fatasfunk, @gmuxx, @hftdigital, @hilarywhitehead, @hkb28, @jimjam1210, @marcusbraeburn, @offthecuff2020, @peedeerai, @pellx, @premiumdomains, @quirk-it, @redarrow, @sandrolinux, @seanspeaks, @shando73, @smileformovie, @spicetrader, @the-nature-plug, @tremendospercy, @ukheather, @vibeof100monkeys\n",
      "\n",
      "## Expats (19/3/9)\n",
      "@abdex9, @accelerator (@rycharde Thailand), @adambarratt (@abtv Spain), @cristina-zac (Spain), @cryptoandcoffee (South Africa), @dansensei (Japan), @eco-alex (Planet Earth), @elricmoonslayer (Spain), @felt.buzz (France), @justinchicken (Japan), @lucylin (Thailand), @minismallholding (Australia), @nathen007 (@leedsunited Thailand), @revisesociology (Portugal), @samstonehill (France), @sebcam (USA), @shepz1 (Poland), @starkerz (Cyberspace), @trucklife-family (The Earth)\n",
      "\n",
      "Voting: @eftnow (Spain), @ripebanana (Trinidad and Tobago), @tggr (Singapore)\n",
      "\n",
      "Inactive: @beckymeep (USA), @biggypauls (Philippines), @jeffandhisguitar (SE Asia), @l0tti3 (South Africa), @livelovejourney (Majorca), @mattsbeamer (Russia), @milliganstravels (Thailand), @moonyoga (Portugal), @thinkit (Thailand)\n",
      "\n",
      "## Totals\n",
      "**Total active** UK: 174, Expats: 19\n"
     ]
    }
   ],
   "source": [
    "with open('users.txt', 'r') as f:\n",
    "    active = []\n",
    "    inactive = []\n",
    "    voting =[]\n",
    "    region = None\n",
    "    now = datetime.utcnow() \n",
    "    total_active = 0\n",
    "    fish = {'redfish': 0, 'minnow':0, 'dolphin':0, 'orca':0, 'whale':0}\n",
    "    age = {'month':0, '2month':0, '3month':0, 'year':0, 'older':0}\n",
    "    for l in f:\n",
    "        fields = l.split(',')\n",
    "        if fields[0] == 'R':\n",
    "            output_region(region, active, voting, inactive)\n",
    "            total_active += len(active) # Will not count the last region, but exclude expats from total anyway\n",
    "            region = fields[1].strip()\n",
    "            active, voting, inactive = [], [], []\n",
    "        else:\n",
    "            name = dname = fields[0].strip()\n",
    "            if '(' in name:\n",
    "                dname = name\n",
    "                name = name[:(name.find('(')-1)]\n",
    "            if not name in hacked:\n",
    "                voter, commenter = useractive(name)\n",
    "                if commenter:\n",
    "                    active.append(dname)\n",
    "                elif voter:\n",
    "                    voting.append(dname)\n",
    "                else: # Inactive\n",
    "                    inactive.append(dname)\n",
    "                if commenter or voter:\n",
    "                    acc = Account(name)\n",
    "                    hp = acc.balances['available'][2].amount_decimal\n",
    "                    if hp > 1E9:\n",
    "                        fish['whale'] += 1\n",
    "                    elif hp > 1E8:\n",
    "                        fish['orca'] += 1\n",
    "                    elif hp > 1E7:\n",
    "                        fish['dolphin'] += 1\n",
    "                    elif hp > 1E6:\n",
    "                        fish['minnow'] += 1\n",
    "                    else:\n",
    "                        fish['redfish'] += 1\n",
    "\n",
    "                    for i in acc.get_account_history(0,1):\n",
    "                        created = cr = datetime.strptime(i['timestamp'], '%Y-%m-%dT%H:%M:%S')\n",
    "                    accage = (now - created).days\n",
    "                    if accage > 365:\n",
    "                        age['older'] += 1\n",
    "                    elif accage > 90:\n",
    "                        age['year'] += 1\n",
    "                    elif accage > 60:\n",
    "                        age['3month'] += 1\n",
    "                    elif accage > 30:\n",
    "                        age['2month'] += 1\n",
    "                    else:\n",
    "                        age['month'] += 1\n",
    "\n",
    "    output_region(region, active, voting, inactive)\n",
    "    print('## Totals')\n",
    "    print(f'**Total active** UK: {total_active}, Expats: {len(active)}')\n"
   ]
  },
  {
   "cell_type": "code",
   "execution_count": 7,
   "metadata": {},
   "outputs": [
    {
     "name": "stdout",
     "output_type": "stream",
     "text": [
      "{'redfish': 159, 'minnow': 105, 'dolphin': 36, 'orca': 14, 'whale': 0}\n"
     ]
    },
    {
     "data": {
      "text/plain": [
       "Text(0.5, 1.0, 'Account Levels')"
      ]
     },
     "execution_count": 7,
     "metadata": {},
     "output_type": "execute_result"
    },
    {
     "data": {
      "image/png": "[encoded data removed]",
      "text/plain": [
       "<Figure size 432x288 with 1 Axes>"
      ]
     },
     "metadata": {
      "needs_background": "light"
     },
     "output_type": "display_data"
    }
   ],
   "source": [
    "print(fish)\n",
    "plt.bar(fish.keys(), fish.values(), color=['red','green','blue','black','gray']);\n",
    "plt.title('Account Levels')"
   ]
  },
  {
   "cell_type": "code",
   "execution_count": 8,
   "metadata": {},
   "outputs": [
    {
     "name": "stdout",
     "output_type": "stream",
     "text": [
      "{'month': 13, '2month': 12, '3month': 3, 'year': 39, 'older': 247}\n"
     ]
    },
    {
     "data": {
      "text/plain": [
       "Text(0.5, 1.0, 'Account Ages')"
      ]
     },
     "execution_count": 8,
     "metadata": {},
     "output_type": "execute_result"
    },
    {
     "data": {
      "image/png": "[encoded data removed]",
      "text/plain": [
       "<Figure size 432x288 with 1 Axes>"
      ]
     },
     "metadata": {
      "needs_background": "light"
     },
     "output_type": "display_data"
    }
   ],
   "source": [
    "print(age)\n",
    "plt.bar(age.keys(), age.values(), color=['red', 'orange', 'green','blue','brown']);\n",
    "plt.title('Account Ages')"
   ]
  },
  {
   "cell_type": "code",
   "execution_count": null,
   "metadata": {},
   "outputs": [],
   "source": []
  }
 ],
 "metadata": {
  "kernelspec": {
   "display_name": "Python 3",
   "language": "python",
   "name": "python3"
  },
  "language_info": {
   "codemirror_mode": {
    "name": "ipython",
    "version": 3
   },
   "file_extension": ".py",
   "mimetype": "text/x-python",
   "name": "python",
   "nbconvert_exporter": "python",
   "pygments_lexer": "ipython3",
   "version": "3.8.5"
  }
 },
 "nbformat": 4,
 "nbformat_minor": 2
}
