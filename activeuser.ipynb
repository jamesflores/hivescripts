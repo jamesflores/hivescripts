{
 "cells": [
  {
   "cell_type": "markdown",
   "metadata": {},
   "source": [
    "Todo:\n",
    "* Chart of account age. Show how many newbies - done\n",
    "* Chart of account size -done\n",
    "* Hide compromised accounts - done"
   ]
  },
  {
   "cell_type": "code",
   "execution_count": 1,
   "metadata": {},
   "outputs": [],
   "source": [
    "# Build a list of active users suitable for a Hive post\n",
    "# Loads users from file users.txt. Lines starting with R are regions\n",
    "\n",
    "from datetime import datetime, timedelta, date\n",
    "from beem import Hive\n",
    "from beem.account import Account\n",
    "from beem.amount import Amount\n",
    "from beem.comment import Comment\n",
    "from beem.exceptions import ContentDoesNotExistsException\n",
    "from beem.instance import set_shared_blockchain_instance\n",
    "import matplotlib.pyplot as plt"
   ]
  },
  {
   "cell_type": "code",
   "execution_count": 2,
   "metadata": {},
   "outputs": [],
   "source": [
    "hive = Hive(node=['https://anyx.io'])#https://rpc.ausbit.dev','https://api.deathwing.me', 'https://api.hive.blog'])\n",
    "set_shared_blockchain_instance(hive)\n",
    "stop = datetime.utcnow() - timedelta(days=31) # Checks last month\n",
    "stopstr = stop.strftime('%Y-%m-%d')\n",
    "fullstop = datetime.utcnow() - timedelta(days=365) # Checks last year"
   ]
  },
  {
   "cell_type": "code",
   "execution_count": 3,
   "metadata": {},
   "outputs": [],
   "source": [
    "hacked = []\n",
    "with open('steemengineteam_group.txt','r') as f:\n",
    "    for l in f:\n",
    "        hacked.append(l.strip())"
   ]
  },
  {
   "cell_type": "code",
   "execution_count": 4,
   "metadata": {},
   "outputs": [],
   "source": [
    "def useractive(user):\n",
    "    # Work back looking for last post/comment or vote\n",
    "    acc = Account(user)#, blockchain_instance=hive)\n",
    "    voted = commented = activeyear = False\n",
    "\n",
    "    activeyear = False\n",
    "    for a in acc.history_reverse(stop=fullstop, only_ops=[\"vote\", \n",
    "                                                  \"comment\"]):\n",
    "        activeyear = True\n",
    "        if a['timestamp'][:10] >= stopstr:\n",
    "            if a[\"type\"] == \"vote\":\n",
    "                voted = True\n",
    "            if a[\"author\"] == user:\n",
    "                if a[\"type\"] == \"comment\":\n",
    "                    commented = True\n",
    "                    break # Don't need to check if they voted as well\n",
    "        else:\n",
    "            break\n",
    "    return (voted, commented, activeyear)\n",
    "\n",
    "def useractivex(user):\n",
    "    # Work back looking for last post/comment or vote\n",
    "    acc = Account(user)#, blockchain_instance=hive)\n",
    "    voted = commented = activeyear = False\n",
    "\n",
    "    if not (voted or commented):\n",
    "        activeyear = False\n",
    "        for a in acc.history_reverse(stop=fullstop, only_ops=[\"vote\", \n",
    "                                                      \"comment\"]):\n",
    "            activeyear = True\n",
    "            break\n",
    "\n",
    "    if activeyear:\n",
    "        for a in acc.history_reverse(stop=stop, only_ops=[\"vote\", \n",
    "                                                          \"comment\"]):\n",
    "            if a[\"type\"] == \"vote\":\n",
    "                voted = True\n",
    "            if a[\"author\"] == user:\n",
    "                if a[\"type\"] == \"comment\":\n",
    "                    commented = True\n",
    "                    break # Don't need to check if they voted as well\n",
    "\n",
    "    return (voted, commented, activeyear)"
   ]
  },
  {
   "cell_type": "code",
   "execution_count": 5,
   "metadata": {},
   "outputs": [],
   "source": [
    "def output_region(region, active, voting, inactive):\n",
    "    if region != None:\n",
    "        act, voter, inact = len(active), len(voting), len(inactive)\n",
    "        print(f'## {region} ({act}/{voter}/{inact})')\n",
    "        if act:\n",
    "            print('Posting: @'+ (', @'.join(sorted(active))))\n",
    "            print()\n",
    "        if voter:\n",
    "            print('Voting: @'+ (', @'.join(sorted(voting))))\n",
    "            print()\n",
    "        if inact:\n",
    "            print('Inactive: @'+ (', @'.join(sorted(inactive))))\n",
    "            print()"
   ]
  },
  {
   "cell_type": "code",
   "execution_count": 17,
   "metadata": {
    "scrolled": false
   },
   "outputs": [
    {
     "name": "stdout",
     "output_type": "stream",
     "text": [
      "## London and the South East (69/39/52)\n",
      "Posting: @adetorrent (London), @alonicus (Hampshire), @andy4475 (Woking @andy-jahm @andy-vibes @andy-cine), @anna-newkey (Bedfordshire), @assassyn (Reading), @audiohive-me, @awah, @basilmarples (Norwich), @beccss (London), @benthomaswwd (Northampton @heartbeatonhive @benthomasuk), @bleepcoin, @blockchainfpl (Eastbourne @the-gorilla @fplcanary), @blockchainyouth, @bombaycrypto (London), @breadcentric (Bedfordshire), @cezary-io, @charliesmith11 (Hampshire), @chris-uk (Norwich), @cryptogee, @cryptosneeze, @daniellemurray (Herts @radioliquorice), @dannyshine, @davidthompson57 (West Sussex), @devosdevosi (London), @donatello, @dubble (London), @dunsky (London), @edenmichelle, @elmerlin (London @liketu), @gillianpearce (Brighton), @greensmile, @ifeherart (London), @imfarhad, @jgiordi (London), @kgakakillerg (London @gmlrecordz @kggymlife), @maneco64, @mcsamm (Milton Keynes), @mhel (London), @mightyrocklee (Bedfordshire @heruvim1978), @molometer (@mopal Cambridgeshire/London), @monivis (Chertsey), @namiks, @nicklewis (Berkshire), @nickyhavey, @notaboutme, @onalazyday (London), @philsaatchi (Brighton), @purplesinger (Bedfordshire), @pvmihalache (Bedford), @raymondspeaks, @revisesociology, @risingstargame (@atomcollector @juxtamusic @jux), @sally-notbright (Kent), @samsmith1971, @sergiomendes (@thesassysergio), @spectrumecons, @steevc (Bedfordshire @tenkminnows @swing47), @steve-o2023, @stevermac1966 (Crystal Palace), @stickchumpion, @stickupboys (Brighton @stickupcurator), @stickupmusic (Brighton), @stickupofficial1 (Brighton), @talesfrmthecrypt, @tdctunes (London), @teooo (Brighton), @tonybad (London), @ura-soul (Norfolk or elsewhere), @winkandwoo\n",
      "\n",
      "Voting: @adamaslam, @archatlas (Shoreditch), @bellou61 (Brighton), @carvalhochris (London), @dashfit, @digna, @djjamesblack (Brighton), @ezzy, @has-k (London), @holisticmom, @icepee, @immarojas, @jaxsonmurph, @kabir88, @kph (Ipswich), @liverehab, @lloyddavis (@steemcampuk @lloyd-social), @matildamoment, @mattniblock, @nakedverse, @nanzo-scoop, @nicolcron, @pepskaram (London), @pizzadalek, @rafique, @redrica, @reviewed, @richardslater (Brighton), @rmsbodybuilding, @slayerkm, @stimp1024, @sudeginsiu (Brighton), @teodora, @thecogent (London), @todayslight (Bedfordshire @roaminglewis), @tricki, @trippymane, @wilfredn, @zoltarian\n",
      "\n",
      "Inactive: @actuarialuk91 (Cambridge), @beaupeep (London), @bettymorgan (London), @biggmusic (Brighton), @blackrussian, @cathgothard (London), @chadayan (London), @charitycurator, @chrinnox (Londom), @d3p0, @daine-cherry, @dbofficial125 (Oxford), @dcrvx1000r (London), @dd01a (London), @djtorchie (Cambridge), @dolphinartuk (Essex), @dougdigital, @eigeneggi (London), @evilisme (London), @fplcanary (South coast), @frankiic3, @gideonreeling (London), @greenjhon (London), @independentpress (London), @jorjencrypto (London), @kaazoom (East Sussex), @karwol (London), @looster120 (London), @losttribe (High Wycombe), @lovelyscape (Hastings), @lucidsamples (London), @markangeltrueman, @ministickupboy (Brighton), @moemanmoesly, @nathanmars, @neutronsalad (London, @ochako (London), @petrahaller, @pushpedal, @qsett (Maidstone), @queenoftheworld, @quentincc (London), @robbieallenart, @robpye (London), @seetheworld.sgp (London), @splurgee (London), @stav (Norfolk), @stormkeepergu (East London @stormkeepersmdk), @theessexfunko (Essex), @tiffaniv (London), @ultravioletmag (London), @wrobellek (Oxford)\n",
      "\n",
      "## The Midlands (13/10/22)\n",
      "Posting: @bbphotography (Lincoln), @beautifulbullies (Nottingham), @dannewton (@earthsea), @dickturpin, @ellenripley, @fastchrisuk (Nottinghamshire), @jin-out (Birmingham), @mscleaning (Birmingham), @neopch, @redfeend (Lincolnshire), @shanibeer (@susie-saver Leicester), @shmoogleosukami (@shmoogleosu.list), @snowboarderpete (North Lincolnshire)\n",
      "\n",
      "Voting: @article61, @awakingelements, @kryptoe, @leighscotford, @michelle.gent (Sherwood Forest), @rimicane, @skaarl, @tamiapt6, @unkidrik, @zeeshannaqvi72\n",
      "\n",
      "Inactive: @bettynoir, @bold-n-italics (Birmingham), @brianbrogan1960, @codelikeamother, @dawnsart, @ebabb, @gribbles, @grottbags (Northamptonshire), @gytribe (Lincolnshire), @jaytaylor, @juliasibillotte (Nottingham), @levelcompeteuk (Nottingham), @martaesperanza, @mingetoot (Leicester), @neilru75, @nellabyme, @renaessanceman, @s0u1 (Nottinghamshire), @shimbodoesart (Northampton), @the3metrewrap, @vanbliss (Northamptonshire), @xandercagex (Birmingham)\n",
      "\n",
      "## The South West (10/12/16)\n",
      "Posting: @countrysid (Somerset), @diveratt, @dontcare89 (Newquay), @killerkev (Bristol), @livinguktaiwan (@lut-studio), @nurseflo (Bath), @sharpshot, @stuartcturnbull (Cornwall), @theworldaroundme, @ukbitcoinmaster\n",
      "\n",
      "Voting: @blade7 (Cornwall), @cubapl (Bristol), @davidlionfish (Bristol), @eveningart, @grizzle, @jimbobbill, @nockzonk, @pompeylad (South Coast), @snakelicker (Cornwall), @stevienics (Truro), @thomaskatan, @wolven-znz\n",
      "\n",
      "Inactive: @cryptokingzno1, @dimasia (Weston-super-Mare), @fantolyn (Bristol), @fattathelan, @francesleader (Dorset), @groovy828 (Cornwall), @jakeart1 (Christchurch), @lacelight (Dorset), @lifespring, @mudcat36, @newtonclassics, @perceptualflaws, @smithykins (North Devon), @snider (Taunton), @stickycj, @whickey (Bristol)\n",
      "\n",
      "## The North (29/14/22)\n",
      "Posting: @ambrosechappel (Southport), @c0ff33a (Yorkshire @whiterosecoffee @teamuksupport), @chisdealhd (Newcastle Upon Tyne @alloyxuast @thencsshifters @chisfund @alloyxuastcur @chisuploads), @dadspardan, @darrenflinders, @demotruk (Isle of Man), @iamdarrenclaxton (Derbyshire @darrenclaxton @mrbloom), @iamdarrenclaxton (Derbyshire), @inksurgeon (Sheffield), @introvert-dime, @johnmatthias (Sheffield), @jphamer1, @jskitty, @karenb54, @keithtaylor (Shipley, @lastravage, @oliviaava (Manchester), @onw (@b8l), @paritae (Newcastle), @planetauto, @raj808 (Liverpool), @richgaynor, @slobberchops, @stevenwood, @streetwize (Bradford), @teamhumble, @thebudfather (Stockport), @vibeof100monkeys (Lancashire), @yunnie (Isle of Man)\n",
      "\n",
      "Voting: @artonmysleeve, @bingbabe, @cryptocurator, @digitaldan, @dismayedworld, @goblinknackers, @makerhacks (York), @makrotheblack (Liverpool), @mattbrown.art (Isle of Man), @pcste, @sam1965uk, @socialmediaseo, @someguy123, @steddyman\n",
      "\n",
      "Inactive: @anarcotech (Huddersfield), @ashtv (Yorkshire), @dizzydiscovery, @fadetoblack (Stockport), @father2b, @kiers (Manchester), @leetodd, @let123, @letothehobbit (West Yorkshire), @madmoo (Manchester), @magenta24, @magicmmatty (Newcastel), @mckeever, @mylah (Newcastle upon Tyne), @only1al, @radicalpears (Huddersfield), @rob-c (Heywood Greater Manchester), @sisygoboom, @squeek1984 (Durham), @thesellotapekid (West Yorkshire), @viajeracebuana (Berwick-Upon-Tweed), @youloseagain (Yorkshire)\n",
      "\n",
      "## Scotland (13/10/8)\n",
      "Posting: @beardoin, @camuel (@acousticguitar), @celticheartbeat (@jubei333), @cottonlazarus (Edinburgh), @danaidhbee, @hoosie (Edinburgh), @joshuaslane, @kevmcc, @littlebee4, @meesterboom (@b00m), @rafalforeigner, @slothlydoesit (Edinburgh), @tengolotodo (@tengogaming)\n",
      "\n",
      "Voting: @agrestic, @barge (@krunkypuram), @btcvenom, @cadawg, @fiftysixnorth, @howiemac, @myskye, @natubat, @sc0tsman (Fife), @wisbeech\n",
      "\n",
      "Inactive: @creativepersonal (Edinburgh), @epicdave, @gguy773, @imaginingfreedom, @soundtopia, @stef1 (@art-venture), @tcttnews, @tduffy (Glasgow)\n",
      "\n",
      "## Wales (6/5/6)\n",
      "Posting: @cassi, @grindle, @jonboka, @stevelivingston, @theturtleproject, @welshstacker\n",
      "\n",
      "Voting: @alishas, @gazbaz4000, @louisthomas, @nozzy, @p-props\n",
      "\n",
      "Inactive: @cryptocariad, @ora-et-labora, @pennsif (@steemclub-uk), @pumpkinsandcats, @realitymaster (Swansea), @ruckmesideways\n",
      "\n",
      "## Northern Ireland (1/2/1)\n",
      "Posting: @silverstackeruk\n",
      "\n",
      "Voting: @besold, @enzibatavia\n",
      "\n",
      "Inactive: @tiredmomma\n",
      "\n",
      "## Somewhere in the UK... (25/43/66)\n",
      "Posting: @alzee, @artysteps, @brucegryllis, @candy49, @charliesmith11, @collinz, @cryptosneeze, @fantagira, @foundabargain, @goldstreet, @heartsofoakuk (England), @jmehta, @lordavatarii, @millycf1976, @monsterjamgold, @music-beatcz, @nooblogger, @platinum-blue, @quirk-it, @remystar93, @rogeredwards, @rokasimir, @scubahead, @tobias-g, @vtravels\n",
      "\n",
      "Voting: @alheath, @amidlifecrypto, @anarchojeweler, @anarcodave, @blue.panda, @brianhphotos, @britcoins (England and SE Asia), @brothershield, @clivemartin, @cynicalcake, @damianjayclay, @ddsexyauto, @english-ant, @eternalsuccess, @fatasfunk, @feralblowfish, @filmmaking4hive (England), @frugal-fun, @haitch, @hive.curation, @hopehuggs, @iansart, @imbartley, @incojim, @johngreenfield, @karolsongin, @lefty619, @ninjakitten, @nockzonk, @owenwat, @realjohnaziz, @rmcaesthetics (England), @steemboat-steve, @stevieboyes, @stickupfilm, @tazbaz, @tggr.trb, @tkolpaczek, @tomatom, @trading-tokens (England), @utopia-hope (England), @webdeals, @zedcell\n",
      "\n",
      "Inactive: @adhudson, @alambert, @b1tm31st3r, @basejumper (@bitcoinbeast), @beachgamestv, @bobskibob, @bokarecords, @british-bulldog, @cathi-xx, @cdrbushmills, @crucialweb, @cryptovios, @dadgamer (England), @deadeagle63 (@dnpq @dnpqdeadeagle63), @discountscode, @djsl82, @earnxtreme, @elate, @elliotjgardner, @ericthevking, @evo69, @filbell, @flaviusgu, @forbritain, @freedomxists, @gmuxx, @godchildren (England), @gonzo, @hftdigital, @hilarywhitehead, @ibadullah, @impshum, @intrade, @kirhyip, @localgrower, @luppers, @m8nda (England), @magnauseum, @marcusbraeburn, @marketingmonk, @maxideea, @mrsatoshiii, @pandatome, @peedeerai, @pjuk (@pjau), @plodding-along, @powis, @premiumdomains, @primaudia, @quickthen, @sandrolinux, @sbenbow, @seeger, @social3states, @sparkyontherum, @stewielockwood, @thedeltron (England), @thencsshifters, @thetrader11, @tommyrobinson, @tothebatpoles, @treatland, @tremendospercy, @triority, @ukprepper, @v3ptur\n",
      "\n"
     ]
    },
    {
     "name": "stdout",
     "output_type": "stream",
     "text": [
      "## Expats (19/7/12)\n",
      "Posting: @abdex9, @abh12345 (Spain), @adambarratt (@abtv Spain), @cryptoandcoffee (South Africa), @ctrpch (Australia), @eco-alex (Planet Earth), @elricmoonslayer (Spain), @felt.buzz (France), @hirohurl (Japan), @mangomayhem (Philippines), @minismallholding (Australia), @momogrow (Netherlands), @nathen007 (@leedsunited Thailand), @samstonehill (France), @sebcam (USA), @shepz1 (Poland), @starkerz (Cyberspace), @sunsethunter (New Zealand), @trucklife-family (The Earth)\n",
      "\n",
      "Voting: @accelerator (@rycharde Thailand), @biggypauls (Philippines), @eftnow (Spain), @jeffandhisguitar (SE Asia), @juliamulcahy (Ireland), @justinchicken (Japan), @tggr (Singapore)\n",
      "\n",
      "Inactive: @beckymeep (USA), @chewsk1 (Gibraltar), @cristina-zac (Spain), @dansensei (Japan), @jackglory (USA), @lucylin (Thailand), @marleyandme (Mexico), @milliganstravels (Thailand), @newtonclassics (Thailand), @notatravelwriter (France), @wanderlust7 (Canada), @wispsi (Vietnam)\n",
      "\n",
      "## Totals\n",
      "**Total active** UK: 166, Expats: 19\n",
      "# Charts\n",
      "This shows the numbers in each category of the active and voting accounts. Level is based on 'VESTS' with Minnow equating to a million VESTS.\n",
      "\n",
      "|Level|Number|Threshold|\n",
      "|-|-|-|\n",
      "|Redfish | 156||\n",
      "|Minnow  | 110|     562.13 HP|\n",
      "|Dolphin |  46|    5621.32 HP|\n",
      "|Orca    |  14|   56213.23 HP|\n",
      "|Whale   |   1|  562132.34 HP|\n",
      "\n",
      "This shows when people joined Hive. The last few months are shown separately to make any changes obvious.\n",
      "|Age|Number|\n",
      "|-|-|\n",
      "|1 month|1|\n",
      "|2 months|3|\n",
      "|3 months|1|\n",
      "|Year|15|\n",
      "|Older|307|\n",
      "\n",
      "# UK Witnesses\n",
      "Please support your local witnesses. If you are unsure who to vote for then you can use my voting proxy.\n",
      "@someguy123, @ura-soul, @cadawg, @whiterosecoffee, @c0ff33a, @chisdealhd, @brofund, @slothbuzz\n"
     ]
    }
   ],
   "source": [
    "with open('users.txt', 'r') as f:\n",
    "    active = []\n",
    "    inactive = []\n",
    "    voting =[]\n",
    "    region = None\n",
    "    now = datetime.utcnow() \n",
    "    total_active = 0\n",
    "    fish = {'Redfish': 0, 'Minnow':0, 'Dolphin':0, 'Orca':0, 'Whale':0}\n",
    "    age = {'1 month':0, '2 months':0, '3 months':0, 'Year':0, 'Older':0}\n",
    "    for l in f:\n",
    "        fields = l.split(',')\n",
    "        if fields[0] == 'R':\n",
    "            output_region(region, active, voting, inactive)\n",
    "            total_active += len(active) # Will not count the last region, but exclude expats from total anyway\n",
    "            region = fields[1].strip()\n",
    "            active, voting, inactive = [], [], []\n",
    "        else:\n",
    "            name = dname = fields[0].strip()\n",
    "            if '(' in name:\n",
    "                dname = name\n",
    "                name = name[:(name.find('(')-1)]\n",
    "            if not name in hacked:\n",
    "                voter, commenter, activeyear = useractive(name)\n",
    "                if commenter:\n",
    "                    active.append(dname)\n",
    "                elif voter:\n",
    "                    voting.append(dname)\n",
    "                elif activeyear: # Inactive\n",
    "                    inactive.append(dname)\n",
    "                if commenter or voter:\n",
    "                    acc = Account(name)\n",
    "                    hp = acc.balances['available'][2].amount_decimal\n",
    "                    if hp > 1E9:\n",
    "                        fish['Whale'] += 1\n",
    "                    elif hp > 1E8:\n",
    "                        fish['Orca'] += 1\n",
    "                    elif hp > 1E7:\n",
    "                        fish['Dolphin'] += 1\n",
    "                    elif hp > 1E6:\n",
    "                        fish['Minnow'] += 1\n",
    "                    else:\n",
    "                        fish['Redfish'] += 1\n",
    "\n",
    "                    for i in acc.get_account_history(0,1):\n",
    "                        created = cr = datetime.strptime(i['timestamp'], '%Y-%m-%dT%H:%M:%S')\n",
    "                    accage = (now - created).days\n",
    "                    if accage > 365:\n",
    "                        age['Older'] += 1\n",
    "                    elif accage > 90:\n",
    "                        age['Year'] += 1\n",
    "                    elif accage > 60:\n",
    "                        age['3 months'] += 1\n",
    "                    elif accage > 30:\n",
    "                        age['2 months'] += 1\n",
    "                    else:\n",
    "                        age['1 month'] += 1\n",
    "\n",
    "    output_region(region, active, voting, inactive)\n",
    "    print('## Totals')\n",
    "    print(f'**Total active** UK: {total_active}, Expats: {len(active)}')\n",
    "    \n",
    "    minnowhp = hive.vests_to_hp(1E6)\n",
    "    print('# Charts')\n",
    "    print(f\"This shows the numbers in each category of the active and voting accounts. Level is based on 'VESTS' with Minnow equating to a million VESTS.\")\n",
    "    print()\n",
    "    print('|Level|Number|Threshold|')\n",
    "    print('|-|-|-|')\n",
    "    for i,f in enumerate(fish):\n",
    "        hp = f'{minnowhp:11.2f} HP' if i > 0 else ''\n",
    "        print(f'|{f:8}|{fish[f]:4}|{hp}|')\n",
    "        if i > 0:\n",
    "            minnowhp *= 10\n",
    "    print()\n",
    "    print('This shows when people joined Hive. The last few months are shown separately to make any changes obvious.')\n",
    "    print('|Age|Number|')\n",
    "    print('|-|-|')\n",
    "    for a in age:\n",
    "        print(f'|{a}|{age[a]}|')\n",
    "    \n",
    "    print('''\n",
    "# UK Witnesses\n",
    "Please support your local witnesses. If you are unsure who to vote for then you can use my voting proxy.\n",
    "@someguy123, @ura-soul, @cadawg, @whiterosecoffee, @c0ff33a, @chisdealhd, @brofund, @slothbuzz''')\n"
   ]
  },
  {
   "cell_type": "code",
   "execution_count": 18,
   "metadata": {},
   "outputs": [
    {
     "name": "stdout",
     "output_type": "stream",
     "text": [
      "{'Redfish': 156, 'Minnow': 110, 'Dolphin': 46, 'Orca': 14, 'Whale': 1}\n"
     ]
    },
    {
     "data": {
      "image/png": "[encoded data removed]",
      "text/plain": [
       "<Figure size 576x432 with 1 Axes>"
      ]
     },
     "metadata": {
      "needs_background": "light"
     },
     "output_type": "display_data"
    }
   ],
   "source": [
    "print(fish)\n",
    "fig, ax = plt.subplots()\n",
    "fig.set_size_inches(8,6)\n",
    "plt.bar(fish.keys(), fish.values(), color=['red','green','blue','black','gray']);1\n",
    "plt.title('Account Levels')\n",
    "ax.grid()"
   ]
  },
  {
   "cell_type": "code",
   "execution_count": 19,
   "metadata": {},
   "outputs": [
    {
     "name": "stdout",
     "output_type": "stream",
     "text": [
      "{'1 month': 1, '2 months': 3, '3 months': 1, 'Year': 15, 'Older': 307}\n"
     ]
    },
    {
     "data": {
      "image/png": "[encoded data removed]",
      "text/plain": [
       "<Figure size 576x432 with 1 Axes>"
      ]
     },
     "metadata": {
      "needs_background": "light"
     },
     "output_type": "display_data"
    }
   ],
   "source": [
    "print(age)\n",
    "fig, ax = plt.subplots()\n",
    "fig.set_size_inches(8,6)\n",
    "plt.bar(age.keys(), age.values(), color=['red', 'orange', 'green','blue','brown']);\n",
    "plt.title('Account Ages')\n",
    "ax.grid()"
   ]
  },
  {
   "cell_type": "code",
   "execution_count": 15,
   "metadata": {},
   "outputs": [
    {
     "name": "stdout",
     "output_type": "stream",
     "text": [
      "|Level|Number|Stake|\n",
      "|-|-|-|\n",
      "|redfish | 156||\n",
      "|minnow  | 110|     562.13 HP|\n",
      "|dolphin |  47|    5621.27 HP|\n",
      "|orca    |  13|   56212.75 HP|\n",
      "|whale   |   1|  562127.46 HP|\n",
      "|Age|Number|\n",
      "|-|-|\n",
      "|month|1|\n",
      "|2 month|3|\n",
      "|3 month|1|\n",
      "|year|15|\n",
      "|older|307|\n"
     ]
    }
   ],
   "source": [
    "minnowhp = hive.vests_to_hp(1E6)\n",
    "print('|Level|Number|Stake|')\n",
    "print('|-|-|-|')\n",
    "for i,f in enumerate(fish):\n",
    "    hp = f'{minnowhp:11.2f} HP' if i > 0 else ''\n",
    "    print(f'|{f:8}|{fish[f]:4}|{hp}|')\n",
    "    if i > 0:\n",
    "        minnowhp *= 10\n",
    "print('|Age|Number|')\n",
    "print('|-|-|')\n",
    "for a in age:\n",
    "    print(f'|{a}|{age[a]}|')\n"
   ]
  },
  {
   "cell_type": "code",
   "execution_count": null,
   "metadata": {},
   "outputs": [],
   "source": []
  }
 ],
 "metadata": {
  "kernelspec": {
   "display_name": "Python 3",
   "language": "python",
   "name": "python3"
  },
  "language_info": {
   "codemirror_mode": {
    "name": "ipython",
    "version": 3
   },
   "file_extension": ".py",
   "mimetype": "text/x-python",
   "name": "python",
   "nbconvert_exporter": "python",
   "pygments_lexer": "ipython3",
   "version": "3.8.5"
  }
 },
 "nbformat": 4,
 "nbformat_minor": 2
}
