{
 "cells": [
  {
   "cell_type": "markdown",
   "metadata": {},
   "source": [
    "Todo:\n",
    "* Chart of account age. Show how many newbies - done\n",
    "* Chart of account size -done\n",
    "* Hide compromised accounts - done"
   ]
  },
  {
   "cell_type": "code",
   "execution_count": 1,
   "metadata": {},
   "outputs": [],
   "source": [
    "# Build a list of active users suitable for a Hive post\n",
    "# Loads users from file users.txt. Lines starting with R are regions\n",
    "\n",
    "from datetime import datetime, timedelta, date\n",
    "from beem import Hive\n",
    "from beem.account import Account\n",
    "from beem.amount import Amount\n",
    "from beem.comment import Comment\n",
    "from beem.exceptions import ContentDoesNotExistsException\n",
    "from beem.instance import set_shared_blockchain_instance\n",
    "import matplotlib.pyplot as plt"
   ]
  },
  {
   "cell_type": "code",
   "execution_count": 2,
   "metadata": {},
   "outputs": [],
   "source": [
    "hive = Hive()\n",
    "set_shared_blockchain_instance(hive)\n",
    "stop = datetime.utcnow() - timedelta(days=31) # Checks last month"
   ]
  },
  {
   "cell_type": "code",
   "execution_count": 3,
   "metadata": {},
   "outputs": [],
   "source": [
    "hacked = []\n",
    "with open('steemengineteam_group.txt','r') as f:\n",
    "    for l in f:\n",
    "        hacked.append(l.strip())"
   ]
  },
  {
   "cell_type": "code",
   "execution_count": 4,
   "metadata": {},
   "outputs": [],
   "source": [
    "def useractive(user):\n",
    "    # Work back looking for last post/comment or vote\n",
    "    acc = Account(user)#, blockchain_instance=hive)\n",
    "    voted = commented = False\n",
    "\n",
    "    for a in acc.history_reverse(stop=stop, only_ops=[\"vote\", \n",
    "                                                      \"comment\"]):\n",
    "        if a[\"type\"] == \"vote\":\n",
    "            voted = True\n",
    "        if a[\"author\"] == user:\n",
    "            if a[\"type\"] == \"comment\":\n",
    "                commented = True\n",
    "                break # Don't need to check if they voted as well\n",
    "            \n",
    "    return (voted, commented)"
   ]
  },
  {
   "cell_type": "code",
   "execution_count": 5,
   "metadata": {},
   "outputs": [],
   "source": [
    "def output_region(region, active, voting, inactive):\n",
    "    if region != None:\n",
    "        act, voter, inact = len(active), len(voting), len(inactive)\n",
    "        print(f'## {region} ({act}/{voter}/{inact})')\n",
    "        if act:\n",
    "            print('@'+ (', @'.join(sorted(active))))\n",
    "            print()\n",
    "        if voter:\n",
    "            print('Voting: @'+ (', @'.join(sorted(voting))))\n",
    "            print()\n",
    "        if inact:\n",
    "            print('Inactive: @'+ (', @'.join(sorted(inactive))))\n",
    "            print()"
   ]
  },
  {
   "cell_type": "code",
   "execution_count": 6,
   "metadata": {},
   "outputs": [
    {
     "name": "stdout",
     "output_type": "stream",
     "text": [
      "## London and the South East (63/28/49)\n",
      "@actuarialuk91 (Cambridge), @adetorrent (London), @andy4475 (Woking), @atomcollector (@risingstargame @juxtamusic), @audiohive-me, @awah, @basilmarples, @bellou61 (Brighton), @blockchainyouth, @cathgothard (London), @cezary-io, @chris-uk (Norwich), @cryptogee, @daine-cherry, @dannyshine, @darkstardust (London @ladystardust), @davidthompson57, @donatello, @dubble (London), @dunsky (London), @edenmichelle, @ezzy, @garrickalder (London), @gillianpearce (Brighton), @grizzle (Bedford), @grooverman (Brighton), @imfarhad, @independentpress (London), @jaxsonmurph, @kgakakillerg (@gmlrecordz @kggymlife), @lloyddavis (@steemcampuk @lloyd-social), @maneco64, @ministickupboy (Brighton), @moemanmoesly, @molometer, @nakedverse, @namiks, @nathanmars, @nicolcron, @notaboutme, @petrahaller, @rapptv, @raymondspeaks, @rightbuildgroup (London), @rmsbodybuilding, @samsmith1971, @sergiomendes (@thesassysergio), @shutterepair (London), @silvergoldhunter, @spectrumecons, @stav (Norfolk), @steevc (Bedfordshire @tenkminnows @swing47), @stickchumpion, @stickupboys (Brighton), @stickupmusic (Brighton), @stickupofficial1 (Brighton), @tdctunes (London), @todayslight, @trippymane, @ultravioletmag, @ura-soul (Norfolk or elsewhere), @winkandwoo, @writerjordan\n",
      "\n",
      "Voting: @bleepcoin, @camerarules, @charitycurator, @d3p0, @dashfit, @digna, @holisticmom, @icepee, @immarojas, @kabir88, @kph, @liverehab, @markangeltrueman, @matildamoment, @mattniblock, @nanzo-scoop, @nickyhavey, @pizzadalek, @pushpedal, @rafique, @redrica, @slayerkm, @stimp1024, @talesfrmthecrypt, @touringhousewife, @tricki, @wilfredn, @xxxxxxxxxxxxxxxx\n",
      "\n",
      "Inactive: @abeilleblooms (Southend), @adamaslam, @artelmedia (West London), @artzo, @bewithbreath, @blackrussian, @boogieboa, @breadcentric (Bedfordshire), @carwashlondon, @danshawmusic (London), @djjamesblack (Brighton), @dolphinartuk (Essex), @dougalporteous, @dougdigital, @dronegraphica, @elmerlin (London), @endaksi1 (Cambridge), @fleur (Cambridge), @frankiic3, @greatvideos, @hockney, @jameshsmitharts, @jedb, @kaywoods, @kezyma, @knelstrom, @knit-stich-witch (London), @mamalanuk (Brixton), @minteh, @profitmachine (Istanbul and London), @queenoftheworld, @rawveganista, @rea, @robbieallenart, @rosa33, @sagardyola (London), @sazzler, @stealthywolfxli, @steemlondon, @stormkeepergu (@stormkeepersmdk), @susanlo, @teodora, @the-busy-bee, @the-gorilla, @thecryptidcrone, @thedawness, @timspawls, @watt.the.watt, @zoltarian\n",
      "\n",
      "## The Midlands (14/11/20)\n",
      "@abh12345, @article61, @batchgaming (Nuneaton), @dawnsart, @dickturpin, @ellenripley, @fastchrisuk, @jaytaylor, @rimicane, @rthelly, @shanibeer (@susie-saver Leicester), @shmoogleosukami, @susie-saver, @xwidep\n",
      "\n",
      "Voting: @awakingelements, @beautifulbullies, @dannewton (@earthsea), @gribbles, @kryptoe, @leighscotford, @michelle.gent (Sherwood Forest), @neopch, @skaarl, @tamiapt6, @unkidrik\n",
      "\n",
      "Inactive: @audreyvr, @bettynoir, @brianbrogan1960, @codelikeamother, @decentered-media, @ebabb, @fishlucy (Stoke On Trent), @fizogphotography, @flashpointstudio, @galacey (Birmingham), @martaesperanza, @maxrwolfe, @neilru75, @opheliafu, @paulofnottingham, @purplephoto, @s0u1 (Nottinghamshire), @stormriderstudio, @the3metrewrap, @wildonewon\n",
      "\n",
      "## The South West (16/5/4)\n",
      "@awhofficial (New Forest), @blade7 (Cornwall), @davidlionfish (Bristol), @diveratt, @dontcare89 (Newquay), @francesleader, @jimbobbill, @jonboka, @livinguktaiwan, @mudcat36, @newtonclassics, @nockzonk, @sharpshot, @sunsethunter, @ukbitcoinmaster, @whickey (Bristol)\n",
      "\n",
      "Voting: @adambarratt, @eveningart, @perceptualflaws, @thomaskatan, @wolven-znz\n",
      "\n",
      "Inactive: @cryptokingzno1, @dedarknes (Plymouth), @phoenixftwinter, @stickycj\n",
      "\n",
      "## The North (24/16/18)\n",
      "@ambrosechappel (Southport), @amos1969, @ashtv (Yorkshire), @c0ff33a (Yorkshire @whiterosecoffee @teamuksupport), @chisdealhd, @dadspardan, @darrenclaxton, @darrenflinders, @demotruk (Isle of Man), @dizzydiscovery, @iamdarrenclaxton (Derbyshire), @jphamer1, @karenb54, @kiers (Manchester), @let123, @planetauto, @raj808 (Liverpool), @richgaynor, @sam1965uk, @slobberchops, @stevenwood, @streetwize (Bradford), @teamhumble, @vraba\n",
      "\n",
      "Voting: @artonmysleeve, @bingbabe, @cryptocurator, @digitaldan, @goblinknackers, @jskitty, @lastravage, @m-ssed-t, @makrotheblack (Liverpool), @mattbrown.art (Isle of Man), @mckeever, @pcste, @radicalpears (Huddersfield), @sarennadiu (Manchester), @sisygoboom, @someguy123\n",
      "\n",
      "Inactive: @adamfryda-art, @amy-explores, @anidiotexplores, @dismayedworld, @emergingtech (Manchester), @erdeniz (Manchester), @father2b, @gentmartin (Leeds), @honeyrabbit, @introvert-dime, @jackshootsstuff (West Yorkshire), @jacpl, @leetodd, @madmaxx12 (Manchester), @magenta24, @schminimal, @steddyman, @yunnie (Isle of Man)\n",
      "\n",
      "## Scotland (10/7/8)\n",
      "@barge (@krunkypuram), @cadawg, @camuel (@acousticguitar), @celticheartbeat (@jubei333), @cottonlazarus, @howiemac, @huitemae, @joshuaslane, @kevmcc, @meesterboom (@b00m)\n",
      "\n",
      "Voting: @btcvenom, @fiftysixnorth, @myskye, @natubat, @rafalforeigner, @stef1 (@art-venture), @wisbeech\n",
      "\n",
      "Inactive: @agrestic, @danaidhbee, @epicdave, @graemesaxton, @highlandwalker, @imaginingfreedom, @indusrush, @injuryclaims\n",
      "\n",
      "## Wales (7/4/6)\n",
      "@cassi, @grindle, @louisthomas, @nozzy, @stevelivingston, @theturtleproject, @welshstacker\n",
      "\n",
      "Voting: @elizabethharvey, @gazbaz4000, @p-props, @stevejhuggett\n",
      "\n",
      "Inactive: @alishas, @artystuff, @magnus19, @pennsif (@steemclub-uk), @pumpkinsandcats, @trolleydave\n",
      "\n",
      "## Northern Ireland (2/1/0)\n",
      "@ninasophia, @silverstackeruk\n",
      "\n",
      "Voting: @besold\n",
      "\n",
      "## Somewhere in the UK... (36/43/32)\n",
      "@abdex9, @audrein (England), @beachgamestv, @biscuitbarrel (England), @british-bulldog, @cryptosneeze, @cryptovios, @elliotjgardner, @fadetoblack, @fallfromdisgrace, @forbritain, @frugal-fun, @hftdigital, @iansart, @impshum, @jmehta, @lordavatarii, @marketingmonk, @millycf1976, @monsterjamgold, @mrsatoshiii, @nockzonk, @offthecuff2020, @platinum-blue, @qsett, @remystar93, @sandrolinux, @sbenbow, @scubahead, @socialmediaseo, @tobias-g, @trading-tokens (England), @utopia-hope (England), @v3ptur, @zedcell, @zeeshannaqvi72\n",
      "\n",
      "Voting: @alheath, @anarchojeweler, @andrewharland, @blue.panda, @bobskibob, @bokarecords, @britcoins (England and SE Asia), @brothershield, @crucialweb, @cynicalcake, @damianjayclay, @djsl82, @dnpq, @english-ant, @eternalsuccess, @filbell, @gmuxx, @goldstreet, @haitch, @hive.curation, @hopehuggs, @imbartley, @lefty619, @localgrower, @loolooasuna, @luppers, @niko3d, @owenwat, @phonetix, @pjau, @quickthen, @realjohnaziz, @ryanscottesq, @scalextrix, @steemboat-steve, @stevieboyes, @tazbaz, @tggr.trb, @tkolpaczek, @tomatom, @tommyrobinson, @vtravels, @webdeals\n",
      "\n",
      "Inactive: @adhudson, @alienbutt, @arrasails1977, @autocoincars, @basejumper, @bloodycritique, @bobbylee, @brauner-benz, @brianhphotos, @catanddogtips, @clivemartin, @davewuk, @drvimto, @earnxtreme, @fatasfunk, @hilarywhitehead, @hkb28, @jimjam1210, @marcusbraeburn, @peedeerai, @pellx, @premiumdomains, @quirk-it, @redarrow, @seanspeaks, @shando73, @smileformovie, @spicetrader, @the-nature-plug, @tremendospercy, @ukheather, @vibeof100monkeys\n",
      "\n",
      "## Expats (18/3/7)\n",
      "@accelerator (@rycharde Thailand), @cristina-zac (Spain), @cryptoandcoffee (South Africa), @eco-alex (Planet Earth), @eftnow (Spain), @elricmoonslayer (Spain), @felt.buzz (France), @justinchicken (Japan), @lucylin (Thailand), @mattsbeamer (Russia), @minismallholding (Australia), @nathen007 (@leedsunited Thailand), @revisesociology (Portugal), @samstonehill (France), @sebcam (USA), @shepz1 (Poland), @starkerz (Cyberspace), @trucklife-family (The Earth)\n",
      "\n",
      "Voting: @jeffandhisguitar (SE Asia), @tggr (Singapore), @thinkit (Thailand)\n",
      "\n",
      "Inactive: @beckymeep (USA), @biggypauls (Philippines), @l0tti3 (South Africa), @livelovejourney (Majorca), @milliganstravels (Thailand), @moonyoga (Portugal), @ripebanana (Trinidad and Tobago)\n",
      "\n",
      "## Totals\n",
      "**Total active** UK: 172, Expats: 18\n"
     ]
    }
   ],
   "source": [
    "with open('users.txt', 'r') as f:\n",
    "    active = []\n",
    "    inactive = []\n",
    "    voting =[]\n",
    "    region = None\n",
    "    now = datetime.utcnow() \n",
    "    total_active = 0\n",
    "    fish = {'redfish': 0, 'minnow':0, 'dolphin':0, 'orca':0, 'whale':0}\n",
    "    age = {'month':0, '2month':0, '3month':0, 'year':0, 'older':0}\n",
    "    for l in f:\n",
    "        fields = l.split(',')\n",
    "        if fields[0] == 'R':\n",
    "            output_region(region, active, voting, inactive)\n",
    "            total_active += len(active) # Will not count the last region, but exclude expats from total anyway\n",
    "            region = fields[1].strip()\n",
    "            active, voting, inactive = [], [], []\n",
    "        else:\n",
    "            name = dname = fields[0].strip()\n",
    "            if '(' in name:\n",
    "                dname = name\n",
    "                name = name[:(name.find('(')-1)]\n",
    "            if not name in hacked:\n",
    "                voter, commenter = useractive(name)\n",
    "                if commenter:\n",
    "                    active.append(dname)\n",
    "                elif voter:\n",
    "                    voting.append(dname)\n",
    "                else: # Inactive\n",
    "                    inactive.append(dname)\n",
    "                if commenter or voter:\n",
    "                    acc = Account(name)\n",
    "                    hp = acc.balances['available'][2].amount_decimal\n",
    "                    if hp > 1E9:\n",
    "                        fish['whale'] += 1\n",
    "                    elif hp > 1E8:\n",
    "                        fish['orca'] += 1\n",
    "                    elif hp > 1E7:\n",
    "                        fish['dolphin'] += 1\n",
    "                    elif hp > 1E6:\n",
    "                        fish['minnow'] += 1\n",
    "                    else:\n",
    "                        fish['redfish'] += 1\n",
    "\n",
    "                    for i in acc.get_account_history(0,1):\n",
    "                        created = cr = datetime.strptime(i['timestamp'], '%Y-%m-%dT%H:%M:%S')\n",
    "                    accage = (now - created).days\n",
    "                    if accage > 365:\n",
    "                        age['older'] += 1\n",
    "                    elif accage > 90:\n",
    "                        age['year'] += 1\n",
    "                    elif accage > 60:\n",
    "                        age['3month'] += 1\n",
    "                    elif accage > 30:\n",
    "                        age['2month'] += 1\n",
    "                    else:\n",
    "                        age['month'] += 1\n",
    "\n",
    "    output_region(region, active, voting, inactive)\n",
    "    print('## Totals')\n",
    "    print(f'**Total active** UK: {total_active}, Expats: {len(active)}')\n"
   ]
  },
  {
   "cell_type": "code",
   "execution_count": 7,
   "metadata": {},
   "outputs": [
    {
     "name": "stdout",
     "output_type": "stream",
     "text": [
      "{'redfish': 153, 'minnow': 105, 'dolphin': 36, 'orca': 14, 'whale': 0}\n"
     ]
    },
    {
     "data": {
      "text/plain": [
       "Text(0.5, 1.0, 'Account Levels')"
      ]
     },
     "execution_count": 7,
     "metadata": {},
     "output_type": "execute_result"
    },
    {
     "data": {
      "image/png": "[encoded data removed]",
      "text/plain": [
       "<Figure size 432x288 with 1 Axes>"
      ]
     },
     "metadata": {
      "needs_background": "light"
     },
     "output_type": "display_data"
    }
   ],
   "source": [
    "print(fish)\n",
    "plt.bar(fish.keys(), fish.values(), color=['red','green','blue','black','gray']);\n",
    "plt.title('Account Levels')"
   ]
  },
  {
   "cell_type": "code",
   "execution_count": 8,
   "metadata": {},
   "outputs": [
    {
     "name": "stdout",
     "output_type": "stream",
     "text": [
      "{'month': 18, '2month': 4, '3month': 6, 'year': 38, 'older': 242}\n"
     ]
    },
    {
     "data": {
      "text/plain": [
       "Text(0.5, 1.0, 'Account Ages')"
      ]
     },
     "execution_count": 8,
     "metadata": {},
     "output_type": "execute_result"
    },
    {
     "data": {
      "image/png": "[encoded data removed]",
      "text/plain": [
       "<Figure size 432x288 with 1 Axes>"
      ]
     },
     "metadata": {
      "needs_background": "light"
     },
     "output_type": "display_data"
    }
   ],
   "source": [
    "print(age)\n",
    "plt.bar(age.keys(), age.values(), color=['red', 'orange', 'green','blue','brown']);\n",
    "plt.title('Account Ages')"
   ]
  },
  {
   "cell_type": "code",
   "execution_count": null,
   "metadata": {},
   "outputs": [],
   "source": []
  }
 ],
 "metadata": {
  "kernelspec": {
   "display_name": "Python 3",
   "language": "python",
   "name": "python3"
  },
  "language_info": {
   "codemirror_mode": {
    "name": "ipython",
    "version": 3
   },
   "file_extension": ".py",
   "mimetype": "text/x-python",
   "name": "python",
   "nbconvert_exporter": "python",
   "pygments_lexer": "ipython3",
   "version": "3.8.5"
  }
 },
 "nbformat": 4,
 "nbformat_minor": 2
}
