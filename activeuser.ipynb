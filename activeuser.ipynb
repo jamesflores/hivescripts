{
 "cells": [
  {
   "cell_type": "markdown",
   "metadata": {},
   "source": [
    "Todo:\n",
    "* Chart of account age. Show how many newbies - done\n",
    "* Chart of account size -done\n",
    "* Hide compromised accounts - done"
   ]
  },
  {
   "cell_type": "code",
   "execution_count": 1,
   "metadata": {},
   "outputs": [],
   "source": [
    "# Build a list of active users suitable for a Hive post\n",
    "# Loads users from file users.txt. Lines starting with R are regions\n",
    "\n",
    "from datetime import datetime, timedelta, date\n",
    "from beem import Hive\n",
    "from beem.account import Account\n",
    "from beem.amount import Amount\n",
    "from beem.comment import Comment\n",
    "from beem.exceptions import ContentDoesNotExistsException\n",
    "from beem.instance import set_shared_blockchain_instance\n",
    "import matplotlib.pyplot as plt"
   ]
  },
  {
   "cell_type": "code",
   "execution_count": 2,
   "metadata": {},
   "outputs": [],
   "source": [
    "hive = Hive(node=['https://anyx.io'])#https://rpc.ausbit.dev','https://api.deathwing.me', 'https://api.hive.blog'])\n",
    "set_shared_blockchain_instance(hive)\n",
    "stop = datetime.utcnow() - timedelta(days=31) # Checks last month\n",
    "fullstop = datetime.utcnow() - timedelta(days=365) # Checks last year"
   ]
  },
  {
   "cell_type": "code",
   "execution_count": 3,
   "metadata": {},
   "outputs": [],
   "source": [
    "hacked = []\n",
    "with open('steemengineteam_group.txt','r') as f:\n",
    "    for l in f:\n",
    "        hacked.append(l.strip())"
   ]
  },
  {
   "cell_type": "code",
   "execution_count": 4,
   "metadata": {},
   "outputs": [],
   "source": [
    "def useractive(user):\n",
    "    # Work back looking for last post/comment or vote\n",
    "    acc = Account(user)#, blockchain_instance=hive)\n",
    "    voted = commented = activeyear = False\n",
    "\n",
    "    for a in acc.history_reverse(stop=stop, only_ops=[\"vote\", \n",
    "                                                      \"comment\"]):\n",
    "        if a[\"type\"] == \"vote\":\n",
    "            voted = True\n",
    "        if a[\"author\"] == user:\n",
    "            if a[\"type\"] == \"comment\":\n",
    "                commented = True\n",
    "                break # Don't need to check if they voted as well\n",
    "\n",
    "    if not (voted or commented):\n",
    "        activeyear = False\n",
    "        for a in acc.history_reverse(stop=fullstop, only_ops=[\"vote\", \n",
    "                                                      \"comment\"]):\n",
    "            activeyear = True\n",
    "            break\n",
    "    return (voted, commented, activeyear)"
   ]
  },
  {
   "cell_type": "code",
   "execution_count": 5,
   "metadata": {},
   "outputs": [],
   "source": [
    "def output_region(region, active, voting, inactive):\n",
    "    if region != None:\n",
    "        act, voter, inact = len(active), len(voting), len(inactive)\n",
    "        print(f'## {region} ({act}/{voter}/{inact})')\n",
    "        if act:\n",
    "            print('Posting: @'+ (', @'.join(sorted(active))))\n",
    "            print()\n",
    "        if voter:\n",
    "            print('Voting: @'+ (', @'.join(sorted(voting))))\n",
    "            print()\n",
    "        if inact:\n",
    "            print('Inactive: @'+ (', @'.join(sorted(inactive))))\n",
    "            print()"
   ]
  },
  {
   "cell_type": "code",
   "execution_count": 6,
   "metadata": {
    "scrolled": false
   },
   "outputs": [
    {
     "name": "stdout",
     "output_type": "stream",
     "text": [
      "## London and the South East (80/40/50)\n",
      "Posting: @adetorrent (London), @alonicus (Hampshire), @andy4475 (Woking @andy-jahm @andy-vibes @andy-cine), @anna-newkey (Bedfordshire), @assassyn (Reading), @audiohive-me, @awah, @basilmarples (Norwich), @beccss (London), @benthomaswwd (Northampton @heartbeatonhive @benthomasuk), @bleepcoin, @bombaycrypto (London), @cezary-io, @charliesmith11 (Hampshire), @chris-uk (Norwich), @cryptogee, @cryptosneeze, @daine-cherry, @daniellemurray (Herts @radioliquorice), @davidthompson57 (West Sussex), @dbofficial125 (Oxford), @devosdevosi (London), @donatello, @dubble (London), @edenmichelle, @elmerlin (London @liketu), @evilisme (London), @gideonreeling (London), @gillianpearce (Brighton), @greenjhon (London), @greensmile, @has-k (London), @imfarhad, @jgiordi (London), @kaazoom (East Sussex), @karwol (London), @kgakakillerg (London @gmlrecordz @kggymlife), @lovelyscape (Hastings), @lucidsamples (London), @maneco64, @mcsamm (Milton Keynes), @mhel (London), @mightyrocklee (Bedfordshire @heruvim1978), @molometer (@mopal Cambridgeshire/London), @monivis (Chertsey), @nakedverse, @namiks, @nathanmars, @nicklewis (Berkshire), @nickyhavey, @notaboutme, @onalazyday (London), @philsaatchi (Brighton), @purplesinger (Bedfordshire), @pvmihalache (Bedford), @queenoftheworld, @raymondspeaks, @revisesociology, @risingstargame (@atomcollector @juxtamusic @jux), @robpye (London), @sally-notbright (Kent), @samsmith1971, @sergiomendes (@thesassysergio), @spectrumecons, @stav (Norfolk), @steevc (Bedfordshire @tenkminnows @swing47), @steve-o2023, @stickchumpion, @stickupboys (Brighton @stickupcurator), @stickupmusic (Brighton), @stickupofficial1 (Brighton), @stormkeepergu (East London @stormkeepersmdk), @talesfrmthecrypt, @tdctunes (London), @teooo (Brighton), @thecogent (London), @theessexfunko (Essex), @todayslight (Bedfordshire @roaminglewis), @tonybad (London), @ura-soul (Norfolk or elsewhere)\n",
      "\n",
      "Voting: @archatlas (Shoreditch), @bellou61 (Brighton), @blockchainyouth, @breadcentric (Bedfordshire), @dannyshine, @dashfit, @digna, @dunsky (London), @ezzy, @holisticmom, @icepee, @immarojas, @jaxsonmurph, @kabir88, @kph (Ipswich), @liverehab, @lloyddavis (@steemcampuk @lloyd-social), @matildamoment, @mattniblock, @moemanmoesly, @nanzo-scoop, @neutronsalad (London, @nicolcron, @pepskaram (London), @pizzadalek, @pushpedal, @quentincc (London), @rafique, @redrica, @reviewed, @richardslater (Brighton), @rmsbodybuilding, @slayerkm, @stevermac1966 (Crystal Palace), @stimp1024, @tricki, @trippymane, @wilfredn, @winkandwoo, @zoltarian\n",
      "\n",
      "Inactive: @actuarialuk91 (Cambridge), @alex562035 (London), @beaupeep (London), @bettymorgan (London), @biggmusic (Brighton), @billiehooper (London), @blackrussian, @blockchainfpl (Eastbourne @the-gorilla @fplcanary), @carvalhochris (London), @cathgothard (London), @chadayan (London), @charitycurator, @chrinnox (Londom), @chromauk (London), @d3p0, @darkstardust (London @ladystardust), @dcrvx1000r (London), @dd01a (London), @djjamesblack (Brighton), @djtorchie (Cambridge), @dolphinartuk (Essex), @dougdigital, @eigeneggi (London), @fplcanary (South coast), @frankiic3, @gen-key (London), @independentpress (London), @jorjencrypto (London), @kaywoods, @lawtagenglish (Cambridge), @looster120 (London), @losttribe (High Wycombe), @markangeltrueman, @ministickupboy (Brighton), @ochako (London), @petrahaller, @qsett (Maidstone), @rea, @robbieallenart, @sagardyola (London), @seetheworld.sgp (London), @splurgee (London), @sudeginsiu (Brighton), @teodora, @thecryptorat (Bournemouth), @thedawness, @tiffaniv (London), @ultravioletmag (London), @writerjordan, @wrobellek (Oxford)\n",
      "\n",
      "## The Midlands (16/10/24)\n",
      "Posting: @beautifulbullies (Nottingham), @bettynoir, @codelikeamother, @dannewton (@earthsea), @dickturpin, @ellenripley, @fastchrisuk (Nottinghamshire), @gribbles, @grottbags (Northamptonshire), @jin-out (Birmingham), @juliasibillotte (Nottingham), @mscleaning (Birmingham), @neopch, @shanibeer (@susie-saver Leicester), @shmoogleosukami (@shmoogleosu.list), @xandercagex (Birmingham)\n",
      "\n",
      "Voting: @article61, @brianbrogan1960, @kryptoe, @leighscotford, @michelle.gent (Sherwood Forest), @skaarl, @snowboarderpete (North Lincolnshire), @tamiapt6, @unkidrik, @zeeshannaqvi72\n",
      "\n",
      "Inactive: @awakingelements, @bbphotography (Lincoln), @bold-n-italics (Birmingham), @dannyalder88 (Northampton), @dawnsart, @ebabb, @fizogphotography, @gytribe (Lincolnshire), @jaytaylor, @levelcompeteuk (Nottingham), @martaesperanza, @mingetoot (Leicester), @neilru75, @nellabyme, @opheliafu, @renaessanceman, @rickyvintage (Birmingham), @rimicane, @rthelly, @s0u1 (Nottinghamshire), @shimbodoesart (Northampton), @the3metrewrap, @vanbliss (Northamptonshire), @wildonewon\n",
      "\n",
      "## The South West (16/8/17)\n",
      "Posting: @countrysid (Somerset), @diveratt, @dontcare89 (Newquay), @francesleader (Dorset), @grizzle, @lacelight (Dorset), @lifespring, @livinguktaiwan (@lut-studio), @nockzonk, @nurseflo (Bath), @pompeylad (South Coast), @sharpshot, @stevienics (Truro), @stuartcturnbull (Cornwall), @theworldaroundme, @ukbitcoinmaster\n",
      "\n",
      "Voting: @blade7 (Cornwall), @cubapl (Bristol), @davidlionfish (Bristol), @eveningart, @jimbobbill, @killerkev (Bristol), @thomaskatan, @wolven-znz\n",
      "\n",
      "Inactive: @awhofficial (New Forest), @ciprofloxacin (Dorset), @colzsmith (Devon), @cryptokingzno1, @dimasia (Weston-super-Mare), @fantolyn (Bristol), @fattathelan, @groovy828 (Cornwall), @jakeart1 (Christchurch), @mudcat36, @newtonclassics, @perceptualflaws, @smithykins (North Devon), @snakelicker (Cornwall), @snider (Taunton), @stickycj, @whickey (Bristol)\n",
      "\n",
      "## The North (26/19/22)\n",
      "Posting: @ambrosechappel (Southport), @artonmysleeve, @c0ff33a (Yorkshire @whiterosecoffee @teamuksupport), @chisdealhd (Newcastle Upon Tyne @alloyxuast @thencsshifters @chisfund @alloyxuastcur @chisuploads), @dadspardan, @darrenflinders, @demotruk (Isle of Man), @fadetoblack (Stockport), @goblinknackers, @iamdarrenclaxton (Derbyshire @darrenclaxton @mrbloom), @iamdarrenclaxton (Derbyshire), @inksurgeon (Sheffield), @jphamer1, @karenb54, @let123, @makerhacks (York), @onw (@b8l), @paritae (Newcastle), @planetauto, @raj808 (Liverpool), @slobberchops, @streetwize (Bradford), @teamhumble, @viajeracebuana (Berwick-Upon-Tweed), @vibeof100monkeys (Lancashire), @youloseagain (Yorkshire)\n",
      "\n",
      "Voting: @anarcotech (Huddersfield), @bingbabe, @cryptocurator, @digitaldan, @dismayedworld, @dizzydiscovery, @jskitty, @lastravage, @makrotheblack (Liverpool), @mattbrown.art (Isle of Man), @mckeever, @oliviaava (Manchester), @pcste, @richgaynor, @socialmediaseo, @someguy123, @steddyman, @stevenwood, @yunnie (Isle of Man)\n",
      "\n",
      "Inactive: @amy-explores, @ashtv (Yorkshire), @father2b, @honeyrabbit, @introvert-dime, @kiers (Manchester), @leetodd, @letothehobbit (West Yorkshire), @madmoo (Manchester), @magenta24, @magicmmatty (Newcastel), @mylah (Newcastle upon Tyne), @niftyspooks (Liverpool), @only1al, @radicalpears (Huddersfield), @rob-c (Heywood Greater Manchester), @sam1965uk, @sisygoboom, @squeek1984 (Durham), @thebudfather (Stockport), @thesellotapekid (West Yorkshire), @thesoulharmonic (Manchester)\n",
      "\n",
      "## Scotland (14/10/7)\n",
      "Posting: @beardoin, @camuel (@acousticguitar), @celticheartbeat (@jubei333), @cottonlazarus (Edinburgh), @creativepersonal (Edinburgh), @hoosie (Edinburgh), @joshuaslane, @kevmcc, @littlebee4, @meesterboom (@b00m), @sc0tsman (Fife), @slothlydoesit (Edinburgh), @tcttnews, @tengolotodo (@tengogaming)\n",
      "\n",
      "Voting: @agrestic, @barge (@krunkypuram), @btcvenom, @cadawg, @fiftysixnorth, @howiemac, @myskye, @natubat, @rafalforeigner, @wisbeech\n",
      "\n",
      "Inactive: @antonchanning (Loch Ness), @gguy773, @imaginingfreedom, @laytexlily, @soundtopia, @stef1 (@art-venture), @tduffy (Glasgow)\n",
      "\n",
      "## Wales (10/4/4)\n",
      "Posting: @alishas, @cassi, @grindle, @jonboka, @louisthomas, @p-props, @realitymaster (Swansea), @stevelivingston, @theturtleproject, @welshstacker\n",
      "\n",
      "Voting: @gazbaz4000, @nozzy, @ora-et-labora, @ruckmesideways\n",
      "\n",
      "Inactive: @cryptocariad, @football247, @pennsif (@steemclub-uk), @pumpkinsandcats\n",
      "\n",
      "## Northern Ireland (1/2/2)\n",
      "Posting: @silverstackeruk\n",
      "\n",
      "Voting: @besold, @enzibatavia\n",
      "\n",
      "Inactive: @ninasophia, @tiredmomma\n",
      "\n",
      "## Somewhere in the UK... (35/31/69)\n",
      "Posting: @alzee, @amidlifecrypto, @artysteps, @b1tm31st3r, @basejumper (@bitcoinbeast), @brucegryllis, @candy49, @charliesmith11, @collinz, @cryptosneeze, @ddsexyauto, @fantagira, @gonzo, @heartsofoakuk (England), @ibadullah, @intrade, @jmehta, @karolsongin, @lordavatarii, @m8nda (England), @marketingmonk, @millycf1976, @monsterjamgold, @nockzonk, @nooblogger, @peedeerai, @platinum-blue, @rogeredwards, @sandrolinux, @scubahead, @stickupfilm, @tobias-g, @triority, @ukprepper, @webdeals\n",
      "\n",
      "Voting: @anarchojeweler, @blue.panda, @brianhphotos, @britcoins (England and SE Asia), @brothershield, @cynicalcake, @damianjayclay, @english-ant, @eternalsuccess, @feralblowfish, @filmmaking4hive (England), @frugal-fun, @haitch, @hive.curation, @hopehuggs, @iansart, @imbartley, @johngreenfield, @lefty619, @ninjakitten, @owenwat, @realjohnaziz, @rmcaesthetics (England), @steemboat-steve, @stevieboyes, @tazbaz, @tggr.trb, @tkolpaczek, @tomatom, @trading-tokens (England), @utopia-hope (England)\n",
      "\n",
      "Inactive: @adhudson, @alambert, @alheath, @andrewharland, @beachgamestv, @bigjammin (England), @bobskibob, @bokarecords, @britbrit2020, @british-bulldog, @cathi-xx, @cdrbushmills, @clivemartin, @crucialweb, @cryptovios, @dadgamer (England), @davewuk, @deadeagle63 (@dnpq @dnpqdeadeagle63), @digitaldisciple, @discountscode, @djm90, @djsl82, @earnxtreme, @elate, @elliotjgardner, @ericthevking, @evo69, @fatasfunk, @filbell, @flaviusgu, @forbritain, @freedomxists, @gmuxx, @godchildren (England), @goldstreet, @hftdigital, @impshum, @incojim, @kirhyip, @localgrower, @luppers, @magnauseum, @marcusbraeburn, @maxideea, @mrsatoshiii, @music-beatcz, @pandatome, @pepe7777, @pjuk (@pjau), @plodding-along, @powis, @premiumdomains, @primaudia, @quickthen, @remystar93, @sbenbow, @seeger, @social3states, @sparkyontherum, @thedeltron (England), @thencsshifters, @thetrader11, @tommyrobinson, @tothebatpoles, @treatland, @tremendospercy, @v3ptur, @vtravels, @zedcell\n",
      "\n"
     ]
    },
    {
     "name": "stdout",
     "output_type": "stream",
     "text": [
      "## Expats (23/4/14)\n",
      "Posting: @abdex9, @abh12345 (Spain), @adambarratt (@abtv Spain), @chewsk1 (Gibraltar), @cryptoandcoffee (South Africa), @ctrpch (Australia), @elricmoonslayer (Spain), @felt.buzz (France), @hirohurl (Japan), @jackglory (USA), @jeffandhisguitar (SE Asia), @juliamulcahy (Ireland), @justinchicken (Japan), @lucylin (Thailand), @mangomayhem (Philippines), @minismallholding (Australia), @momogrow (Netherlands), @nathen007 (@leedsunited Thailand), @samstonehill (France), @sebcam (USA), @shepz1 (Poland), @starkerz (Cyberspace), @trucklife-family (The Earth)\n",
      "\n",
      "Voting: @accelerator (@rycharde Thailand), @biggypauls (Philippines), @eftnow (Spain), @tggr (Singapore)\n",
      "\n",
      "Inactive: @beckymeep (USA), @cristina-zac (Spain), @dansensei (Japan), @eco-alex (Planet Earth), @marleyandme (Mexico), @milliganstravels (Thailand), @moonyoga (Portugal), @newtonclassics (Thailand), @notatravelwriter (France), @roconnor (France), @stbangkok (Thailand), @sunsethunter (New Zealand), @wanderlust7 (Canada), @wispsi (Vietnam)\n",
      "\n",
      "## Totals\n",
      "**Total active** UK: 198, Expats: 23\n",
      "\n",
      "# Charts\n",
      "This shows the numbers in each category of the active and voting accounts. Level is based on 'VESTS'. Minnow equates to a million VESTS, which is 559.31HP and each level is 10x the previous.\n",
      "\n",
      "This shows when people joined Hive. The last few months are shown separately to make any changes obvious.\n",
      "    \n",
      "# UK Witnesses\n",
      "Please support your local witnesses. If you are unsure who to vote for then you can use my voting proxy.\n",
      "@someguy123, @ura-soul, @cadawg, @whiterosecoffee, @c0ff33a, @chisdealhd, @brofund, @slothbuzz\n"
     ]
    }
   ],
   "source": [
    "with open('users.txt', 'r') as f:\n",
    "    active = []\n",
    "    inactive = []\n",
    "    voting =[]\n",
    "    region = None\n",
    "    now = datetime.utcnow() \n",
    "    total_active = 0\n",
    "    fish = {'redfish': 0, 'minnow':0, 'dolphin':0, 'orca':0, 'whale':0}\n",
    "    age = {'month':0, '2month':0, '3month':0, 'year':0, 'older':0}\n",
    "    for l in f:\n",
    "        fields = l.split(',')\n",
    "        if fields[0] == 'R':\n",
    "            output_region(region, active, voting, inactive)\n",
    "            total_active += len(active) # Will not count the last region, but exclude expats from total anyway\n",
    "            region = fields[1].strip()\n",
    "            active, voting, inactive = [], [], []\n",
    "        else:\n",
    "            name = dname = fields[0].strip()\n",
    "            if '(' in name:\n",
    "                dname = name\n",
    "                name = name[:(name.find('(')-1)]\n",
    "            if not name in hacked:\n",
    "                voter, commenter, activeyear = useractive(name)\n",
    "                if commenter:\n",
    "                    active.append(dname)\n",
    "                elif voter:\n",
    "                    voting.append(dname)\n",
    "                elif activeyear: # Inactive\n",
    "                    inactive.append(dname)\n",
    "                if commenter or voter:\n",
    "                    acc = Account(name)\n",
    "                    hp = acc.balances['available'][2].amount_decimal\n",
    "                    if hp > 1E9:\n",
    "                        fish['whale'] += 1\n",
    "                    elif hp > 1E8:\n",
    "                        fish['orca'] += 1\n",
    "                    elif hp > 1E7:\n",
    "                        fish['dolphin'] += 1\n",
    "                    elif hp > 1E6:\n",
    "                        fish['minnow'] += 1\n",
    "                    else:\n",
    "                        fish['redfish'] += 1\n",
    "\n",
    "                    for i in acc.get_account_history(0,1):\n",
    "                        created = cr = datetime.strptime(i['timestamp'], '%Y-%m-%dT%H:%M:%S')\n",
    "                    accage = (now - created).days\n",
    "                    if accage > 365:\n",
    "                        age['older'] += 1\n",
    "                    elif accage > 90:\n",
    "                        age['year'] += 1\n",
    "                    elif accage > 60:\n",
    "                        age['3month'] += 1\n",
    "                    elif accage > 30:\n",
    "                        age['2month'] += 1\n",
    "                    else:\n",
    "                        age['month'] += 1\n",
    "\n",
    "    output_region(region, active, voting, inactive)\n",
    "    print('## Totals')\n",
    "    print(f'**Total active** UK: {total_active}, Expats: {len(active)}')\n",
    "    \n",
    "    minnowhp = hive.vests_to_hp(1E6)\n",
    "    print(f'''\n",
    "# Charts\n",
    "This shows the numbers in each category of the active and voting accounts. Level is based on 'VESTS'. Minnow equates to a million VESTS, which is {minnowhp:.2f}HP and each level is 10x the previous.\n",
    "\n",
    "This shows when people joined Hive. The last few months are shown separately to make any changes obvious.\n",
    "    \n",
    "# UK Witnesses\n",
    "Please support your local witnesses. If you are unsure who to vote for then you can use my voting proxy.\n",
    "@someguy123, @ura-soul, @cadawg, @whiterosecoffee, @c0ff33a, @chisdealhd, @brofund, @slothbuzz''')\n"
   ]
  },
  {
   "cell_type": "code",
   "execution_count": 7,
   "metadata": {},
   "outputs": [
    {
     "name": "stdout",
     "output_type": "stream",
     "text": [
      "{'redfish': 179, 'minnow': 112, 'dolphin': 44, 'orca': 13, 'whale': 1}\n"
     ]
    },
    {
     "data": {
      "image/png": "[encoded data removed]",
      "text/plain": [
       "<Figure size 576x432 with 1 Axes>"
      ]
     },
     "metadata": {
      "needs_background": "light"
     },
     "output_type": "display_data"
    }
   ],
   "source": [
    "print(fish)\n",
    "fig, ax = plt.subplots()\n",
    "fig.set_size_inches(8,6)\n",
    "plt.bar(fish.keys(), fish.values(), color=['red','green','blue','black','gray']);1\n",
    "plt.title('Account Levels')\n",
    "ax.grid()"
   ]
  },
  {
   "cell_type": "code",
   "execution_count": 8,
   "metadata": {},
   "outputs": [
    {
     "name": "stdout",
     "output_type": "stream",
     "text": [
      "{'month': 6, '2month': 4, '3month': 5, 'year': 16, 'older': 318}\n"
     ]
    },
    {
     "data": {
      "image/png": "[encoded data removed]",
      "text/plain": [
       "<Figure size 576x432 with 1 Axes>"
      ]
     },
     "metadata": {
      "needs_background": "light"
     },
     "output_type": "display_data"
    }
   ],
   "source": [
    "print(age)\n",
    "fig, ax = plt.subplots()\n",
    "fig.set_size_inches(8,6)\n",
    "plt.bar(age.keys(), age.values(), color=['red', 'orange', 'green','blue','brown']);\n",
    "plt.title('Account Ages')\n",
    "ax.grid()"
   ]
  },
  {
   "cell_type": "code",
   "execution_count": null,
   "metadata": {},
   "outputs": [],
   "source": []
  }
 ],
 "metadata": {
  "kernelspec": {
   "display_name": "Python 3",
   "language": "python",
   "name": "python3"
  },
  "language_info": {
   "codemirror_mode": {
    "name": "ipython",
    "version": 3
   },
   "file_extension": ".py",
   "mimetype": "text/x-python",
   "name": "python",
   "nbconvert_exporter": "python",
   "pygments_lexer": "ipython3",
   "version": "3.8.5"
  }
 },
 "nbformat": 4,
 "nbformat_minor": 2
}
