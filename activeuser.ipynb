{
 "cells": [
  {
   "cell_type": "markdown",
   "metadata": {},
   "source": [
    "Todo:\n",
    "* Chart of account age. Show how many newbies - done\n",
    "* Chart of account size -done\n",
    "* Hide compromised accounts - done"
   ]
  },
  {
   "cell_type": "code",
   "execution_count": 10,
   "metadata": {},
   "outputs": [],
   "source": [
    "# Build a list of active users suitable for a Hive post\n",
    "# Loads users from file users.txt. Lines starting with R are regions\n",
    "\n",
    "from datetime import datetime, timedelta, date\n",
    "from beem import Hive\n",
    "from beem.account import Account\n",
    "from beem.amount import Amount\n",
    "from beem.comment import Comment\n",
    "from beem.exceptions import ContentDoesNotExistsException\n",
    "from beem.instance import set_shared_blockchain_instance\n",
    "import matplotlib.pyplot as plt"
   ]
  },
  {
   "cell_type": "code",
   "execution_count": 11,
   "metadata": {},
   "outputs": [],
   "source": [
    "hive = Hive()\n",
    "set_shared_blockchain_instance(hive)\n",
    "stop = datetime.utcnow() - timedelta(days=31) # Checks last month"
   ]
  },
  {
   "cell_type": "code",
   "execution_count": 12,
   "metadata": {},
   "outputs": [],
   "source": [
    "hacked = []\n",
    "with open('steemengineteam_group.txt','r') as f:\n",
    "    for l in f:\n",
    "        hacked.append(l.strip())"
   ]
  },
  {
   "cell_type": "code",
   "execution_count": 13,
   "metadata": {},
   "outputs": [],
   "source": [
    "def useractive(user):\n",
    "    # Work back looking for last post/comment or vote\n",
    "    acc = Account(user)#, blockchain_instance=hive)\n",
    "    voted = commented = False\n",
    "\n",
    "    for a in acc.history_reverse(stop=stop, only_ops=[\"vote\", \n",
    "                                                      \"comment\"]):\n",
    "        if a[\"type\"] == \"vote\":\n",
    "            voted = True\n",
    "        if a[\"author\"] == user:\n",
    "            if a[\"type\"] == \"comment\":\n",
    "                commented = True\n",
    "                break # Don't need to check if they voted as well\n",
    "            \n",
    "    return (voted, commented)"
   ]
  },
  {
   "cell_type": "code",
   "execution_count": 14,
   "metadata": {},
   "outputs": [],
   "source": [
    "def output_region(region, active, voting, inactive):\n",
    "    if region != None:\n",
    "        act, voter, inact = len(active), len(voting), len(inactive)\n",
    "        print(f'## {region} ({act}/{voter}/{inact})')\n",
    "        if act:\n",
    "            print('Posting: @'+ (', @'.join(sorted(active))))\n",
    "            print()\n",
    "        if voter:\n",
    "            print('Voting: @'+ (', @'.join(sorted(voting))))\n",
    "            print()\n",
    "        if inact:\n",
    "            print('Inactive: @'+ (', @'.join(sorted(inactive))))\n",
    "            print()"
   ]
  },
  {
   "cell_type": "code",
   "execution_count": 15,
   "metadata": {},
   "outputs": [
    {
     "name": "stdout",
     "output_type": "stream",
     "text": [
      "## London and the South East (74/33/53)\n",
      "Posting: @actuarialuk91 (Cambridge), @adetorrent (London), @andy4475 (Woking @andy-jahm), @atomcollector (@risingstargame @juxtamusic), @audiohive-me, @awah, @basilmarples (Norwich), @bellou61 (Brighton), @benthomaswwd (Northampton), @bettymorgan (London), @bleepcoin, @bullion-paradise (London), @cathgothard (London), @cezary-io, @chadayan (London), @chris-uk (Norwich), @cryptogee, @cryptosneeze, @dannyshine, @davehayes2 (Hayling Island), @davidthompson57, @dbofficial125 (Oxford), @devosdevosi (London), @djjamesblack (Brighton), @dolphinartuk (Essex), @donatello, @dubble (London), @edenmichelle, @elmerlin (London), @gillianpearce (Brighton), @greensmile, @imfarhad, @independentpress (London), @jaxsonmurph, @kaywoods, @kgakakillerg (@gmlrecordz @kggymlife), @kph (Ipswich), @lloyddavis (@steemcampuk @lloyd-social), @maneco64, @mightyrocklee (Bedfordshire), @ministickupboy (Brighton), @moemanmoesly, @molometer, @nakedverse, @namiks, @nathanmars, @nickyhavey, @nicolcron, @notaboutme, @petrahaller, @pvmihalache (Bedford), @qsett (Maidstone), @rapptv, @raymondspeaks, @rmsbodybuilding, @robbieallenart, @samsmith1971, @sazzler, @sergiomendes (@thesassysergio), @spectrumecons, @stav (Norfolk), @steevc (Bedfordshire @tenkminnows @swing47), @stickchumpion, @stickupboys (Brighton @stickupcurator), @stickupmusic (Brighton), @stickupofficial1 (Brighton), @tdctunes (London), @the-gorilla (Eastbourne), @todayslight, @trippymane, @ultravioletmag, @ura-soul (Norfolk or elsewhere), @winkandwoo, @zoltarian\n",
      "\n",
      "Voting: @biggmusic (Brighton), @blockchainyouth, @camerarules, @charitycurator, @d3p0, @dashfit, @digna, @dougdigital, @dunsky (London), @elad.network (London), @ezzy, @holisticmom, @icepee, @immarojas, @kabir88, @liverehab, @markangeltrueman, @matildamoment, @mattniblock, @nanzo-scoop, @pizzadalek, @pushpedal, @rafique, @redrica, @reviewed, @slayerkm, @stimp1024, @talesfrmthecrypt, @thestatuethieves (London), @touringhousewife, @tricki, @wilfredn, @xxxxxxxxxxxxxxxx\n",
      "\n",
      "Inactive: @abeilleblooms (Southend), @adamaslam, @advdotmoney (London), @apexbuild (Uxbridge), @artelmedia (West London), @artzo, @bewithbreath, @blackrussian, @boogieboa, @breadcentric (Bedfordshire), @carwashlondon, @daine-cherry, @danshawmusic (London), @darkstardust (London @ladystardust), @dougalporteous, @dronegraphica, @endaksi1 (Cambridge), @fleur (Cambridge), @frankiic3, @garrickalder (London), @greatvideos, @grooverman (Brighton), @hockney, @jameshsmitharts, @jedb, @kezyma, @knelstrom, @knit-stich-witch (London), @mamalanuk (Brixton), @minteh, @profitmachine (Istanbul and London), @queenoftheworld, @rawveganista, @rea, @reshyk, @rightbuildgroup (London), @rosa33, @safetony (London), @sagardyola (London), @shutterepair (London), @silvergoldhunter (London), @stealthywolfxli, @steemlondon, @stormkeepergu (@stormkeepersmdk), @susanlo, @teodora, @the-busy-bee, @thecryptidcrone, @thecryptorat (Bournemouth), @thedawness, @timspawls, @watt.the.watt, @writerjordan\n",
      "\n",
      "## The Midlands (18/9/22)\n",
      "Posting: @abh12345, @article61, @bettynoir, @codelikeamother, @dannewton (@earthsea), @dickturpin, @ellenripley, @fastchrisuk, @leighscotford, @neilru75, @neopch, @rimicane, @rthelly, @shanibeer (@susie-saver Leicester), @shmoogleosukami (@shmoogleosu.list), @susie-saver, @vanbliss (Northamptonshire), @zeeshannaqvi72\n",
      "\n",
      "Voting: @beautifulbullies, @dawnsart, @fishlucy (Stoke On Trent), @kryptoe, @michelle.gent (Sherwood Forest), @skaarl, @tamiapt6, @the3metrewrap, @unkidrik\n",
      "\n",
      "Inactive: @audreyvr, @awakingelements, @batchgaming (Nuneaton), @brianbrogan1960, @colusj (Nottingham), @decentered-media, @ebabb, @fizogphotography, @flashpointstudio, @galacey (Birmingham), @gribbles, @jaytaylor, @jin-out (Birmingham), @martaesperanza, @maxrwolfe, @opheliafu, @paulofnottingham, @purplephoto, @s0u1 (Nottinghamshire), @stormriderstudio, @wildonewon, @xwidep\n",
      "\n",
      "## The South West (22/4/5)\n",
      "Posting: @awhofficial (New Forest), @blade7 (Cornwall), @davidlionfish (Bristol), @dedarknes (Plymouth), @diveratt, @dontcare89 (Newquay), @francesleader, @grizzle, @groovy828 (Cornwall), @jonboka, @lacelight (Dorset), @livinguktaiwan, @mudcat36, @nockzonk, @perceptualflaws, @pompeylad (South Coast), @sharpshot, @snider (Taunton), @sunsethunter, @ukbitcoinmaster, @whickey (Bristol), @wolven-znz\n",
      "\n",
      "Voting: @eveningart, @jimbobbill, @killerkev (Bristol), @thomaskatan\n",
      "\n",
      "Inactive: @adaptnetwork, @cryptokingzno1, @newtonclassics, @phoenixftwinter, @stickycj\n",
      "\n",
      "## The North (28/15/18)\n",
      "Posting: @ambrosechappel (Southport), @ashtv (Yorkshire), @c0ff33a (Yorkshire @whiterosecoffee @teamuksupport), @chisdealhd (Newcastle Upon Tyne @alloyxuast), @dadspardan, @darrenflinders, @demotruk (Isle of Man), @goblinknackers, @iamdarrenclaxton (Derbyshire @darrenclaxton @mrbloom), @iamdarrenclaxton (Derbyshire), @jphamer1, @jskitty, @karenb54, @kiers (Manchester), @leetodd, @let123, @mattbrown.art (Isle of Man), @pcste, @planetauto, @raj808 (Liverpool), @sam1965uk, @sisygoboom, @slobberchops, @socialmediaseo, @stevenwood, @teamhumble, @thesoulharmonic (Manchester), @yunnie (Isle of Man)\n",
      "\n",
      "Voting: @anarcotech (Huddersfield), @artonmysleeve, @bingbabe, @cryptocurator, @digitaldan, @dismayedworld, @dizzydiscovery, @lastravage, @m-ssed-t, @makrotheblack (Liverpool), @mckeever, @radicalpears (Huddersfield), @richgaynor, @someguy123, @steddyman\n",
      "\n",
      "Inactive: @adamfryda-art, @amos1969, @amy-explores, @anidiotexplores, @emergingtech (Manchester), @erdeniz (Manchester), @father2b, @gentmartin (Leeds), @honeyrabbit, @introvert-dime, @jackshootsstuff (West Yorkshire), @jacpl, @madmaxx12 (Manchester), @magenta24, @sarennadiu (Manchester), @schminimal, @streetwize (Bradford), @vraba\n",
      "\n",
      "## Scotland (11/11/9)\n",
      "Posting: @barge (@krunkypuram), @beardoin, @cadawg, @camuel (@acousticguitar), @celticheartbeat (@jubei333), @cottonlazarus (Edinburgh), @joshuaslane, @kevmcc, @meesterboom (@b00m), @rafalforeigner, @tengolotodo\n",
      "\n",
      "Voting: @agrestic, @btcvenom, @fiftysixnorth, @gguy773, @graemesaxton, @howiemac, @myskye, @natubat, @stef1 (@art-venture), @stevencurrie (Ayr), @wisbeech\n",
      "\n",
      "Inactive: @antonchanning (Loch Ness), @danaidhbee, @epicdave, @highlandwalker, @huitemae, @imaginingfreedom, @indusrush, @injuryclaims, @juniorifoj (Glasgow)\n",
      "\n",
      "## Wales (11/3/5)\n",
      "Posting: @alishas, @cassi, @cryptocariad, @grindle, @louisthomas, @nozzy, @paulireland (North Wales), @pumpkinsandcats, @stevelivingston, @theturtleproject, @welshstacker\n",
      "\n",
      "Voting: @gazbaz4000, @pennsif (@steemclub-uk), @stevejhuggett\n",
      "\n",
      "Inactive: @artystuff, @elizabethharvey, @magnus19, @p-props, @trolleydave\n",
      "\n",
      "## Northern Ireland (2/1/0)\n",
      "Posting: @ninasophia, @silverstackeruk\n",
      "\n",
      "Voting: @besold\n",
      "\n",
      "## Somewhere in the UK... (46/38/48)\n",
      "Posting: @amadea, @amidlifecrypto, @b1tm31st3r, @brianhphotos, @british-bulldog, @candy49, @cannabbee, @cdrbushmills, @cryptosneeze, @ddsexyauto, @djm90, @evo69, @fadetoblack, @fatasfunk, @forbritain, @heruvim1978, @hive.curation, @hoosie, @iansart, @intrade, @jmehta, @lefty619, @loolooasuna, @lordavatarii, @marketingmonk, @mikeylorenzo, @millycf1976, @monivis, @monsterjamgold, @mr-dingleberry, @music-beatcz, @nockzonk, @phonetix, @platinum-blue, @remystar93, @rmcaesthetics (England), @sbenbow, @scubahead, @thencsshifters, @tommyrobinson, @trading-tokens (England), @ukprepper, @utopia-hope (England), @vtravels, @webdeals, @zedcell\n",
      "\n",
      "Voting: @alheath, @alienbutt, @anarchojeweler, @andrewharland, @blue.panda, @bobskibob, @britcoins (England and SE Asia), @brothershield, @cynicalcake, @damianjayclay, @djsl82, @dnpq, @elliotjgardner, @english-ant, @eternalsuccess, @feralblowfish, @filbell, @frugal-fun, @goldstreet, @haitch, @hopehuggs, @imbartley, @johngreenfield, @localgrower, @luppers, @neu75 (England), @owenwat, @pjau, @quickthen, @realjohnaziz, @scalextrix, @steemboat-steve, @stevieboyes, @tazbaz, @tggr.trb, @tkolpaczek, @tobias-g, @tomatom\n",
      "\n",
      "Inactive: @adhudson, @albionrobot (England), @arrasails1977, @audrein (England), @autocoincars, @basejumper, @beachgamestv, @biscuitbarrel (England), @bloodycritique, @bobbylee, @bokarecords, @brauner-benz, @catanddogtips, @clivemartin, @crucialweb, @cryptovios, @davewuk, @drvimto, @earnxtreme, @fallfromdisgrace, @gmuxx, @hftdigital, @hilarywhitehead, @hkb28, @impshum, @jimjam1210, @marcusbraeburn, @mrsatoshiii, @neonempire (@wizardzmusic), @niko3d, @offthecuff2020, @peedeerai, @pellx, @premiumdomains, @quirk-it, @redarrow, @ryanscottesq, @sandrolinux, @seanspeaks, @shando73, @smileformovie, @spicetrader, @the-nature-plug, @tremendospercy, @ukheather, @v3ptur, @vibeof100monkeys, @videosubmission\n",
      "\n"
     ]
    },
    {
     "name": "stdout",
     "output_type": "stream",
     "text": [
      "## Expats (23/4/9)\n",
      "Posting: @abdex9, @accelerator (@rycharde Thailand), @adambarratt (@abtv Spain), @cristina-zac (Spain), @cryptoandcoffee (South Africa), @eco-alex (Planet Earth), @elricmoonslayer (Spain), @felt.buzz (France), @hirohurl (Japan), @jackglory (USA), @lucylin (Thailand), @mangomayhem (Philippines), @minismallholding (Australia), @nathen007 (@leedsunited Thailand), @revisesociology (Portugal), @ripebanana (Trinidad and Tobago), @samstonehill (France), @sebcam (USA), @shepz1 (Poland), @starkerz (Cyberspace), @stbangkok (Thailand), @trucklife-family (The Earth), @wispsi (Vietnam)\n",
      "\n",
      "Voting: @eftnow (Spain), @justinchicken (Japan), @mattsbeamer (Russia), @tggr (Singapore)\n",
      "\n",
      "Inactive: @beckymeep (USA), @biggypauls (Philippines), @dansensei (Japan), @jeffandhisguitar (SE Asia), @l0tti3 (South Africa), @livelovejourney (Majorca), @milliganstravels (Thailand), @moonyoga (Portugal), @thinkit (Thailand)\n",
      "\n",
      "## Totals\n",
      "**Total active** UK: 212, Expats: 23\n",
      "\n",
      "# Charts\n",
      "This shows the numbers in each category of the active and voting accounts. Level is based on 'VESTS'. Minnow equates to about 535HP and each level is 10x the previous.\n",
      "\n",
      "This shows when people joined Hive. The last few months are shown separately to make any changes obvious.\n",
      "    \n",
      "# UK Witnesses\n",
      "Please support your local witnesses.\n",
      "@someguy123, @ura-soul, @cadawg, @whiterosecoffee, @c0ff33a, @shmoogleosukami, @chisdealhd\n"
     ]
    }
   ],
   "source": [
    "with open('users.txt', 'r') as f:\n",
    "    active = []\n",
    "    inactive = []\n",
    "    voting =[]\n",
    "    region = None\n",
    "    now = datetime.utcnow() \n",
    "    total_active = 0\n",
    "    fish = {'redfish': 0, 'minnow':0, 'dolphin':0, 'orca':0, 'whale':0}\n",
    "    age = {'month':0, '2month':0, '3month':0, 'year':0, 'older':0}\n",
    "    for l in f:\n",
    "        fields = l.split(',')\n",
    "        if fields[0] == 'R':\n",
    "            output_region(region, active, voting, inactive)\n",
    "            total_active += len(active) # Will not count the last region, but exclude expats from total anyway\n",
    "            region = fields[1].strip()\n",
    "            active, voting, inactive = [], [], []\n",
    "        else:\n",
    "            name = dname = fields[0].strip()\n",
    "            if '(' in name:\n",
    "                dname = name\n",
    "                name = name[:(name.find('(')-1)]\n",
    "            if not name in hacked:\n",
    "                voter, commenter = useractive(name)\n",
    "                if commenter:\n",
    "                    active.append(dname)\n",
    "                elif voter:\n",
    "                    voting.append(dname)\n",
    "                else: # Inactive\n",
    "                    inactive.append(dname)\n",
    "                if commenter or voter:\n",
    "                    acc = Account(name)\n",
    "                    hp = acc.balances['available'][2].amount_decimal\n",
    "                    if hp > 1E9:\n",
    "                        fish['whale'] += 1\n",
    "                    elif hp > 1E8:\n",
    "                        fish['orca'] += 1\n",
    "                    elif hp > 1E7:\n",
    "                        fish['dolphin'] += 1\n",
    "                    elif hp > 1E6:\n",
    "                        fish['minnow'] += 1\n",
    "                    else:\n",
    "                        fish['redfish'] += 1\n",
    "\n",
    "                    for i in acc.get_account_history(0,1):\n",
    "                        created = cr = datetime.strptime(i['timestamp'], '%Y-%m-%dT%H:%M:%S')\n",
    "                    accage = (now - created).days\n",
    "                    if accage > 365:\n",
    "                        age['older'] += 1\n",
    "                    elif accage > 90:\n",
    "                        age['year'] += 1\n",
    "                    elif accage > 60:\n",
    "                        age['3month'] += 1\n",
    "                    elif accage > 30:\n",
    "                        age['2month'] += 1\n",
    "                    else:\n",
    "                        age['month'] += 1\n",
    "\n",
    "    output_region(region, active, voting, inactive)\n",
    "    print('## Totals')\n",
    "    print(f'**Total active** UK: {total_active}, Expats: {len(active)}')\n",
    "    \n",
    "    print('''\n",
    "# Charts\n",
    "This shows the numbers in each category of the active and voting accounts. Level is based on 'VESTS'. Minnow equates to about 535HP and each level is 10x the previous.\n",
    "\n",
    "This shows when people joined Hive. The last few months are shown separately to make any changes obvious.\n",
    "    \n",
    "# UK Witnesses\n",
    "Please support your local witnesses.\n",
    "@someguy123, @ura-soul, @cadawg, @whiterosecoffee, @c0ff33a, @shmoogleosukami, @chisdealhd''')\n"
   ]
  },
  {
   "cell_type": "code",
   "execution_count": 18,
   "metadata": {},
   "outputs": [
    {
     "name": "stdout",
     "output_type": "stream",
     "text": [
      "{'redfish': 192, 'minnow': 111, 'dolphin': 36, 'orca': 14, 'whale': 0}\n"
     ]
    },
    {
     "data": {
      "image/png": "[encoded data removed]",
      "text/plain": [
       "<Figure size 576x432 with 1 Axes>"
      ]
     },
     "metadata": {
      "needs_background": "light"
     },
     "output_type": "display_data"
    }
   ],
   "source": [
    "print(fish)\n",
    "fig, ax = plt.subplots()\n",
    "fig.set_size_inches(8,6)\n",
    "plt.bar(fish.keys(), fish.values(), color=['red','green','blue','black','gray']);\n",
    "plt.title('Account Levels')\n",
    "ax.grid()"
   ]
  },
  {
   "cell_type": "code",
   "execution_count": 19,
   "metadata": {},
   "outputs": [
    {
     "name": "stdout",
     "output_type": "stream",
     "text": [
      "{'month': 5, '2month': 6, '3month': 12, 'year': 58, 'older': 272}\n"
     ]
    },
    {
     "data": {
      "image/png": "[encoded data removed]",
      "text/plain": [
       "<Figure size 576x432 with 1 Axes>"
      ]
     },
     "metadata": {
      "needs_background": "light"
     },
     "output_type": "display_data"
    }
   ],
   "source": [
    "print(age)\n",
    "fig, ax = plt.subplots()\n",
    "fig.set_size_inches(8,6)\n",
    "plt.bar(age.keys(), age.values(), color=['red', 'orange', 'green','blue','brown']);\n",
    "plt.title('Account Ages')\n",
    "ax.grid()"
   ]
  },
  {
   "cell_type": "code",
   "execution_count": null,
   "metadata": {},
   "outputs": [],
   "source": []
  }
 ],
 "metadata": {
  "kernelspec": {
   "display_name": "Python 3",
   "language": "python",
   "name": "python3"
  },
  "language_info": {
   "codemirror_mode": {
    "name": "ipython",
    "version": 3
   },
   "file_extension": ".py",
   "mimetype": "text/x-python",
   "name": "python",
   "nbconvert_exporter": "python",
   "pygments_lexer": "ipython3",
   "version": "3.8.5"
  }
 },
 "nbformat": 4,
 "nbformat_minor": 2
}
