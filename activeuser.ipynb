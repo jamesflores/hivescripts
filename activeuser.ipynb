{
 "cells": [
  {
   "cell_type": "code",
   "execution_count": 1,
   "metadata": {},
   "outputs": [],
   "source": [
    "# Build a list of active users suitable for a Hive post\n",
    "# Loads users from file users.txt. Lines starting with R are region and U are users\n",
    "\n",
    "from datetime import datetime, timedelta, date\n",
    "from beem import Hive\n",
    "from beem.account import Account\n",
    "from beem.amount import Amount\n",
    "from beem.comment import Comment\n",
    "from beem.exceptions import ContentDoesNotExistsException\n",
    "from beem.instance import set_shared_blockchain_instance"
   ]
  },
  {
   "cell_type": "code",
   "execution_count": 2,
   "metadata": {},
   "outputs": [],
   "source": [
    "hive = Hive()\n",
    "set_shared_blockchain_instance(hive)\n",
    "stop = datetime.utcnow() - timedelta(days=31) # Checks last month"
   ]
  },
  {
   "cell_type": "code",
   "execution_count": 3,
   "metadata": {},
   "outputs": [],
   "source": [
    "def useractive(user):\n",
    "    # Work back looking for last post/comment or vote\n",
    "    acc = Account(user)#, blockchain_instance=hive)\n",
    "    voted = commented = False\n",
    "\n",
    "    for a in acc.history_reverse(stop=stop, only_ops=[\"vote\", \n",
    "                                                      \"comment\"]):\n",
    "        if a[\"type\"] == \"vote\":\n",
    "            voted = True\n",
    "        if a[\"author\"] == user:\n",
    "            if a[\"type\"] == \"comment\":\n",
    "                commented = True\n",
    "                break # Don't need to check if they voted as well\n",
    "            \n",
    "    return (voted, commented)"
   ]
  },
  {
   "cell_type": "code",
   "execution_count": 4,
   "metadata": {},
   "outputs": [],
   "source": [
    "def output_region(region, active, voting, inactive):\n",
    "    if region != None:\n",
    "        act, voter, inact = len(active), len(voting), len(inactive)\n",
    "        print(f'# {region} ({act}/{voter}/{inact})')\n",
    "        if act:\n",
    "            print('@'+ (', @'.join(sorted(active))))\n",
    "            print()\n",
    "        if voter:\n",
    "            print('Voting: @'+ (', @'.join(sorted(voting))))\n",
    "            print()\n",
    "        if inact:\n",
    "            print('Inactive: @'+ (', @'.join(sorted(inactive))))\n",
    "            print()"
   ]
  },
  {
   "cell_type": "code",
   "execution_count": 5,
   "metadata": {},
   "outputs": [
    {
     "name": "stdout",
     "output_type": "stream",
     "text": [
      "# London & the South East (42/25/11)\n",
      "@adetorrent, @andy4475, @artzo, @atomcollector (@risingstargame), @awah, @basilmarples, @blockchainyouth, @cezary-io, @chris-uk, @cryptogee, @dannyshine, @davidthompson57, @donatello, @fleur, @gillianpearce, @greatvideos, @imfarhad, @immarojas, @jedb, @kgakakillerg, @lloyddavis (@steemcampuk), @maneco64, @molometer, @nathanmars, @nickyhavey, @nicolcron, @notaboutme, @petrahaller, @raymondspeaks, @rmsbodybuilding, @robbieallenart, @sergiomendes, @spectrumecons, @stav, @steevc (@tenkminnows @swing47), @stickchumpion, @stickupboys, @stormkeepergu (@stormkeepersmdk), @teodora, @the-busy-bee, @ultravioletmag, @xxxxxxxxxxxxxxxx\n",
      "\n",
      "Voting: @adamaslam, @bewithbreath, @bleepcoin, @charitycurator, @d3p0, @dashfit, @digna, @ezzy, @icepee, @kabir88, @kph, @liverehab, @markangeltrueman, @matildamoment, @mattniblock, @nakedverse, @nanzo-scoop, @pushpedal, @rafique, @redrica, @stimp1024, @tricki, @wilfredn, @winkandwoo, @zoltarian\n",
      "\n",
      "Inactive: @blackrussian, @breadcentric, @dougalporteous, @dronegraphica, @hockney, @jameshsmitharts, @rosa33, @stealthywolfxli, @steemlondon, @susanlo, @todayslight\n",
      "\n",
      "# The Midlands (13/6/15)\n",
      "@abh12345, @article61, @beautifulbullies, @dannewton (@earthsea), @dickturpin, @ellenripley, @fastchrisuk, @gribbles, @neopch, @rimicane, @rthelly, @shanibeer, @shmoogleosukami\n",
      "\n",
      "Voting: @bettynoir, @dawnsart, @kryptoe, @leighscotford, @skaarl, @ura-soul\n",
      "\n",
      "Inactive: @audreyvr, @brianbrogan1960, @codelikeamother, @decentered-media, @ebabb, @fizogphotography, @flashpointstudio, @jaytaylor, @martaesperanza, @neilru75, @opheliafu, @paulofnottingham, @purplephoto, @stormriderstudio, @wildonewon\n",
      "\n",
      "# The South West (12/3/0)\n",
      "@adambarratt, @davidlionfish, @diveratt, @francesleader, @jonboka, @livinguktaiwan, @mudcat36, @perceptualflaws, @sharpshot, @sunsethunter, @thomaskatan, @ukbitcoinmaster\n",
      "\n",
      "Voting: @eveningart, @jimbobbill, @wolven-znz\n",
      "\n",
      "# The North (18/10/2)\n",
      "@adamfryda-art, @ashtv, @c0ff33a (@whiterosecoffee), @cryptocurator, @darrenclaxton, @darrenflinders, @jphamer1, @lastravage, @leetodd, @let123, @mckeever, @planetauto, @raj808, @richgaynor, @sisygoboom, @slobberchops, @stevenwood, @teamhumble\n",
      "\n",
      "Voting: @artonmysleeve, @bingbabe, @digitaldan, @dizzydiscovery, @goblinknackers, @jskitty, @makrotheblack, @pcste, @someguy123, @vraba\n",
      "\n",
      "Inactive: @dismayedworld, @father2b\n",
      "\n",
      "# Scotland (11/6/2)\n",
      "@barge, @cadawg, @camuel, @celticheartbeat (@jubei333), @cottonlazarus, @epicdave, @huitemae, @joshuaslane, @kevmcc, @meesterboom, @rafalforeigner\n",
      "\n",
      "Voting: @btcvenom, @fiftysixnorth, @indusrush, @myskye, @natubat, @wisbeech\n",
      "\n",
      "Inactive: @danaidhbee, @highlandwalker\n",
      "\n",
      "# Wales (7/5/1)\n",
      "@artystuff, @grindle, @louisthomas, @pennsif (@steemclub-uk), @pumpkinsandcats, @stevelivingston, @welshstacker\n",
      "\n",
      "Voting: @elizabethharvey, @gazbaz4000, @p-props, @stevejhuggett, @theturtleproject\n",
      "\n",
      "Inactive: @trolleydave\n",
      "\n",
      "# Northern Ireland (1/0/0)\n",
      "@silverstackeruk\n",
      "\n",
      "# Somewhere in the UK... (17/30/5)\n",
      "@amy-explores, @bobskibob, @chisdealhd, @cryptosneeze, @demotruk, @drvimto, @fadetoblack, @forbritain, @goldstreet, @hilarywhitehead, @iansart, @karenb54, @shepz1, @the-nature-plug, @tommyrobinson, @tremendospercy, @vtravels\n",
      "\n",
      "Voting: @adhudson, @anarchojeweler, @andrewharland, @brianhphotos, @cynicalcake, @damianjayclay, @djsl82, @dnpq, @earnxtreme, @english-ant, @eternalsuccess, @frugal-fun, @gmuxx, @grizzle, @hopehuggs, @imbartley, @lefty619, @luppers, @niko3d, @owenwat, @phonetix, @pjau, @realjohnaziz, @socialmediaseo, @steddyman, @steemboat-steve, @stevieboyes, @tazbaz, @tkolpaczek, @tobias-g\n",
      "\n",
      "Inactive: @bobbylee, @knelstrom, @marketingmonk, @quirk-it, @vibeof100monkeys\n",
      "\n",
      "# Expats (18/1/2)\n",
      "@accelerator (@rycharde Thailand), @cryptoandcoffee (South Africa), @eco-alex (Planet Earth), @jeffandhisguitar (SE Asia), @lucylin, @mattsbeamer (Russia?), @millycf1976 (Philippines), @minismallholding (Australia), @moonyoga (Portugal), @nathen007 (Thailand), @revisesociology (Portugal), @samstonehill (France), @scubahead (Philippines), @sebcam (USA), @starkerz (Cyberspace?), @tggr (Singapore), @thinkit (Thailand), @trucklife-family (The Earth)\n",
      "\n",
      "Voting: @eftnow (Spain)\n",
      "\n",
      "Inactive: @biggypauls (Philippines), @ripebanana (Trinidad and Tobago)\n",
      "\n",
      "**Total active** UK: 121, Expats: 18\n"
     ]
    }
   ],
   "source": [
    "with open('users.txt', 'r') as f:\n",
    "    active = []\n",
    "    inactive = []\n",
    "    voting =[]\n",
    "    region = None\n",
    "    total_active = 0\n",
    "    for l in f:\n",
    "        #print(l)\n",
    "        fields = l.split(',')\n",
    "        if fields[0] == 'R':\n",
    "            output_region(region, active, voting, inactive)\n",
    "            total_active += len(active) # Will not count the last region, but exclude expats from total anyway\n",
    "            region = fields[1].strip()\n",
    "            active, voting, inactive = [], [], []\n",
    "        else:\n",
    "            name = dname = fields[0].strip()\n",
    "            if '(' in name:\n",
    "                dname = name\n",
    "                name = name[:(name.find('(')-1)]\n",
    "                \n",
    "            v, c = useractive(name)\n",
    "            if c:\n",
    "                active.append(dname)\n",
    "            elif v:\n",
    "                voting.append(dname)\n",
    "            else:\n",
    "                inactive.append(dname)\n",
    "    output_region(region, active, voting, inactive)\n",
    "    print(f'**Total active** UK: {total_active}, Expats: {len(active)}')"
   ]
  },
  {
   "cell_type": "code",
   "execution_count": null,
   "metadata": {},
   "outputs": [],
   "source": []
  }
 ],
 "metadata": {
  "kernelspec": {
   "display_name": "Python 3",
   "language": "python",
   "name": "python3"
  },
  "language_info": {
   "codemirror_mode": {
    "name": "ipython",
    "version": 3
   },
   "file_extension": ".py",
   "mimetype": "text/x-python",
   "name": "python",
   "nbconvert_exporter": "python",
   "pygments_lexer": "ipython3",
   "version": "3.8.5"
  }
 },
 "nbformat": 4,
 "nbformat_minor": 2
}
