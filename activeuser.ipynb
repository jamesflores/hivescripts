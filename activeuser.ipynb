{
 "cells": [
  {
   "cell_type": "markdown",
   "metadata": {},
   "source": [
    "Todo:\n",
    "* Chart of account age. Show how many newbies - done\n",
    "* Chart of account size -done\n",
    "* Hide compromised accounts - done"
   ]
  },
  {
   "cell_type": "code",
   "execution_count": 1,
   "metadata": {},
   "outputs": [],
   "source": [
    "# Build a list of active users suitable for a Hive post\n",
    "# Loads users from file users.txt. Lines starting with R are regions\n",
    "\n",
    "from datetime import datetime, timedelta, date\n",
    "from beem import Hive\n",
    "from beem.account import Account\n",
    "from beem.amount import Amount\n",
    "from beem.comment import Comment\n",
    "from beem.exceptions import ContentDoesNotExistsException\n",
    "from beem.instance import set_shared_blockchain_instance\n",
    "import matplotlib.pyplot as plt"
   ]
  },
  {
   "cell_type": "code",
   "execution_count": 2,
   "metadata": {},
   "outputs": [],
   "source": [
    "hive = Hive()\n",
    "set_shared_blockchain_instance(hive)\n",
    "stop = datetime.utcnow() - timedelta(days=31) # Checks last month"
   ]
  },
  {
   "cell_type": "code",
   "execution_count": 3,
   "metadata": {},
   "outputs": [],
   "source": [
    "hacked = []\n",
    "with open('steemengineteam_group.txt','r') as f:\n",
    "    for l in f:\n",
    "        hacked.append(l.strip())"
   ]
  },
  {
   "cell_type": "code",
   "execution_count": 4,
   "metadata": {},
   "outputs": [],
   "source": [
    "def useractive(user):\n",
    "    # Work back looking for last post/comment or vote\n",
    "    acc = Account(user)#, blockchain_instance=hive)\n",
    "    voted = commented = False\n",
    "\n",
    "    for a in acc.history_reverse(stop=stop, only_ops=[\"vote\", \n",
    "                                                      \"comment\"]):\n",
    "        if a[\"type\"] == \"vote\":\n",
    "            voted = True\n",
    "        if a[\"author\"] == user:\n",
    "            if a[\"type\"] == \"comment\":\n",
    "                commented = True\n",
    "                break # Don't need to check if they voted as well\n",
    "            \n",
    "    return (voted, commented)"
   ]
  },
  {
   "cell_type": "code",
   "execution_count": 5,
   "metadata": {},
   "outputs": [],
   "source": [
    "def output_region(region, active, voting, inactive):\n",
    "    if region != None:\n",
    "        act, voter, inact = len(active), len(voting), len(inactive)\n",
    "        print(f'## {region} ({act}/{voter}/{inact})')\n",
    "        if act:\n",
    "            print('Posting: @'+ (', @'.join(sorted(active))))\n",
    "            print()\n",
    "        if voter:\n",
    "            print('Voting: @'+ (', @'.join(sorted(voting))))\n",
    "            print()\n",
    "        if inact:\n",
    "            print('Inactive: @'+ (', @'.join(sorted(inactive))))\n",
    "            print()"
   ]
  },
  {
   "cell_type": "code",
   "execution_count": 6,
   "metadata": {},
   "outputs": [
    {
     "name": "stdout",
     "output_type": "stream",
     "text": [
      "## London and the South East (85/30/68)\n",
      "Posting: @adetorrent (London), @andy4475 (Woking @andy-jahm), @assassyn (Reading), @atomcollector (@risingstargame @juxtamusic), @audiohive-me, @awah, @basilmarples (Norwich), @benthomaswwd (Northampton), @biggmusic (Brighton), @blackrussian, @bleepcoin, @blockchainyouth, @bombaycrypto (London), @cathgothard (London), @cezary-io, @charliesmith11 (Hampshire), @chris-uk (Norwich), @chromauk (London), @cryptogee, @cryptosneeze, @daniellemurray (Herts @radioliquorice), @dannyshine, @davidthompson57, @dbofficial125 (Oxford), @devosdevosi (London), @djjamesblack (Brighton), @dolphinartuk (Essex), @donatello, @dubble (London), @dunsky (London), @edenmichelle, @elmerlin (London @liketu), @evilisme (London), @gillianpearce (Brighton), @greensmile, @has-k (London), @imfarhad, @independentpress (London), @infinite-loop (London), @jaxsonmurph, @kgakakillerg (London @gmlrecordz @kggymlife), @kph (Ipswich), @lloyddavis (@steemcampuk @lloyd-social), @looster120 (London), @lovelyscape (Hastings), @maneco64, @mightyrocklee (Bedfordshire), @ministickupboy (Brighton), @moemanmoesly, @molometer (@mopal Cambridgeshire/London), @nakedverse, @namiks, @nathanmars, @nicklewis (Farnborough), @nickyhavey, @petrahaller, @purplesinger (Bedfordshire), @pvmihalache (Bedford), @qsett (Maidstone), @queenoftheworld, @raymondspeaks, @rmsbodybuilding, @sally-notbright (Kent), @samsmith1971, @sergiomendes (@thesassysergio), @spectrumecons, @splurgee (London), @steevc (Bedfordshire @tenkminnows @swing47), @stickchumpion, @stickupboys (Brighton @stickupcurator), @stickupmusic (Brighton), @stickupofficial1 (Brighton), @talesfrmthecrypt, @tdctunes (London), @teodora, @thealbytross (East Anglia), @thedawness, @theessexfunko (Essex), @todayslight (Bedfordshire), @tonybad (London), @trippymane, @ura-soul (Norfolk or elsewhere), @winkandwoo, @wrobellek (Oxford), @zoltarian\n",
      "\n",
      "Voting: @actuarialuk91 (Cambridge), @anna-newkey (Bedfordshire), @bellou61 (Brighton), @bettymorgan (London), @d3p0, @daine-cherry, @dashfit, @digna, @ezzy, @holisticmom, @icepee, @immarojas, @liverehab, @markangeltrueman, @matildamoment, @mattniblock, @nanzo-scoop, @nicolcron, @notaboutme, @pizzadalek, @pushpedal, @rafique, @redrica, @reviewed, @slayerkm, @stimp1024, @the-gorilla (Eastbourne), @tricki, @ultravioletmag (London), @wilfredn\n",
      "\n",
      "Inactive: @abeilleblooms (Southend), @adamaslam, @advdotmoney (London), @apexbuild (Uxbridge), @artelmedia (West London), @artzo, @bewithbreath, @boogieboa, @breadcentric (Bedfordshire), @bullion-paradise (London), @camerarules, @carwashlondon, @chadayan (London), @charitycurator, @danshawmusic (London), @darkstardust (London @ladystardust), @davehayes2 (Hayling Island), @deverdeniz (London), @dougalporteous, @dougdigital, @dronegraphica, @elad.network (London), @endaksi1 (Cambridge), @eugewelker88 (London), @ewan-d (Suffolk), @fleur (Cambridge), @frankiic3, @garrickalder (London), @greatvideos, @grooverman (Brighton), @hockney, @jameshsmitharts, @jedb, @kabir88, @kaywoods, @kezyma, @knelstrom, @knit-stich-witch (London), @mamalanuk (Brixton), @minteh, @notears, @profitmachine (Istanbul and London), @rapptv, @rawveganista, @rea, @reshyk, @rightbuildgroup (London), @robbieallenart, @rosa33, @safetony (London), @sagardyola (London), @sazzler, @shutterepair (London), @silvergoldhunter (London), @stav (Norfolk), @stealthywolfxli, @steemlondon, @stormkeepergu (East London @stormkeepersmdk), @susanlo, @the-busy-bee, @thecryptidcrone, @thecryptorat (Bournemouth), @thestatuethieves (London), @timspawls, @touringhousewife, @watt.the.watt, @writerjordan, @xxxxxxxxxxxxxxxx\n",
      "\n",
      "## The Midlands (20/9/28)\n",
      "Posting: @abh12345, @article61, @beautifulbullies (Nottingham), @dannewton (@earthsea), @dickturpin, @ellenripley, @fastchrisuk (Nottinghamshire), @grottbags (Northamptonshire), @jaytaylor, @jin-out (Birmingham), @neilru75, @neopch, @renaessanceman, @rimicane, @rthelly, @shanibeer (@susie-saver Leicester), @shimbodoesart (Northampton), @shmoogleosukami (@shmoogleosu.list), @vanbliss (Northamptonshire), @zeeshannaqvi72\n",
      "\n",
      "Voting: @awakingelements, @kryptoe, @leighscotford, @martynjay (Northamptonshire), @michelle.gent (Sherwood Forest), @skaarl, @susie-saver, @tamiapt6, @unkidrik\n",
      "\n",
      "Inactive: @agrostis (Leicester), @audreyvr, @batchgaming (Nuneaton), @bettynoir, @brianbrogan1960, @codelikeamother, @colusj (Nottingham), @dawnsart, @decentered-media, @ebabb, @fishlucy (Stoke On Trent), @fizogphotography, @flashpointstudio, @galacey (Birmingham), @gribbles, @jtheophilusart (Birmingham), @martaesperanza, @maxrwolfe, @mrsmuco (Birmingham), @opheliafu, @paulofnottingham, @planet.muco (Birmingham), @purplephoto, @s0u1 (Nottinghamshire), @stormriderstudio, @the3metrewrap, @wildonewon, @xwidep\n",
      "\n",
      "## The South West (25/6/6)\n",
      "Posting: @awhofficial (New Forest), @ciprofloxacin (Dorset), @colzsmith (Devon), @cubapl (Bristol), @davidlionfish (Bristol), @dedarknes (Plymouth), @diveratt, @dontcare89 (Newquay), @fattathelan, @francesleader (Dorset), @grizzle, @groovy828 (Cornwall), @jakeart1 (Christchurch), @jonboka, @lacelight (Dorset), @livinguktaiwan (@lut-studio), @mudcat36, @newtonclassics, @perceptualflaws, @pompeylad (South Coast), @sharpshot, @smithykins (North Devon), @sunsethunter, @ukbitcoinmaster, @whickey (Bristol)\n",
      "\n",
      "Voting: @blade7 (Cornwall), @eveningart, @jimbobbill, @nockzonk, @thomaskatan, @wolven-znz\n",
      "\n",
      "Inactive: @adaptnetwork, @cryptokingzno1, @killerkev (Bristol), @phoenixftwinter, @snider (Taunton), @stickycj\n",
      "\n",
      "## The North (29/14/22)\n",
      "Posting: @ambrosechappel (Southport), @ashtv (Yorkshire), @bingbabe, @c0ff33a (Yorkshire @whiterosecoffee @teamuksupport), @chisdealhd (Newcastle Upon Tyne @alloyxuast @alloyradio), @dadspardan, @darrenflinders, @demotruk (Isle of Man), @goblinknackers, @honeyrabbit, @iamdarrenclaxton (Derbyshire @darrenclaxton @mrbloom), @iamdarrenclaxton (Derbyshire), @jphamer1, @karenb54, @kiers (Manchester), @leetodd, @let123, @only1al, @pcste, @planetauto, @raj808 (Liverpool), @richgaynor, @sam1965uk, @slobberchops, @socialmediaseo, @stevenwood, @teamhumble, @thesellotapekid (West Yorkshire), @vibeof100monkeys (Lancashire)\n",
      "\n",
      "Voting: @anarcotech (Huddersfield), @artonmysleeve, @cryptocurator, @digitaldan, @dismayedworld, @dizzydiscovery, @jskitty, @lastravage, @makrotheblack (Liverpool), @mattbrown.art (Isle of Man), @someguy123, @steddyman, @vraba, @yunnie (Isle of Man)\n",
      "\n",
      "Inactive: @adamfryda-art, @amos1969, @amy-explores, @anidiotexplores, @emergingtech (Manchester), @erdeniz (Manchester), @father2b, @gentmartin (Leeds), @introvert-dime, @jackshootsstuff (West Yorkshire), @jacpl, @letothehobbit (West Yorkshire), @m-ssed-t, @madmaxx12 (Manchester), @magenta24, @mckeever, @radicalpears (Huddersfield), @sarennadiu (Manchester), @schminimal, @sisygoboom, @streetwize (Bradford), @thesoulharmonic (Manchester)\n",
      "\n",
      "## Scotland (10/9/13)\n",
      "Posting: @barge (@krunkypuram), @beardoin, @cadawg, @camuel (@acousticguitar), @celticheartbeat (@jubei333), @joshuaslane, @kevmcc, @meesterboom (@b00m), @stef1 (@art-venture), @tengolotodo\n",
      "\n",
      "Voting: @agrestic, @btcvenom, @cottonlazarus (Edinburgh), @fiftysixnorth, @howiemac, @myskye, @natubat, @rafalforeigner, @wisbeech\n",
      "\n",
      "Inactive: @antonchanning (Loch Ness), @danaidhbee, @epicdave, @gguy773, @graemesaxton, @highlandwalker, @huitemae, @imaginingfreedom, @indusrush, @injuryclaims, @juniorifoj (Glasgow), @stevencurrie (Ayr), @tduffy (Glasgow)\n",
      "\n",
      "## Wales (7/5/8)\n",
      "Posting: @cassi, @grindle, @louisthomas, @ora-et-labora, @stevelivingston, @theturtleproject, @welshstacker\n",
      "\n",
      "Voting: @elizabethharvey, @gazbaz4000, @nozzy, @p-props, @pumpkinsandcats\n",
      "\n",
      "Inactive: @alishas, @artystuff, @cryptocariad, @magnus19, @paulireland (North Wales), @pennsif (@steemclub-uk), @stevejhuggett, @trolleydave\n",
      "\n",
      "## Northern Ireland (3/0/0)\n",
      "Posting: @besold, @ninasophia, @silverstackeruk\n",
      "\n",
      "## Somewhere in the UK... (42/38/70)\n",
      "Posting: @alzee, @amadea, @amidlifecrypto, @britbrit2020, @british-bulldog, @brucegryllis, @candy49, @cannabbee, @charliesmith11, @cryptosneeze, @ddsexyauto, @fadetoblack, @forbritain, @godchildren (England), @heruvim1978, @hoosie, @jmehta, @lordavatarii, @marketingmonk, @mikeylorenzo, @millycf1976, @monivis, @monsterjamgold, @music-beatcz, @pandatome, @platinum-blue, @powis, @quickthen, @remystar93, @sandrolinux, @sbenbow, @scubahead, @snakelicker, @sparkyontherum, @stickupfilm, @tommyrobinson, @trading-tokens (England), @treatland, @utopia-hope (England), @vtravels, @webdeals, @zedcell\n",
      "\n",
      "Voting: @alheath, @anarchojeweler, @blue.panda, @bobskibob, @brianhphotos, @britcoins (England and SE Asia), @brothershield, @cynicalcake, @damianjayclay, @djsl82, @dnpq, @english-ant, @eternalsuccess, @feralblowfish, @frugal-fun, @goldstreet, @haitch, @hive.curation, @hopehuggs, @iansart, @imbartley, @johngreenfield, @lefty619, @magnauseum, @maxideea, @nockzonk, @owenwat, @quirk-it, @realjohnaziz, @rmcaesthetics (England), @ryanscottesq, @stevieboyes, @tazbaz, @tggr.trb, @tkolpaczek, @tobias-g, @tomatom, @tothebatpoles\n",
      "\n",
      "Inactive: @adhudson, @albionrobot (England), @alienbutt, @andrewharland, @arrasails1977, @audrein (England), @autocoincars, @b1tm31st3r, @basejumper, @beachgamestv, @bigjammin (England), @biscuitbarrel (England), @bloodycritique, @bobbylee, @bokarecords, @brauner-benz, @catanddogtips, @cdrbushmills, @clivemartin, @cosci, @crucialweb, @cryptovios, @davewuk, @digitized89, @djm90, @drvimto, @earnxtreme, @elliotjgardner, @evo69, @fallfromdisgrace, @fatasfunk, @filbell, @gmuxx, @hftdigital, @hilarywhitehead, @hkb28, @impshum, @intrade, @jimjam1210, @localgrower, @loolooasuna, @luppers, @marcusbraeburn, @mr-dingleberry, @mrsatoshiii, @neonempire (@wizardzmusic), @neu75 (England), @niko3d, @offthecuff2020, @peedeerai, @pellx, @phonetix, @pjau, @premiumdomains, @redarrow, @scalextrix, @seanspeaks, @shando73, @smileformovie, @spicetrader, @steemboat-steve, @stickupdev, @stickuplove, @the-nature-plug, @thencsshifters, @tremendospercy, @ukheather, @ukprepper, @v3ptur, @videosubmission\n",
      "\n"
     ]
    },
    {
     "name": "stdout",
     "output_type": "stream",
     "text": [
      "## Expats (26/2/10)\n",
      "Posting: @abdex9, @accelerator (@rycharde Thailand), @adambarratt (@abtv Spain), @chewsk1 (Gibraltar), @cristina-zac (Spain), @cryptoandcoffee (South Africa), @dansensei (Japan), @eco-alex (Planet Earth), @eftnow (Spain), @elricmoonslayer (Spain), @felt.buzz (France), @hirohurl (Japan), @jackglory (USA), @jeffandhisguitar (SE Asia), @mangomayhem (Philippines), @minismallholding (Australia), @nathen007 (@leedsunited Thailand), @revisesociology (Portugal), @roconnor (France), @samstonehill (France), @sebcam (USA), @shepz1 (Poland), @stbangkok (Thailand), @tggr (Singapore), @trucklife-family (The Earth), @wispsi (Vietnam)\n",
      "\n",
      "Voting: @justinchicken (Japan), @lucylin (Thailand)\n",
      "\n",
      "Inactive: @beckymeep (USA), @biggypauls (Philippines), @l0tti3 (South Africa), @livelovejourney (Majorca), @mattsbeamer (Russia), @milliganstravels (Thailand), @moonyoga (Portugal), @ripebanana (Trinidad and Tobago), @starkerz (Cyberspace), @thinkit (Thailand)\n",
      "\n",
      "## Totals\n",
      "**Total active** UK: 221, Expats: 26\n",
      "\n",
      "# Charts\n",
      "This shows the numbers in each category of the active and voting accounts. Level is based on 'VESTS'. \n",
      "Minnow equates to a million VESTS, which is about 543HP and each level is 10x the previous.\n",
      "\n",
      "This shows when people joined Hive. The last few months are shown separately to make any changes obvious.\n",
      "    \n",
      "# UK Witnesses\n",
      "Please support your local witnesses.\n",
      "@someguy123, @ura-soul, @cadawg, @whiterosecoffee, @c0ff33a, @shmoogleosukami, @chisdealhd, @brofund \n"
     ]
    }
   ],
   "source": [
    "with open('users.txt', 'r') as f:\n",
    "    active = []\n",
    "    inactive = []\n",
    "    voting =[]\n",
    "    region = None\n",
    "    now = datetime.utcnow() \n",
    "    total_active = 0\n",
    "    fish = {'redfish': 0, 'minnow':0, 'dolphin':0, 'orca':0, 'whale':0}\n",
    "    age = {'month':0, '2month':0, '3month':0, 'year':0, 'older':0}\n",
    "    for l in f:\n",
    "        fields = l.split(',')\n",
    "        if fields[0] == 'R':\n",
    "            output_region(region, active, voting, inactive)\n",
    "            total_active += len(active) # Will not count the last region, but exclude expats from total anyway\n",
    "            region = fields[1].strip()\n",
    "            active, voting, inactive = [], [], []\n",
    "        else:\n",
    "            name = dname = fields[0].strip()\n",
    "            if '(' in name:\n",
    "                dname = name\n",
    "                name = name[:(name.find('(')-1)]\n",
    "            if not name in hacked:\n",
    "                voter, commenter = useractive(name)\n",
    "                if commenter:\n",
    "                    active.append(dname)\n",
    "                elif voter:\n",
    "                    voting.append(dname)\n",
    "                else: # Inactive\n",
    "                    inactive.append(dname)\n",
    "                if commenter or voter:\n",
    "                    acc = Account(name)\n",
    "                    hp = acc.balances['available'][2].amount_decimal\n",
    "                    if hp > 1E9:\n",
    "                        fish['whale'] += 1\n",
    "                    elif hp > 1E8:\n",
    "                        fish['orca'] += 1\n",
    "                    elif hp > 1E7:\n",
    "                        fish['dolphin'] += 1\n",
    "                    elif hp > 1E6:\n",
    "                        fish['minnow'] += 1\n",
    "                    else:\n",
    "                        fish['redfish'] += 1\n",
    "\n",
    "                    for i in acc.get_account_history(0,1):\n",
    "                        created = cr = datetime.strptime(i['timestamp'], '%Y-%m-%dT%H:%M:%S')\n",
    "                    accage = (now - created).days\n",
    "                    if accage > 365:\n",
    "                        age['older'] += 1\n",
    "                    elif accage > 90:\n",
    "                        age['year'] += 1\n",
    "                    elif accage > 60:\n",
    "                        age['3month'] += 1\n",
    "                    elif accage > 30:\n",
    "                        age['2month'] += 1\n",
    "                    else:\n",
    "                        age['month'] += 1\n",
    "\n",
    "    output_region(region, active, voting, inactive)\n",
    "    print('## Totals')\n",
    "    print(f'**Total active** UK: {total_active}, Expats: {len(active)}')\n",
    "    \n",
    "    print('''\n",
    "# Charts\n",
    "This shows the numbers in each category of the active and voting accounts. Level is based on 'VESTS'. \n",
    "Minnow equates to a million VESTS, which is about 543HP and each level is 10x the previous.\n",
    "\n",
    "This shows when people joined Hive. The last few months are shown separately to make any changes obvious.\n",
    "    \n",
    "# UK Witnesses\n",
    "Please support your local witnesses.\n",
    "@someguy123, @ura-soul, @cadawg, @whiterosecoffee, @c0ff33a, @shmoogleosukami, @chisdealhd, @brofund ''')\n"
   ]
  },
  {
   "cell_type": "code",
   "execution_count": 7,
   "metadata": {},
   "outputs": [
    {
     "name": "stdout",
     "output_type": "stream",
     "text": [
      "{'redfish': 217, 'minnow': 95, 'dolphin': 33, 'orca': 14, 'whale': 1}\n"
     ]
    },
    {
     "data": {
      "image/png": "[encoded data removed]",
      "text/plain": [
       "<Figure size 576x432 with 1 Axes>"
      ]
     },
     "metadata": {
      "needs_background": "light"
     },
     "output_type": "display_data"
    }
   ],
   "source": [
    "print(fish)\n",
    "fig, ax = plt.subplots()\n",
    "fig.set_size_inches(8,6)\n",
    "plt.bar(fish.keys(), fish.values(), color=['red','green','blue','black','gray']);\n",
    "plt.title('Account Levels')\n",
    "ax.grid()"
   ]
  },
  {
   "cell_type": "code",
   "execution_count": 8,
   "metadata": {},
   "outputs": [
    {
     "name": "stdout",
     "output_type": "stream",
     "text": [
      "{'month': 5, '2month': 14, '3month': 10, 'year': 77, 'older': 254}\n"
     ]
    },
    {
     "data": {
      "image/png": "[encoded data removed]",
      "text/plain": [
       "<Figure size 576x432 with 1 Axes>"
      ]
     },
     "metadata": {
      "needs_background": "light"
     },
     "output_type": "display_data"
    }
   ],
   "source": [
    "print(age)\n",
    "fig, ax = plt.subplots()\n",
    "fig.set_size_inches(8,6)\n",
    "plt.bar(age.keys(), age.values(), color=['red', 'orange', 'green','blue','brown']);\n",
    "plt.title('Account Ages')\n",
    "ax.grid()"
   ]
  },
  {
   "cell_type": "code",
   "execution_count": null,
   "metadata": {},
   "outputs": [],
   "source": []
  }
 ],
 "metadata": {
  "kernelspec": {
   "display_name": "Python 3",
   "language": "python",
   "name": "python3"
  },
  "language_info": {
   "codemirror_mode": {
    "name": "ipython",
    "version": 3
   },
   "file_extension": ".py",
   "mimetype": "text/x-python",
   "name": "python",
   "nbconvert_exporter": "python",
   "pygments_lexer": "ipython3",
   "version": "3.8.5"
  }
 },
 "nbformat": 4,
 "nbformat_minor": 2
}
