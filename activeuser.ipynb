{
 "cells": [
  {
   "cell_type": "code",
   "execution_count": 1,
   "metadata": {},
   "outputs": [],
   "source": [
    "# Build a list of active users suitable for a Hive post\n",
    "# Loads users from file users.txt. Lines starting with R are region and U are users\n",
    "\n",
    "from datetime import datetime, timedelta, date\n",
    "from beem import Hive\n",
    "from beem.account import Account\n",
    "from beem.amount import Amount\n",
    "from beem.comment import Comment\n",
    "from beem.exceptions import ContentDoesNotExistsException\n",
    "from beem.instance import set_shared_blockchain_instance"
   ]
  },
  {
   "cell_type": "code",
   "execution_count": 2,
   "metadata": {},
   "outputs": [],
   "source": [
    "hive = Hive()\n",
    "set_shared_blockchain_instance(hive)\n",
    "stop = datetime.utcnow() - timedelta(days=31) # Checks last month"
   ]
  },
  {
   "cell_type": "code",
   "execution_count": 3,
   "metadata": {},
   "outputs": [],
   "source": [
    "def useractive(user):\n",
    "    # Work back looking for last post/comment or vote\n",
    "    acc = Account(user)#, blockchain_instance=hive)\n",
    "    voted = commented = False\n",
    "\n",
    "    for a in acc.history_reverse(stop=stop, only_ops=[\"vote\", \n",
    "                                                      \"comment\"]):\n",
    "        if a[\"type\"] == \"vote\":\n",
    "            voted = True\n",
    "        if a[\"author\"] == user:\n",
    "            if a[\"type\"] == \"comment\":\n",
    "                commented = True\n",
    "                break # Don't need to check if they voted as well\n",
    "            \n",
    "    return (voted, commented)"
   ]
  },
  {
   "cell_type": "code",
   "execution_count": 16,
   "metadata": {},
   "outputs": [],
   "source": [
    "def output_region(region, active, voting, inactive):\n",
    "    if region != None:\n",
    "        act, voter, inact = len(active), len(voting), len(inactive)\n",
    "        print(f'# {region} ({act}/{voter}/{inact})')\n",
    "        if act:\n",
    "            print('@'+ (', @'.join(sorted(active))))\n",
    "            print()\n",
    "        if voter:\n",
    "            print('Voting: @'+ (', @'.join(sorted(voting))))\n",
    "            print()\n",
    "        if inact:\n",
    "            print('Inactive: @'+ (', @'.join(sorted(inactive))))\n",
    "            print()"
   ]
  },
  {
   "cell_type": "code",
   "execution_count": 18,
   "metadata": {},
   "outputs": [
    {
     "name": "stdout",
     "output_type": "stream",
     "text": [
      "# London & the South East (27/5/4)\n",
      "@adetorrent, @andy4475, @atomcollector, @basilmarples, @bleepcoin, @chris-uk, @cryptogee, @dannyshine, @donatello, @gillianpearce, @kgakakillerg, @lloyddavis, @maneco64, @molometer, @nathanmars, @nickyhavey, @nicolcron, @redrica, @rmsbodybuilding, @robbieallenart, @sergiomendes, @spectrumecons, @stav, @steevc, @stickchumpion, @ultravioletmag, @winkandwoo\n",
      "\n",
      "Voting: @dronegraphica, @ezzy, @kabir88, @nakedverse, @rosa33\n",
      "\n",
      "Inactive: @fleur, @markangeltrueman, @teodora, @todayslight\n",
      "\n",
      "# The Midlands (22/2/2)\n",
      "@abh12345, @article61, @beautifulbullies, @brianbrogan1960, @dannewton, @dawnsart, @dickturpin, @ellenripley, @fastchrisuk, @gribbles, @jaytaylor, @neilru75, @neopch, @opheliafu, @revisesociology, @richgaynor, @rimicane, @rthelly, @shanibeer, @shmoogleosukami, @starkerz, @ura-soul\n",
      "\n",
      "Voting: @leighscotford, @skaarl\n",
      "\n",
      "Inactive: @bettynoir, @martaesperanza\n",
      "\n",
      "# The South West (7/1/0)\n",
      "@davidlionfish, @jimbobbill, @jonboka, @perceptualflaws, @sharpshot, @sunsethunter, @wolven-znz\n",
      "\n",
      "Voting: @adambarratt\n",
      "\n",
      "# The North (14/4/1)\n",
      "@adamfryda-art, @ashtv, @c0ff33a, @darrenclaxton, @dizzydiscovery, @goblinknackers, @lastravage, @pcste, @raj808, @slobberchops, @someguy123, @stevenwood, @teamhumble, @vraba\n",
      "\n",
      "Voting: @artonmysleeve, @cryptocurator, @jskitty, @whiterosecoffee\n",
      "\n",
      "Inactive: @mckeever\n",
      "\n",
      "# Scotland (6/1/2)\n",
      "@barge, @cadawg, @camuel, @epicdave, @kevmcc, @meesterboom\n",
      "\n",
      "Voting: @btcvenom\n",
      "\n",
      "Inactive: @danaidhbee, @jubei333\n",
      "\n",
      "# Wales (4/3/1)\n",
      "@grindle, @louisthomas, @theturtleproject, @welshstacker\n",
      "\n",
      "Voting: @elizabethharvey, @p-props, @stevelivingston\n",
      "\n",
      "Inactive: @pennsif\n",
      "\n",
      "# Northern Ireland (0/1/0)\n",
      "Voting: @silverstackeruk\n",
      "\n",
      "# Somewhere in the UK... (4/2/0)\n",
      "@fadetoblack, @mudcat36, @raymondspeaks, @tommyrobinson\n",
      "\n",
      "Voting: @gmuxx, @pjau\n",
      "\n",
      "# Expats (9/3/1)\n",
      "@cryptoandcoffee (South Africa), @diveratt (Philippines), @livinguktaiwan (Taiwan), @lucylin, @millycf1976 (Philippines), @minismallholding (Australia), @moonyoga (Portugal), @nathen007 (Thailand), @scubahead (Philippines)\n",
      "\n",
      "Voting: @jeffandhisguitar (SE Asia), @rycharde (@accelerator Thailand), @tggr (Singapore)\n",
      "\n",
      "Inactive: @biggypauls (Philippines)\n",
      "\n",
      "\n",
      "Total active UK: 84, Active expats: 9\n"
     ]
    }
   ],
   "source": [
    "with open('users.txt', 'r') as f:\n",
    "    active = []\n",
    "    inactive = []\n",
    "    voting =[]\n",
    "    region = None\n",
    "    total_active = 0\n",
    "    for l in f:\n",
    "        #print(l)\n",
    "        t, n = l.split(',')\n",
    "        if t == 'R':\n",
    "            output_region(region, active, voting, inactive)\n",
    "            total_active += len(active)\n",
    "            region = n.strip()\n",
    "            active, voting, inactive = [], [], []\n",
    "        else:\n",
    "            name = dname = n.strip()\n",
    "            if '(' in name:\n",
    "                dname = name\n",
    "                name = name[:(name.find('(')-1)]\n",
    "                \n",
    "            v, c = useractive(name)\n",
    "            if c:\n",
    "                active.append(dname)\n",
    "            elif v:\n",
    "                voting.append(dname)\n",
    "            else:\n",
    "                inactive.append(dname)\n",
    "    output_region(region, active, voting, inactive)\n",
    "    print(f'\\nTotal active UK: {total_active}, Active expats: {len(active)}')"
   ]
  },
  {
   "cell_type": "code",
   "execution_count": null,
   "metadata": {},
   "outputs": [],
   "source": []
  }
 ],
 "metadata": {
  "kernelspec": {
   "display_name": "Python 3",
   "language": "python",
   "name": "python3"
  },
  "language_info": {
   "codemirror_mode": {
    "name": "ipython",
    "version": 3
   },
   "file_extension": ".py",
   "mimetype": "text/x-python",
   "name": "python",
   "nbconvert_exporter": "python",
   "pygments_lexer": "ipython3",
   "version": "3.7.4"
  }
 },
 "nbformat": 4,
 "nbformat_minor": 2
}
