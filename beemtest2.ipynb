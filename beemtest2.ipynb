{
 "cells": [
  {
   "cell_type": "code",
   "execution_count": 1,
   "metadata": {},
   "outputs": [],
   "source": [
    "from datetime import datetime, timedelta, date\n",
    "from beem import Hive\n",
    "from beem.account import Account\n",
    "from beem.amount import Amount\n",
    "from beem.comment import Comment\n",
    "from beem.exceptions import ContentDoesNotExistsException\n",
    "from beem.instance import set_shared_blockchain_instance\n",
    "import math"
   ]
  },
  {
   "cell_type": "code",
   "execution_count": 2,
   "metadata": {},
   "outputs": [],
   "source": [
    "def human_diff(then):\n",
    "    # Convert string UTC timestamp to readable difference from now\n",
    "    now = datetime.utcnow()\n",
    "    diff = now - datetime.strptime(then, \"%Y-%m-%dT%H:%M:%S\")\n",
    "    if diff >= timedelta(days=1):\n",
    "        s = str(math.floor(diff.total_seconds()/86400)) + 'd'\n",
    "    elif diff >= timedelta(hours=1):\n",
    "        s = str(math.floor(diff.total_seconds()/3600)) + 'h'\n",
    "    elif diff >= timedelta(minutes=1):\n",
    "        s = str(math.floor(diff.total_seconds()/60)) + 'm'\n",
    "    else:\n",
    "        s = str(math.floor(diff.total_seconds())) + 's'\n",
    "    return s\n"
   ]
  },
  {
   "cell_type": "code",
   "execution_count": 3,
   "metadata": {},
   "outputs": [],
   "source": [
    "hive = Hive()\n",
    "user ='steevc'\n",
    "max_lines = 10\n",
    "set_shared_blockchain_instance(hive)\n",
    "acc = Account(user)#, blockchain_instance=hive)\n",
    "stop = datetime.utcnow() - timedelta(days=1)\n"
   ]
  },
  {
   "cell_type": "code",
   "execution_count": 7,
   "metadata": {},
   "outputs": [
    {
     "name": "stdout",
     "output_type": "stream",
     "text": [
      "Incoming votes\n",
      "37m ago fersher (-100.0%) upvote http://peakd.com/@steevc/re-abh12345-qie806\n",
      "1h ago fersher (-100.0%) upvote http://peakd.com/@steevc/actifit-steevc-20201018t101705371z\n",
      "2h ago steemseph (100.0%) upvote http://peakd.com/@steevc/re-keys-defender-qiebvp\n",
      "3h ago wagnertamanaha (50.0%) upvote http://peakd.com/@steevc/follow-friday-the-value-may-go-down-as-well-as-up\n",
      "4h ago astil.codex (70.0%) upvote http://peakd.com/@steevc/follow-friday-the-value-may-go-down-as-well-as-up\n",
      "5h ago sfr-mod-fund (100.0%) upvote http://peakd.com/@steevc/re-anthonyadavisii-qindf4\n",
      "5h ago d-cent (100.0%) upvote http://peakd.com/@steevc/re-anthonyadavisii-qindf4\n",
      "5h ago cringecoin (100.0%) upvote http://peakd.com/@steevc/re-anthonyadavisii-qindf4\n",
      "5h ago anondelegate (100.0%) upvote http://peakd.com/@steevc/re-anthonyadavisii-qindf4\n",
      "6h ago steemflagrewards (100.0%) upvote http://peakd.com/@steevc/re-anthonyadavisii-qindf4\n"
     ]
    }
   ],
   "source": [
    "i = 0\n",
    "print('Incoming votes')\n",
    "for a in acc.history_reverse(stop=stop, only_ops=[\"vote\"]):\n",
    "    #print(a)\n",
    "    if a[\"author\"] == user:\n",
    "        print(f'{human_diff(a[\"timestamp\"])} ago {a[\"voter\"]} ({a[\"weight\"]/100}%) upvote http://peakd.com/@{user}/{a[\"permlink\"]}')\n",
    "        i += 1\n",
    "        if i > max_lines - 1:\n",
    "            break\n"
   ]
  },
  {
   "cell_type": "code",
   "execution_count": 8,
   "metadata": {},
   "outputs": [
    {
     "name": "stdout",
     "output_type": "stream",
     "text": [
      "Curation rewards\n",
      "1h ago 0.382 HP for http://peakd.com/@revisesociology/what-are-the-best-splinterlands-cards-to-level-up-next-dragon-splinter\n",
      "2h ago 0.218 HP for http://peakd.com/@normie.fitness/my-running-app-screwed-up-and-the-results-are-amazing\n",
      "5h ago 0.254 HP for http://peakd.com/@comiccat/always-nice-and-slow-on-caturday-myanimalphotography\n",
      "5h ago 0.163 HP for http://peakd.com/@northwestnomad/qibu7r\n",
      "6h ago 0.230 HP for http://peakd.com/@rmsadkri/did-you-connect-your-metamask-to-leo\n",
      "6h ago 0.447 HP for http://peakd.com/@ultratrain/actifit-ultratrain-20201017t023152087z\n",
      "8h ago 0.618 HP for http://peakd.com/@the-bitcoin-dood/we-have-to-make-the-change-before-we-can-actually-change-anything\n",
      "9h ago 0.241 HP for http://peakd.com/@starstrings01/what-are-my-pet-peeves-or-or-day-26-of-30-days-bloggingchallenge\n",
      "10h ago 0.150 HP for http://peakd.com/@battleaxe/random-musings-and-non-random-posts-this-post-contains-legal-amounts-of-awesomeness\n",
      "10h ago 0.680 HP for http://peakd.com/@molometer/fujifilm-xpro-2-digital-camera-full-auto-mode\n"
     ]
    }
   ],
   "source": [
    "print('Curation rewards')\n",
    "for i, reward in enumerate(acc.history_reverse(stop=stop, only_ops=[\"curation_reward\"])):\n",
    "    print(f'{human_diff(reward[\"timestamp\"])} ago {acc.blockchain.vests_to_hp(Amount(reward[\"reward\"])):.3f} HP for http://peakd.com/@{reward[\"comment_author\"]}/{reward[\"comment_permlink\"]}')\n",
    "    if i == max_lines - 1:\n",
    "          break\n"
   ]
  },
  {
   "cell_type": "code",
   "execution_count": 59,
   "metadata": {},
   "outputs": [
    {
     "name": "stdout",
     "output_type": "stream",
     "text": [
      "{'author': 'steevc', 'permlink': 're-solominer-qiaw5l', 'payout': {'amount': '489', 'precision': 3, 'nai': '@@000000013'}, 'author_rewards': 1713, 'total_payout_value': {'amount': '244', 'precision': 3, 'nai': '@@000000013'}, 'curator_payout_value': {'amount': '244', 'precision': 3, 'nai': '@@000000013'}, 'beneficiary_payout_value': {'amount': '0', 'precision': 3, 'nai': '@@000000013'}, 'trx_id': '0000000000000000000000000000000000000000', 'block': 48051077, 'trx_in_block': 4294967295, 'op_in_trx': 0, 'virtual_op': 5, 'timestamp': '2020-10-23T15:25:00', 'operation_id': 0, 'account': 'steevc', 'type': 'comment_reward', '_id': '850995e63cce7106a55860fde3b4bfbc6806976d', 'index': 1139371}\n",
      "2020-10-23T15:25:00 0.0002544545985331809 HP for http://peakd.com/@steevc/re-solominer-qiaw5l\n"
     ]
    }
   ],
   "source": [
    "# Still looking at calculating rewards\n",
    "for i, reward in enumerate(acc.history_reverse(stop=stop, only_ops=[\"comment_reward\"])):\n",
    "    print(reward)\n",
    "    print(f'{reward[\"timestamp\"]} {acc.blockchain.vests_to_hp(Amount(reward[\"payout\"]))} HP for http://peakd.com/@{reward[\"author\"]}/{reward[\"permlink\"]}')\n",
    "    break\n",
    "    if i == 9:\n",
    "          break\n"
   ]
  },
  {
   "cell_type": "code",
   "execution_count": null,
   "metadata": {},
   "outputs": [],
   "source": []
  }
 ],
 "metadata": {
  "kernelspec": {
   "display_name": "Python 3",
   "language": "python",
   "name": "python3"
  },
  "language_info": {
   "codemirror_mode": {
    "name": "ipython",
    "version": 3
   },
   "file_extension": ".py",
   "mimetype": "text/x-python",
   "name": "python",
   "nbconvert_exporter": "python",
   "pygments_lexer": "ipython3",
   "version": "3.7.4"
  }
 },
 "nbformat": 4,
 "nbformat_minor": 2
}
